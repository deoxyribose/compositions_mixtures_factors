{
 "cells": [
  {
   "cell_type": "code",
   "execution_count": 1,
   "metadata": {},
   "outputs": [],
   "source": [
    "import numpy as np\n",
    "import torch\n",
    "from pyro import distributions as dist\n",
    "from pyro.poutine import trace, uncondition\n",
    "from torch.distributions import constraints\n",
    "import pyro.optim\n",
    "from pyro.infer import SVI, Trace_ELBO, TraceGraph_ELBO, TraceEnum_ELBO, config_enumerate\n",
    "from pyro.infer import NUTS,MCMC\n",
    "import matplotlib.pyplot as plt\n",
    "import pdb\n",
    "import sys\n",
    "sys.path.append(\"../..\")\n",
    "from models_and_guides import *\n",
    "from initializations import *"
   ]
  },
  {
   "cell_type": "code",
   "execution_count": 2,
   "metadata": {},
   "outputs": [],
   "source": [
    "from pyro.infer.autoguide import AutoDiagonalNormal"
   ]
  },
  {
   "cell_type": "code",
   "execution_count": 3,
   "metadata": {},
   "outputs": [],
   "source": [
    "def piecewise_eval(knot_x, knot_y, x):\n",
    "    # I haven't unit tested this:\n",
    "    n_knots = knot_x.size(-1)\n",
    "    assert n_knots >= 2\n",
    "    knot_x, idx = knot_x.sort(dim=-1)\n",
    "    knot_y = knot_y.gather(-1,idx)\n",
    "    lb = (x.unsqueeze(-1) > knot_x[...,1:].unsqueeze(-2)).long().sum(-1)\n",
    "    lb[lb >= n_knots - 1] = n_knots - 2\n",
    "    ub = lb + 1\n",
    "    x0 = knot_x.gather(-1,lb)\n",
    "    x1 = knot_x.gather(-1,ub)\n",
    "    y0 = knot_y.gather(-1,lb)\n",
    "    y1 = knot_y.gather(-1,ub)\n",
    "    #slopes = (y1-y0)/(x1-x0)\n",
    "    slopes = (y1-y0)/(x1-x0).clamp(min=1e-8)\n",
    "    return slopes*x + (y1 - slopes*x1)\n",
    "    \n",
    "#def piecewise_regression(x, y, n_pieces=3):\n",
    "#    knot_x = pyro.sample(\"knot_x\",\n",
    "#                         dist.Uniform(0, 100)\n",
    "#                             .expand([n_pieces]).to_event(0))\n",
    "#    knot_y = pyro.sample(\"knot_y\",\n",
    "#                         dist.Normal(0, 100)\n",
    "#                             .expand([n_pieces]).to_event(0))\n",
    "#    y_pred = piecewise_eval(knot_x, knot_y, x)\n",
    "#    y_scale = pyro.sample(\"y_scale\", dist.LogNormal(0, 1))\n",
    "#    y = pyro.sample(\"obs\", dist.Normal(y_pred, y_scale),\n",
    "#                obs=y)\n",
    "#    return y\n",
    "\n",
    "def piecewise_regression(x, y, n_pieces=3):\n",
    "    knot_x = pyro.sample(\"knot_x\",\n",
    "                         dist.Uniform(0, 1)\n",
    "                             .expand([n_pieces]).to_event(0))\n",
    "    knot_y = pyro.sample(\"knot_y\",\n",
    "                         dist.Normal(0, 1)\n",
    "                             .expand([n_pieces]).to_event(0))\n",
    "    x_len = x.shape[0]\n",
    "    y_pred = piecewise_eval(x_len*knot_x, x_len*knot_y, x)\n",
    "    y_scale = pyro.sample(\"y_scale\", dist.LogNormal(0, 1))\n",
    "    y = pyro.sample(\"obs\", dist.Normal(y_pred, y_scale),\n",
    "                obs=y)\n",
    "    return y"
   ]
  },
  {
   "cell_type": "code",
   "execution_count": 4,
   "metadata": {},
   "outputs": [],
   "source": [
    "N = 100\n",
    "x = torch.arange(N)\n",
    "n_pieces = 5\n",
    "dgp_trace = trace(uncondition(piecewise_regression)).get_trace(x,x,n_pieces)"
   ]
  },
  {
   "cell_type": "code",
   "execution_count": 5,
   "metadata": {},
   "outputs": [],
   "source": [
    "dgp_vars = {name:dgp_trace.nodes[name]['value'] for name in dgp_trace.reparameterized_nodes}"
   ]
  },
  {
   "cell_type": "code",
   "execution_count": 6,
   "metadata": {},
   "outputs": [],
   "source": [
    "y = dgp_vars['obs']"
   ]
  },
  {
   "cell_type": "code",
   "execution_count": 7,
   "metadata": {},
   "outputs": [
    {
     "data": {
      "text/plain": [
       "<matplotlib.collections.PathCollection at 0x7f6944c790b8>"
      ]
     },
     "execution_count": 7,
     "metadata": {},
     "output_type": "execute_result"
    },
    {
     "data": {
      "image/png": "[encoded data removed]",
      "text/plain": [
       "<Figure size 432x288 with 1 Axes>"
      ]
     },
     "metadata": {
      "needs_background": "light"
     },
     "output_type": "display_data"
    }
   ],
   "source": [
    "plt.plot(x,y)\n",
    "plt.scatter(N*dgp_vars['knot_x'],N*dgp_vars['knot_y'])"
   ]
  },
  {
   "cell_type": "code",
   "execution_count": 8,
   "metadata": {},
   "outputs": [],
   "source": [
    "from pyro.infer.autoguide.initialization import init_to_sample"
   ]
  },
  {
   "cell_type": "code",
   "execution_count": 9,
   "metadata": {},
   "outputs": [],
   "source": [
    "guide = AutoDiagonalNormal(piecewise_regression,init_loc_fn=init_to_sample)"
   ]
  },
  {
   "cell_type": "code",
   "execution_count": 10,
   "metadata": {},
   "outputs": [],
   "source": [
    "pyro.clear_param_store()"
   ]
  },
  {
   "cell_type": "code",
   "execution_count": 11,
   "metadata": {},
   "outputs": [],
   "source": [
    "optim = pyro.optim.Adam({\"lr\": 0.06})\n",
    "elbo = Trace_ELBO(num_particles=10, vectorize_particles=True,max_plate_nesting=1)\n",
    "svi = SVI(piecewise_regression, guide, optim, loss=elbo)"
   ]
  },
  {
   "cell_type": "code",
   "execution_count": 12,
   "metadata": {
    "scrolled": false
   },
   "outputs": [],
   "source": [
    "losses = []\n",
    "guide(x,y,n_pieces)\n",
    "param_history = dict({k:v.unsqueeze(0) for k,v in pyro.get_param_store().items()})\n",
    "gradient_norms = defaultdict(list)\n",
    "# register gradient hooks for monitoring\n",
    "for name, value in pyro.get_param_store().named_parameters():\n",
    "    value.register_hook(lambda g, name=name: gradient_norms[name].append(g.norm().item()))\n",
    "\n",
    "for i in range(10000):\n",
    "    losses.append(svi.step(x,y,n_pieces))\n",
    "    param_history = {k:torch.cat([param_history[k],v.unsqueeze(0).detach()],dim=0) for k,v in pyro.get_param_store().items()}"
   ]
  },
  {
   "cell_type": "code",
   "execution_count": 13,
   "metadata": {
    "scrolled": true
   },
   "outputs": [
    {
     "data": {
      "image/png": "[encoded data removed]",
      "text/plain": [
       "<Figure size 432x288 with 1 Axes>"
      ]
     },
     "metadata": {
      "needs_background": "light"
     },
     "output_type": "display_data"
    }
   ],
   "source": [
    "plt.plot(list(gradient_norms.values())[0])\n",
    "plt.yscale('log')"
   ]
  },
  {
   "cell_type": "code",
   "execution_count": 14,
   "metadata": {},
   "outputs": [
    {
     "data": {
      "text/plain": [
       "[<matplotlib.lines.Line2D at 0x7f68d81d1ef0>]"
      ]
     },
     "execution_count": 14,
     "metadata": {},
     "output_type": "execute_result"
    },
    {
     "data": {
      "image/png": "[encoded data removed]",
      "text/plain": [
       "<Figure size 432x288 with 1 Axes>"
      ]
     },
     "metadata": {
      "needs_background": "light"
     },
     "output_type": "display_data"
    }
   ],
   "source": [
    "plt.plot(losses)"
   ]
  },
  {
   "cell_type": "code",
   "execution_count": 15,
   "metadata": {},
   "outputs": [
    {
     "data": {
      "text/plain": [
       "{'AutoDiagonalNormal.loc': tensor([[ 1.2087, -0.9203, -0.6803,  ..., -0.0426,  1.1307,  0.9878],\n",
       "         [ 1.2087, -0.9203, -0.6803,  ..., -0.0426,  1.1307,  0.9878],\n",
       "         [ 1.1558, -0.9785, -0.6222,  ...,  0.0157,  1.1311,  1.0460],\n",
       "         ...,\n",
       "         [ 0.1801, -1.3535, -0.0609,  ...,  2.8059,  2.1204,  1.9599],\n",
       "         [ 0.1950, -1.3535, -0.0609,  ...,  2.8063,  2.1265,  1.9598],\n",
       "         [ 0.1906, -1.3535, -0.0609,  ...,  2.8126,  2.1297,  1.9598]],\n",
       "        grad_fn=<CatBackward>),\n",
       " 'AutoDiagonalNormal.scale': tensor([[0.1000, 0.1000, 0.1000,  ..., 0.1000, 0.1000, 0.1000],\n",
       "         [0.0942, 0.1062, 0.0942,  ..., 0.1062, 0.1062, 0.1062],\n",
       "         [0.0905, 0.1018, 0.0894,  ..., 0.1081, 0.1067, 0.1113],\n",
       "         ...,\n",
       "         [0.0044, 0.0780, 0.0408,  ..., 0.0163, 0.0202, 0.0902],\n",
       "         [0.0044, 0.0780, 0.0408,  ..., 0.0163, 0.0204, 0.0901],\n",
       "         [0.0045, 0.0780, 0.0408,  ..., 0.0162, 0.0206, 0.0901]],\n",
       "        grad_fn=<CatBackward>)}"
      ]
     },
     "execution_count": 15,
     "metadata": {},
     "output_type": "execute_result"
    }
   ],
   "source": [
    "param_history"
   ]
  },
  {
   "cell_type": "code",
   "execution_count": 16,
   "metadata": {},
   "outputs": [
    {
     "data": {
      "text/plain": [
       "tensor([ 0.1906, -1.3535, -0.0609,  2.7271,  0.1883,  1.9862, -0.1567, -0.2279,\n",
       "         2.8126,  2.1297,  1.9598], grad_fn=<SelectBackward>)"
      ]
     },
     "execution_count": 16,
     "metadata": {},
     "output_type": "execute_result"
    }
   ],
   "source": [
    "param_history['AutoDiagonalNormal.loc'][-1]"
   ]
  },
  {
   "cell_type": "code",
   "execution_count": 20,
   "metadata": {},
   "outputs": [
    {
     "data": {
      "image/png": "[encoded data removed]",
      "text/plain": [
       "<Figure size 432x288 with 1 Axes>"
      ]
     },
     "metadata": {
      "needs_background": "light"
     },
     "output_type": "display_data"
    }
   ],
   "source": [
    "#pred = pyro.infer.predictive.Predictive(uncondition(piecewise_regression),guide=guide,num_samples=10)\n",
    "pred = pyro.infer.predictive.Predictive(pyro.poutine.uncondition(piecewise_regression),guide=guide,num_samples=100)\n",
    "\n",
    "fit = pred(x,y,n_pieces)\n",
    "\n",
    "fit_obs_mean = fit['obs'].mean(0).detach().numpy()\n",
    "fit_obs_std = fit['obs'].std(0).detach().numpy()\n",
    "\n",
    "%matplotlib inline\n",
    "plt.plot(x,y)\n",
    "plt.scatter(N*dgp_vars['knot_x'],N*dgp_vars['knot_y'])\n",
    "plt.errorbar(x,fit_obs_mean,yerr=fit_obs_std,alpha=.2)\n",
    "plt.scatter(N*fit['knot_x'].detach().numpy(),N*fit['knot_y'].detach().numpy())\n",
    "plt.axis('equal');\n",
    "#plt.plot(x,slope_fit*x.numpy()+intercept_fit)\n",
    "#plt.plot(x,fit_obs)"
   ]
  },
  {
   "cell_type": "code",
   "execution_count": 18,
   "metadata": {},
   "outputs": [
    {
     "data": {
      "text/plain": [
       "{'knot_x': tensor([0.4527, 0.8747, 0.5421, 0.4818, 0.1565]),\n",
       " 'knot_y': tensor([-0.1980,  2.6921,  2.0942, -0.3898, -0.1479]),\n",
       " 'y_scale': tensor(1.1730),\n",
       " 'obs': tensor([-11.7124, -12.3975,  -9.8923, -13.2659, -12.1861, -12.3258, -15.2271,\n",
       "         -12.2416, -12.9330, -12.4060, -12.5834, -13.5304, -15.5816, -13.0654,\n",
       "         -13.4857, -16.1616, -15.8941, -14.4335, -15.1976, -15.2923, -17.1095,\n",
       "         -15.4388, -16.4905, -15.4705, -16.4189, -15.3075, -15.2435, -17.5102,\n",
       "         -15.5415, -15.1166, -16.0291, -17.5753, -18.5291, -17.9944, -18.4296,\n",
       "         -18.1210, -17.3153, -17.5919, -17.9441, -18.3558, -19.0449, -16.3671,\n",
       "         -19.6831, -21.6435, -21.1866, -20.6655, -25.8151, -31.5016, -37.7220,\n",
       "          -4.1882,  36.2140,  76.6807, 117.9463, 159.1740, 201.3306, 210.2868,\n",
       "         212.0417, 215.7683, 215.4992, 220.0530, 219.5965, 222.8710, 224.1850,\n",
       "         224.3754, 226.3019, 229.1199, 231.1954, 231.0630, 233.1791, 235.3163,\n",
       "         236.6416, 239.0475, 240.6949, 242.6928, 245.6903, 246.7910, 249.0107,\n",
       "         249.9727, 253.7913, 255.9474, 253.8279, 256.8986, 259.6073, 260.7764,\n",
       "         262.0774, 266.2071, 266.3138, 270.5602, 269.6210, 272.2428, 273.8453,\n",
       "         273.8475, 277.8653, 279.5776, 279.2909, 282.9229, 285.2412, 286.4559,\n",
       "         286.5215, 289.3582])}"
      ]
     },
     "execution_count": 18,
     "metadata": {},
     "output_type": "execute_result"
    }
   ],
   "source": [
    "dgp_vars"
   ]
  },
  {
   "cell_type": "code",
   "execution_count": 19,
   "metadata": {},
   "outputs": [
    {
     "data": {
      "text/plain": [
       "{'knot_x': tensor([[0.5489, 0.1998, 0.4706, 0.9295, 0.5470],\n",
       "         [0.5458, 0.1838, 0.4992, 0.9413, 0.5500],\n",
       "         [0.5459, 0.1986, 0.4980, 0.9502, 0.5406],\n",
       "         [0.5467, 0.2235, 0.4839, 0.9374, 0.5454],\n",
       "         [0.5474, 0.2012, 0.5003, 0.9287, 0.5541],\n",
       "         [0.5473, 0.2095, 0.4842, 0.9420, 0.5521],\n",
       "         [0.5453, 0.2170, 0.4804, 0.9240, 0.5472],\n",
       "         [0.5490, 0.1982, 0.4827, 0.9496, 0.5490],\n",
       "         [0.5475, 0.2326, 0.4971, 0.9333, 0.5518],\n",
       "         [0.5463, 0.2027, 0.4758, 0.9386, 0.5436],\n",
       "         [0.5485, 0.1817, 0.4789, 0.9558, 0.5375],\n",
       "         [0.5470, 0.2144, 0.4834, 0.9420, 0.5716],\n",
       "         [0.5483, 0.2025, 0.4736, 0.9364, 0.5546],\n",
       "         [0.5484, 0.1874, 0.4945, 0.9268, 0.5545],\n",
       "         [0.5478, 0.1980, 0.4805, 0.9356, 0.5481],\n",
       "         [0.5480, 0.1956, 0.4874, 0.9276, 0.5523],\n",
       "         [0.5480, 0.1950, 0.4706, 0.9225, 0.5555],\n",
       "         [0.5460, 0.2280, 0.4889, 0.9259, 0.5424],\n",
       "         [0.5463, 0.2178, 0.4981, 0.9303, 0.5545],\n",
       "         [0.5488, 0.1858, 0.4921, 0.9377, 0.5423],\n",
       "         [0.5473, 0.2136, 0.4890, 0.9178, 0.5452],\n",
       "         [0.5467, 0.2050, 0.4820, 0.9395, 0.5392],\n",
       "         [0.5489, 0.2045, 0.4948, 0.9425, 0.5498],\n",
       "         [0.5481, 0.2039, 0.4933, 0.9406, 0.5509],\n",
       "         [0.5478, 0.2110, 0.4849, 0.9422, 0.5416],\n",
       "         [0.5476, 0.1867, 0.4924, 0.9204, 0.5461],\n",
       "         [0.5462, 0.2051, 0.4752, 0.9466, 0.5453],\n",
       "         [0.5475, 0.2083, 0.5083, 0.9167, 0.5461],\n",
       "         [0.5492, 0.1878, 0.4802, 0.9292, 0.5626],\n",
       "         [0.5483, 0.1984, 0.4908, 0.9363, 0.5321],\n",
       "         [0.5485, 0.1968, 0.4738, 0.9391, 0.5563],\n",
       "         [0.5481, 0.1871, 0.4823, 0.9294, 0.5485],\n",
       "         [0.5481, 0.2235, 0.4705, 0.9448, 0.5478],\n",
       "         [0.5457, 0.2065, 0.4766, 0.9351, 0.5469],\n",
       "         [0.5471, 0.2012, 0.4796, 0.9527, 0.5572],\n",
       "         [0.5494, 0.2248, 0.4834, 0.9358, 0.5530],\n",
       "         [0.5462, 0.2161, 0.4699, 0.9334, 0.5504],\n",
       "         [0.5463, 0.2039, 0.5008, 0.9503, 0.5435],\n",
       "         [0.5461, 0.2083, 0.4958, 0.9386, 0.5456],\n",
       "         [0.5480, 0.1906, 0.4876, 0.9456, 0.5425],\n",
       "         [0.5469, 0.2167, 0.4652, 0.9369, 0.5505],\n",
       "         [0.5491, 0.2153, 0.4752, 0.9353, 0.5571],\n",
       "         [0.5472, 0.2243, 0.4898, 0.9281, 0.5390],\n",
       "         [0.5488, 0.2116, 0.4830, 0.9451, 0.5440],\n",
       "         [0.5473, 0.2236, 0.4877, 0.9373, 0.5506],\n",
       "         [0.5459, 0.1899, 0.4909, 0.9469, 0.5575],\n",
       "         [0.5463, 0.1978, 0.4872, 0.9435, 0.5341],\n",
       "         [0.5474, 0.2012, 0.4918, 0.9316, 0.5441],\n",
       "         [0.5487, 0.2118, 0.4767, 0.9398, 0.5483],\n",
       "         [0.5480, 0.2066, 0.4844, 0.9149, 0.5473],\n",
       "         [0.5471, 0.2265, 0.4689, 0.9469, 0.5545],\n",
       "         [0.5487, 0.1987, 0.4958, 0.9291, 0.5423],\n",
       "         [0.5477, 0.2215, 0.4864, 0.9297, 0.5462],\n",
       "         [0.5478, 0.1841, 0.4815, 0.9421, 0.5445],\n",
       "         [0.5473, 0.2147, 0.4734, 0.9527, 0.5614],\n",
       "         [0.5487, 0.2013, 0.4918, 0.9485, 0.5424],\n",
       "         [0.5474, 0.2357, 0.4759, 0.9347, 0.5514],\n",
       "         [0.5476, 0.1869, 0.4967, 0.9473, 0.5474],\n",
       "         [0.5488, 0.2017, 0.4958, 0.9432, 0.5494],\n",
       "         [0.5488, 0.2112, 0.4751, 0.9468, 0.5530],\n",
       "         [0.5476, 0.2026, 0.4985, 0.9262, 0.5458],\n",
       "         [0.5454, 0.2017, 0.4800, 0.9356, 0.5558],\n",
       "         [0.5486, 0.1950, 0.4706, 0.9263, 0.5408],\n",
       "         [0.5467, 0.2228, 0.5001, 0.9493, 0.5518],\n",
       "         [0.5479, 0.2065, 0.5039, 0.9452, 0.5452],\n",
       "         [0.5478, 0.2102, 0.4871, 0.9248, 0.5479],\n",
       "         [0.5472, 0.2213, 0.4841, 0.9429, 0.5558],\n",
       "         [0.5491, 0.1893, 0.4762, 0.9540, 0.5416],\n",
       "         [0.5479, 0.2010, 0.4880, 0.9224, 0.5537],\n",
       "         [0.5465, 0.2248, 0.4817, 0.9418, 0.5495],\n",
       "         [0.5469, 0.2049, 0.4833, 0.9337, 0.5555],\n",
       "         [0.5466, 0.2047, 0.4943, 0.9392, 0.5606],\n",
       "         [0.5498, 0.2122, 0.4738, 0.9425, 0.5462],\n",
       "         [0.5485, 0.2195, 0.4658, 0.9259, 0.5488],\n",
       "         [0.5472, 0.2121, 0.4759, 0.9392, 0.5503],\n",
       "         [0.5479, 0.2101, 0.4629, 0.9446, 0.5456],\n",
       "         [0.5466, 0.2071, 0.4896, 0.9368, 0.5307],\n",
       "         [0.5481, 0.2089, 0.4937, 0.9312, 0.5565],\n",
       "         [0.5487, 0.1827, 0.5009, 0.9457, 0.5392],\n",
       "         [0.5491, 0.1976, 0.4865, 0.9371, 0.5359],\n",
       "         [0.5462, 0.2313, 0.4843, 0.9315, 0.5380],\n",
       "         [0.5475, 0.1969, 0.4833, 0.9423, 0.5431],\n",
       "         [0.5483, 0.2082, 0.4895, 0.9281, 0.5467],\n",
       "         [0.5473, 0.1950, 0.4951, 0.9483, 0.5461],\n",
       "         [0.5470, 0.2218, 0.4898, 0.9369, 0.5484],\n",
       "         [0.5491, 0.1990, 0.4764, 0.9223, 0.5504],\n",
       "         [0.5476, 0.2024, 0.4799, 0.9258, 0.5485],\n",
       "         [0.5461, 0.2118, 0.4881, 0.9311, 0.5522],\n",
       "         [0.5479, 0.2199, 0.4761, 0.9394, 0.5396],\n",
       "         [0.5489, 0.1871, 0.4598, 0.9515, 0.5578],\n",
       "         [0.5471, 0.2101, 0.4687, 0.9488, 0.5489],\n",
       "         [0.5468, 0.2023, 0.4827, 0.9389, 0.5508],\n",
       "         [0.5461, 0.1958, 0.4918, 0.9432, 0.5495],\n",
       "         [0.5469, 0.2200, 0.4852, 0.9310, 0.5436],\n",
       "         [0.5479, 0.1993, 0.4829, 0.9413, 0.5567],\n",
       "         [0.5480, 0.2091, 0.5135, 0.9296, 0.5506],\n",
       "         [0.5471, 0.1995, 0.4977, 0.9376, 0.5392],\n",
       "         [0.5479, 0.1748, 0.4909, 0.9288, 0.5441],\n",
       "         [0.5480, 0.1948, 0.4956, 0.9407, 0.5478],\n",
       "         [0.5489, 0.1985, 0.4891, 0.9451, 0.5434]], grad_fn=<ViewBackward>),\n",
       " 'knot_y': tensor([[ 1.9562, -0.1514, -0.2331,  2.8198,  2.1207],\n",
       "         [ 1.8955, -0.1769, -0.2421,  2.7685,  2.1069],\n",
       "         [ 1.9759, -0.1428, -0.2003,  2.7999,  2.1215],\n",
       "         [ 2.0118, -0.1675, -0.2800,  2.8278,  2.1294],\n",
       "         [ 1.9829, -0.1493, -0.2563,  2.7754,  2.1222],\n",
       "         [ 1.9802, -0.1658, -0.2167,  2.7908,  2.1286],\n",
       "         [ 1.9581, -0.1619, -0.2500,  2.8177,  2.1345],\n",
       "         [ 1.9530, -0.1650, -0.2132,  2.8058,  2.1367],\n",
       "         [ 1.9912, -0.1590, -0.2193,  2.8118,  2.1051],\n",
       "         [ 1.9861, -0.1855, -0.2220,  2.8218,  2.1265],\n",
       "         [ 1.9921, -0.1386, -0.2489,  2.8319,  2.1498],\n",
       "         [ 1.9647, -0.1695, -0.2256,  2.8112,  2.1292],\n",
       "         [ 1.9780, -0.1601, -0.2300,  2.8213,  2.1328],\n",
       "         [ 1.9873, -0.1779, -0.2086,  2.8307,  2.1657],\n",
       "         [ 2.0616, -0.1496, -0.2327,  2.7912,  2.1637],\n",
       "         [ 1.9650, -0.2111, -0.2387,  2.8238,  2.1468],\n",
       "         [ 1.9622, -0.1557, -0.2580,  2.8199,  2.1369],\n",
       "         [ 1.9668, -0.1621, -0.2465,  2.8265,  2.1329],\n",
       "         [ 1.9744, -0.1571, -0.2504,  2.8223,  2.1188],\n",
       "         [ 2.0811, -0.1539, -0.2545,  2.7939,  2.1655],\n",
       "         [ 1.9272, -0.1612, -0.2134,  2.8088,  2.1519],\n",
       "         [ 2.0234, -0.1774, -0.2459,  2.8053,  2.0989],\n",
       "         [ 1.9887, -0.1721, -0.2242,  2.8018,  2.1606],\n",
       "         [ 1.8810, -0.1424, -0.2132,  2.8295,  2.0875],\n",
       "         [ 2.0218, -0.1522, -0.2219,  2.8162,  2.1080],\n",
       "         [ 1.9799, -0.1855, -0.2277,  2.7831,  2.1159],\n",
       "         [ 2.0715, -0.2066, -0.2269,  2.7970,  2.1215],\n",
       "         [ 2.0258, -0.1712, -0.2441,  2.8099,  2.1066],\n",
       "         [ 2.0062, -0.1275, -0.2217,  2.7786,  2.1320],\n",
       "         [ 1.9165, -0.1634, -0.2095,  2.8085,  2.1640],\n",
       "         [ 1.9656, -0.1529, -0.2049,  2.8149,  2.1147],\n",
       "         [ 1.9708, -0.1254, -0.2574,  2.8385,  2.1425],\n",
       "         [ 2.0018, -0.2117, -0.2414,  2.8517,  2.1158],\n",
       "         [ 2.0304, -0.1643, -0.2184,  2.7861,  2.1259],\n",
       "         [ 1.9956, -0.2024, -0.2410,  2.8157,  2.0716],\n",
       "         [ 2.0540, -0.1657, -0.2574,  2.8404,  2.1488],\n",
       "         [ 2.0570, -0.1826, -0.2276,  2.8227,  2.1431],\n",
       "         [ 1.9506, -0.1557, -0.2066,  2.8171,  2.0954],\n",
       "         [ 1.9426, -0.1639, -0.2429,  2.8065,  2.1399],\n",
       "         [ 1.9381, -0.1731, -0.2507,  2.8256,  2.1485],\n",
       "         [ 2.0292, -0.1403, -0.2434,  2.8197,  2.0946],\n",
       "         [ 2.0011, -0.1375, -0.2512,  2.8188,  2.1065],\n",
       "         [ 1.9767, -0.1335, -0.2312,  2.7902,  2.1487],\n",
       "         [ 2.0118, -0.1435, -0.2332,  2.7938,  2.1057],\n",
       "         [ 2.0112, -0.1526, -0.2335,  2.7984,  2.1518],\n",
       "         [ 1.9709, -0.1668, -0.2427,  2.8064,  2.0994],\n",
       "         [ 2.0062, -0.1748, -0.2012,  2.8305,  2.1367],\n",
       "         [ 1.9748, -0.1272, -0.2174,  2.7979,  2.1355],\n",
       "         [ 2.0305, -0.1664, -0.2487,  2.8200,  2.1224],\n",
       "         [ 1.9732, -0.1417, -0.1910,  2.8089,  2.1380],\n",
       "         [ 1.9628, -0.1507, -0.2489,  2.8199,  2.1494],\n",
       "         [ 2.0145, -0.1415, -0.2505,  2.8130,  2.1843],\n",
       "         [ 1.9701, -0.1657, -0.2194,  2.7977,  2.1665],\n",
       "         [ 1.9824, -0.1739, -0.2407,  2.7673,  2.1448],\n",
       "         [ 2.0736, -0.1486, -0.2301,  2.8154,  2.1130],\n",
       "         [ 2.0219, -0.1458, -0.2391,  2.8212,  2.1154],\n",
       "         [ 1.9552, -0.1467, -0.2314,  2.8219,  2.0963],\n",
       "         [ 2.0328, -0.1302, -0.2108,  2.8416,  2.1409],\n",
       "         [ 1.9918, -0.1502, -0.2417,  2.8387,  2.1362],\n",
       "         [ 1.9567, -0.1593, -0.2265,  2.7625,  2.1090],\n",
       "         [ 1.9698, -0.1945, -0.2404,  2.8298,  2.1416],\n",
       "         [ 2.0140, -0.1797, -0.2195,  2.8140,  2.1262],\n",
       "         [ 2.0334, -0.1530, -0.2138,  2.8314,  2.1340],\n",
       "         [ 2.0334, -0.1199, -0.2477,  2.8250,  2.1244],\n",
       "         [ 1.9697, -0.1235, -0.2345,  2.7960,  2.0945],\n",
       "         [ 2.0014, -0.1630, -0.2267,  2.8175,  2.1249],\n",
       "         [ 1.9822, -0.1837, -0.2171,  2.8132,  2.1222],\n",
       "         [ 1.9811, -0.1299, -0.2615,  2.8305,  2.1169],\n",
       "         [ 2.0424, -0.1293, -0.2263,  2.8275,  2.1346],\n",
       "         [ 1.9658, -0.1329, -0.2082,  2.8319,  2.1345],\n",
       "         [ 1.9469, -0.1646, -0.2257,  2.8120,  2.1426],\n",
       "         [ 1.9995, -0.1498, -0.2177,  2.8169,  2.1364],\n",
       "         [ 1.9664, -0.1655, -0.2264,  2.8035,  2.1452],\n",
       "         [ 1.9827, -0.1566, -0.2281,  2.8368,  2.1022],\n",
       "         [ 1.9980, -0.1786, -0.2469,  2.8368,  2.1386],\n",
       "         [ 1.9655, -0.1550, -0.2584,  2.8085,  2.1141],\n",
       "         [ 2.0138, -0.1261, -0.2605,  2.8122,  2.1481],\n",
       "         [ 2.0919, -0.1600, -0.2352,  2.8276,  2.1481],\n",
       "         [ 1.9461, -0.1686, -0.2340,  2.8305,  2.1309],\n",
       "         [ 2.0693, -0.1619, -0.1948,  2.8013,  2.1548],\n",
       "         [ 1.9406, -0.1446, -0.2389,  2.8136,  2.1537],\n",
       "         [ 2.0079, -0.1492, -0.2039,  2.8275,  2.1161],\n",
       "         [ 2.0628, -0.1309, -0.2508,  2.8033,  2.1263],\n",
       "         [ 2.0439, -0.1508, -0.2167,  2.8382,  2.1296],\n",
       "         [ 1.9711, -0.1219, -0.2212,  2.8297,  2.1455],\n",
       "         [ 2.0024, -0.1404, -0.2333,  2.8218,  2.1094],\n",
       "         [ 1.9743, -0.1452, -0.2115,  2.8382,  2.1280],\n",
       "         [ 2.0367, -0.1512, -0.1975,  2.8046,  2.0954],\n",
       "         [ 1.9462, -0.1600, -0.2062,  2.8195,  2.1377],\n",
       "         [ 1.9858, -0.1495, -0.2119,  2.8195,  2.1145],\n",
       "         [ 1.9925, -0.1629, -0.2824,  2.7802,  2.1630],\n",
       "         [ 1.9233, -0.1339, -0.2680,  2.7910,  2.1229],\n",
       "         [ 1.9836, -0.1545, -0.2316,  2.8131,  2.1501],\n",
       "         [ 2.0277, -0.1344, -0.2356,  2.8239,  2.1296],\n",
       "         [ 1.9892, -0.1917, -0.2271,  2.7931,  2.0808],\n",
       "         [ 2.0199, -0.1714, -0.2393,  2.8139,  2.1148],\n",
       "         [ 1.9194, -0.1653, -0.2361,  2.7838,  2.1059],\n",
       "         [ 1.9615, -0.1290, -0.2030,  2.8012,  2.1352],\n",
       "         [ 2.0549, -0.1744, -0.2561,  2.8191,  2.1684],\n",
       "         [ 1.9990, -0.1761, -0.2532,  2.8049,  2.1179]], grad_fn=<ViewBackward>),\n",
       " 'y_scale': tensor([7.1876, 6.4543, 6.9796, 6.7345, 6.8881, 6.5537, 7.3514, 6.6188, 6.6670,\n",
       "         6.6886, 8.3512, 6.9822, 7.4492, 6.8111, 8.1811, 7.4882, 6.1842, 6.8259,\n",
       "         7.0189, 5.7362, 7.3989, 6.7975, 7.1617, 6.0891, 6.7314, 6.1998, 7.2171,\n",
       "         7.7838, 7.3282, 7.9061, 7.7465, 6.7959, 7.6265, 7.6012, 8.2671, 6.7203,\n",
       "         7.2903, 8.0677, 6.9165, 6.4661, 7.6687, 6.8203, 6.8226, 8.0787, 7.0764,\n",
       "         7.2531, 8.6417, 6.6097, 6.7561, 7.4599, 6.1761, 7.0244, 8.4885, 6.5675,\n",
       "         7.4135, 8.6145, 6.9261, 6.6928, 6.8605, 7.8449, 7.0296, 6.9857, 7.7890,\n",
       "         7.8254, 6.2024, 7.5329, 7.3743, 6.8605, 7.0186, 7.0838, 5.9220, 5.6608,\n",
       "         6.5672, 6.8980, 7.2614, 6.5390, 7.2521, 6.4696, 6.9448, 7.0089, 7.4979,\n",
       "         7.7072, 6.9471, 8.7349, 6.8538, 6.9938, 6.4983, 7.2406, 5.8531, 7.2886,\n",
       "         7.7125, 8.1601, 8.3464, 7.5526, 6.3816, 8.4647, 6.6542, 6.9342, 7.4663,\n",
       "         6.5400], grad_fn=<ViewBackward>),\n",
       " 'obs': tensor([[-12.9900,  -6.2473,  -4.5631,  ..., 282.4321, 289.5912, 300.2820],\n",
       "         [-15.0935,  -8.4811, -16.7412,  ..., 268.8480, 280.9207, 271.3192],\n",
       "         [-21.0838, -14.2218, -17.4383,  ..., 277.9930, 291.5142, 305.3682],\n",
       "         ...,\n",
       "         [ -9.4550,  -7.3570,  -2.0949,  ..., 290.4038, 291.6461, 297.6733],\n",
       "         [-10.3117,  -6.8967, -15.4138,  ..., 285.4566, 280.7233, 292.5746],\n",
       "         [ -5.1822, -11.8917,  -9.3788,  ..., 276.4088, 279.9131, 293.1461]],\n",
       "        grad_fn=<ViewBackward>)}"
      ]
     },
     "execution_count": 19,
     "metadata": {},
     "output_type": "execute_result"
    }
   ],
   "source": [
    "fit"
   ]
  }
 ],
 "metadata": {
  "kernelspec": {
   "display_name": "Python 3",
   "language": "python",
   "name": "python3"
  },
  "language_info": {
   "codemirror_mode": {
    "name": "ipython",
    "version": 3
   },
   "file_extension": ".py",
   "mimetype": "text/x-python",
   "name": "python",
   "nbconvert_exporter": "python",
   "pygments_lexer": "ipython3",
   "version": "3.7.3"
  }
 },
 "nbformat": 4,
 "nbformat_minor": 2
}
