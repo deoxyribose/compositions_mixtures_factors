{
 "cells": [
  {
   "cell_type": "code",
   "execution_count": 1,
   "metadata": {},
   "outputs": [],
   "source": [
    "import numpy as np\n",
    "import torch\n",
    "from pyro import distributions as dist\n",
    "from pyro.poutine import trace, uncondition\n",
    "from torch.distributions import constraints\n",
    "import pyro.optim\n",
    "from pyro.infer import SVI, Trace_ELBO, TraceGraph_ELBO, TraceEnum_ELBO, config_enumerate\n",
    "from pyro.infer import NUTS,MCMC\n",
    "import matplotlib.pyplot as plt\n",
    "import pdb\n",
    "import sys\n",
    "sys.path.append(\"../..\")\n",
    "from models_and_guides import *\n",
    "from initializations import *"
   ]
  },
  {
   "cell_type": "code",
   "execution_count": 2,
   "metadata": {},
   "outputs": [],
   "source": [
    "from pyro.infer.autoguide import AutoDiagonalNormal"
   ]
  },
  {
   "cell_type": "code",
   "execution_count": 3,
   "metadata": {},
   "outputs": [],
   "source": [
    "def piecewise_eval(knot_x, knot_y, x):\n",
    "    # I haven't unit tested this:\n",
    "    n_knots = knot_x.size(-1)\n",
    "    assert n_knots >= 2\n",
    "    knot_x, idx = knot_x.sort(dim=-1)\n",
    "    knot_y = knot_y.gather(-1,idx)\n",
    "    lb = (x.unsqueeze(-1) > knot_x[...,1:].unsqueeze(-2)).long().sum(-1)\n",
    "    lb[lb >= n_knots - 1] = n_knots - 2\n",
    "    ub = lb + 1\n",
    "    x0 = knot_x.gather(-1,lb)\n",
    "    x1 = knot_x.gather(-1,ub)\n",
    "    y0 = knot_y.gather(-1,lb)\n",
    "    y1 = knot_y.gather(-1,ub)\n",
    "    #slopes = (y1-y0)/(x1-x0)\n",
    "    slopes = (y1-y0)/(x1-x0).clamp(min=1e-8)\n",
    "    return slopes*x + (y1 - slopes*x1)\n",
    "    \n",
    "#def piecewise_regression(x, y, n_pieces=3):\n",
    "#    knot_x = pyro.sample(\"knot_x\",\n",
    "#                         dist.Uniform(0, 100)\n",
    "#                             .expand([n_pieces]).to_event(0))\n",
    "#    knot_y = pyro.sample(\"knot_y\",\n",
    "#                         dist.Normal(0, 100)\n",
    "#                             .expand([n_pieces]).to_event(0))\n",
    "#    y_pred = piecewise_eval(knot_x, knot_y, x)\n",
    "#    y_scale = pyro.sample(\"y_scale\", dist.LogNormal(0, 1))\n",
    "#    y = pyro.sample(\"obs\", dist.Normal(y_pred, y_scale),\n",
    "#                obs=y)\n",
    "#    return y\n",
    "\n",
    "def piecewise_regression(x, y, n_pieces=3):\n",
    "    knot_x = pyro.sample(\"knot_x\",\n",
    "                         dist.Uniform(0, 1)\n",
    "                             .expand([n_pieces]).to_event(0))\n",
    "    knot_y = pyro.sample(\"knot_y\",\n",
    "                         dist.Normal(0, 1)\n",
    "                             .expand([n_pieces]).to_event(0))\n",
    "    x_len = x.shape[0]\n",
    "    y_pred = piecewise_eval(x_len*knot_x, x_len*knot_y, x)\n",
    "    y_scale = pyro.sample(\"y_scale\", dist.LogNormal(0, 1))\n",
    "    y = pyro.sample(\"obs\", dist.Normal(y_pred, y_scale),\n",
    "                obs=y)\n",
    "    return y"
   ]
  },
  {
   "cell_type": "code",
   "execution_count": 4,
   "metadata": {},
   "outputs": [],
   "source": [
    "N = 100\n",
    "x = torch.arange(N)\n",
    "n_pieces = 5\n",
    "dgp_trace = trace(uncondition(piecewise_regression)).get_trace(x,x,n_pieces)"
   ]
  },
  {
   "cell_type": "code",
   "execution_count": 5,
   "metadata": {},
   "outputs": [],
   "source": [
    "dgp_vars = {name:dgp_trace.nodes[name]['value'] for name in dgp_trace.reparameterized_nodes}"
   ]
  },
  {
   "cell_type": "code",
   "execution_count": 6,
   "metadata": {},
   "outputs": [],
   "source": [
    "y = dgp_vars['obs']"
   ]
  },
  {
   "cell_type": "code",
   "execution_count": 7,
   "metadata": {},
   "outputs": [
    {
     "data": {
      "text/plain": [
       "<matplotlib.collections.PathCollection at 0x7f6944c790b8>"
      ]
     },
     "execution_count": 7,
     "metadata": {},
     "output_type": "execute_result"
    },
    {
     "data": {
      "image/png": "[encoded data removed]",
      "text/plain": [
       "<Figure size 432x288 with 1 Axes>"
      ]
     },
     "metadata": {
      "needs_background": "light"
     },
     "output_type": "display_data"
    }
   ],
   "source": [
    "plt.plot(x,y)\n",
    "plt.scatter(N*dgp_vars['knot_x'],N*dgp_vars['knot_y'])"
   ]
  },
  {
   "cell_type": "code",
   "execution_count": 8,
   "metadata": {},
   "outputs": [],
   "source": [
    "from pyro.infer.autoguide.initialization import init_to_sample"
   ]
  },
  {
   "cell_type": "code",
   "execution_count": 9,
   "metadata": {},
   "outputs": [],
   "source": [
    "guide = AutoDiagonalNormal(piecewise_regression,init_loc_fn=init_to_sample)"
   ]
  },
  {
   "cell_type": "code",
   "execution_count": 10,
   "metadata": {},
   "outputs": [],
   "source": [
    "pyro.clear_param_store()"
   ]
  },
  {
   "cell_type": "code",
   "execution_count": 11,
   "metadata": {},
   "outputs": [],
   "source": [
    "optim = pyro.optim.Adam({\"lr\": 0.06})\n",
    "elbo = Trace_ELBO(num_particles=10, vectorize_particles=True,max_plate_nesting=1)\n",
    "svi = SVI(piecewise_regression, guide, optim, loss=elbo)"
   ]
  },
  {
   "cell_type": "code",
   "execution_count": null,
   "metadata": {
    "scrolled": false
   },
   "outputs": [],
   "source": [
    "losses = []\n",
    "guide(x,y,n_pieces)\n",
    "param_history = dict({k:v.unsqueeze(0) for k,v in pyro.get_param_store().items()})\n",
    "gradient_norms = defaultdict(list)\n",
    "# register gradient hooks for monitoring\n",
    "for name, value in pyro.get_param_store().named_parameters():\n",
    "    value.register_hook(lambda g, name=name: gradient_norms[name].append(g.norm().item()))\n",
    "\n",
    "for i in range(10000):\n",
    "    losses.append(svi.step(x,y,n_pieces))\n",
    "    param_history = {k:torch.cat([param_history[k],v.unsqueeze(0).detach()],dim=0) for k,v in pyro.get_param_store().items()}"
   ]
  },
  {
   "cell_type": "code",
   "execution_count": null,
   "metadata": {
    "scrolled": true
   },
   "outputs": [],
   "source": [
    "plt.plot(list(gradient_norms.values())[0])\n",
    "plt.yscale('log')"
   ]
  },
  {
   "cell_type": "code",
   "execution_count": null,
   "metadata": {},
   "outputs": [],
   "source": [
    "plt.plot(losses)"
   ]
  },
  {
   "cell_type": "code",
   "execution_count": null,
   "metadata": {},
   "outputs": [],
   "source": [
    "param_history"
   ]
  },
  {
   "cell_type": "code",
   "execution_count": null,
   "metadata": {},
   "outputs": [],
   "source": [
    "param_history['AutoDiagonalNormal.loc'][-1]"
   ]
  },
  {
   "cell_type": "code",
   "execution_count": null,
   "metadata": {},
   "outputs": [],
   "source": [
    "#pred = pyro.infer.predictive.Predictive(uncondition(piecewise_regression),guide=guide,num_samples=10)\n",
    "pred = pyro.infer.predictive.Predictive(pyro.poutine.uncondition(piecewise_regression),guide=guide,num_samples=100)\n",
    "\n",
    "fit = pred(x,y,n_pieces)\n",
    "\n",
    "fit_obs_mean = fit['obs'].mean(0).detach().numpy()\n",
    "fit_obs_std = fit['obs'].std(0).detach().numpy()\n",
    "\n",
    "%matplotlib qt\n",
    "plt.plot(x,y)\n",
    "plt.scatter(N*dgp_vars['knot_x'],N*dgp_vars['knot_y'])\n",
    "plt.errorbar(x,fit_obs_mean,yerr=fit_obs_std,alpha=.2)\n",
    "plt.scatter(N*fit['knot_x'].detach().numpy(),N*fit['knot_y'].detach().numpy())\n",
    "plt.axis('equal');\n",
    "#plt.plot(x,slope_fit*x.numpy()+intercept_fit)\n",
    "#plt.plot(x,fit_obs)"
   ]
  },
  {
   "cell_type": "code",
   "execution_count": null,
   "metadata": {},
   "outputs": [],
   "source": [
    "dgp_vars"
   ]
  },
  {
   "cell_type": "code",
   "execution_count": null,
   "metadata": {},
   "outputs": [],
   "source": [
    "fit"
   ]
  }
 ],
 "metadata": {
  "kernelspec": {
   "display_name": "Python 3",
   "language": "python",
   "name": "python3"
  },
  "language_info": {
   "codemirror_mode": {
    "name": "ipython",
    "version": 3
   },
   "file_extension": ".py",
   "mimetype": "text/x-python",
   "name": "python",
   "nbconvert_exporter": "python",
   "pygments_lexer": "ipython3",
   "version": "3.7.3"
  }
 },
 "nbformat": 4,
 "nbformat_minor": 2
}
