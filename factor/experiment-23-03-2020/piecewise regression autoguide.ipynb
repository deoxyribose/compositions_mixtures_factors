{
 "cells": [
  {
   "cell_type": "code",
   "execution_count": 1,
   "metadata": {},
   "outputs": [],
   "source": [
    "import numpy as np\n",
    "import torch\n",
    "from pyro import distributions as dist\n",
    "from pyro.poutine import trace, uncondition\n",
    "from torch.distributions import constraints\n",
    "import pyro.optim\n",
    "from pyro.infer import SVI, Trace_ELBO, TraceGraph_ELBO, TraceEnum_ELBO, config_enumerate\n",
    "from pyro.infer import NUTS,MCMC\n",
    "import matplotlib.pyplot as plt\n",
    "import pdb\n",
    "import sys\n",
    "sys.path.append(\"../..\")\n",
    "from models_and_guides import *\n",
    "from initializations import *"
   ]
  },
  {
   "cell_type": "code",
   "execution_count": 2,
   "metadata": {},
   "outputs": [],
   "source": [
    "from pyro.infer.autoguide import AutoDiagonalNormal"
   ]
  },
  {
   "cell_type": "code",
   "execution_count": 3,
   "metadata": {},
   "outputs": [],
   "source": [
    "def piecewise_eval(knot_x, knot_y, x):\n",
    "    # I haven't unit tested this:\n",
    "    n_knots = knot_x.size(-1)\n",
    "    assert n_knots >= 2\n",
    "    knot_x, idx = knot_x.sort(dim=-1)\n",
    "    knot_y = knot_y.gather(-1,idx)\n",
    "    lb = (x.unsqueeze(-1) > knot_x[...,1:].unsqueeze(-2)).long().sum(-1)\n",
    "    lb[lb >= n_knots - 1] = n_knots - 2\n",
    "    ub = lb + 1\n",
    "    x0 = knot_x.gather(-1,lb)\n",
    "    x1 = knot_x.gather(-1,ub)\n",
    "    y0 = knot_y.gather(-1,lb)\n",
    "    y1 = knot_y.gather(-1,ub)\n",
    "    slopes = (y1-y0)/(x1-x0).clamp(min=1e-8)\n",
    "    return slopes*x + (y1 - slopes*x1)\n",
    "    \n",
    "def piecewise_regression(x, y, n_pieces=3):\n",
    "    knot_x = pyro.sample(\"knot_x\",\n",
    "                         dist.Uniform(0, 100)\n",
    "                             .expand([n_pieces]).to_event(0))\n",
    "    knot_y = pyro.sample(\"knot_y\",\n",
    "                         dist.Normal(0, 100)\n",
    "                             .expand([n_pieces]).to_event(0))\n",
    "    y_pred = piecewise_eval(knot_x, knot_y, x)\n",
    "    y_scale = pyro.sample(\"y_scale\", dist.LogNormal(0, 1))\n",
    "    y = pyro.sample(\"obs\", dist.Normal(y_pred, y_scale),\n",
    "                obs=y)\n",
    "    return y"
   ]
  },
  {
   "cell_type": "code",
   "execution_count": 4,
   "metadata": {},
   "outputs": [],
   "source": [
    "N = 100\n",
    "x = torch.arange(N)\n",
    "n_pieces = 3\n",
    "dgp_trace = trace(uncondition(piecewise_regression)).get_trace(x,x,n_pieces)"
   ]
  },
  {
   "cell_type": "code",
   "execution_count": 5,
   "metadata": {},
   "outputs": [],
   "source": [
    "dgp_vars = {name:dgp_trace.nodes[name]['value'] for name in dgp_trace.reparameterized_nodes}"
   ]
  },
  {
   "cell_type": "code",
   "execution_count": 6,
   "metadata": {},
   "outputs": [],
   "source": [
    "y = dgp_vars['obs']"
   ]
  },
  {
   "cell_type": "code",
   "execution_count": 7,
   "metadata": {},
   "outputs": [
    {
     "data": {
      "text/plain": [
       "<matplotlib.collections.PathCollection at 0x7f203e0494e0>"
      ]
     },
     "execution_count": 7,
     "metadata": {},
     "output_type": "execute_result"
    },
    {
     "data": {
      "image/png": "[encoded data removed]",
      "text/plain": [
       "<Figure size 432x288 with 1 Axes>"
      ]
     },
     "metadata": {
      "needs_background": "light"
     },
     "output_type": "display_data"
    }
   ],
   "source": [
    "plt.plot(x,y)\n",
    "plt.scatter(dgp_vars['knot_x'],dgp_vars['knot_y'])"
   ]
  },
  {
   "cell_type": "code",
   "execution_count": 8,
   "metadata": {},
   "outputs": [],
   "source": [
    "guide = AutoDiagonalNormal(piecewise_regression,init_scale=1.5)"
   ]
  },
  {
   "cell_type": "code",
   "execution_count": 9,
   "metadata": {},
   "outputs": [],
   "source": [
    "pyro.clear_param_store()"
   ]
  },
  {
   "cell_type": "code",
   "execution_count": 10,
   "metadata": {},
   "outputs": [],
   "source": [
    "optim = pyro.optim.Adam({\"lr\": 0.003})\n",
    "elbo = Trace_ELBO(num_particles=10, vectorize_particles=True,max_plate_nesting=1)\n",
    "svi = SVI(piecewise_regression, guide, optim, loss=elbo)"
   ]
  },
  {
   "cell_type": "code",
   "execution_count": 11,
   "metadata": {
    "scrolled": false
   },
   "outputs": [],
   "source": [
    "losses = []\n",
    "guide(x,y,n_pieces)\n",
    "param_history = dict({k:v.unsqueeze(0) for k,v in pyro.get_param_store().items()})\n",
    "\n",
    "for i in range(500):\n",
    "    losses.append(svi.step(x,y,n_pieces))\n",
    "    param_history = {k:torch.cat([param_history[k],v.unsqueeze(0).detach()],dim=0) for k,v in pyro.get_param_store().items()}"
   ]
  },
  {
   "cell_type": "code",
   "execution_count": 12,
   "metadata": {},
   "outputs": [
    {
     "data": {
      "text/plain": [
       "[<matplotlib.lines.Line2D at 0x7f203d46f6d8>]"
      ]
     },
     "execution_count": 12,
     "metadata": {},
     "output_type": "execute_result"
    },
    {
     "data": {
      "image/png": "[encoded data removed]",
      "text/plain": [
       "<Figure size 432x288 with 1 Axes>"
      ]
     },
     "metadata": {
      "needs_background": "light"
     },
     "output_type": "display_data"
    }
   ],
   "source": [
    "plt.plot(losses)"
   ]
  },
  {
   "cell_type": "code",
   "execution_count": 13,
   "metadata": {},
   "outputs": [
    {
     "data": {
      "text/plain": [
       "{'AutoDiagonalNormal.loc': tensor([[-0.3240,  0.1526, -0.3578,  ...,  9.0931, 10.5708, -0.1594],\n",
       "         [-0.3240,  0.1526, -0.3578,  ...,  9.0931, 10.5708, -0.1594],\n",
       "         [-0.3236,  0.1503, -0.3563,  ...,  9.0921, 10.5728, -0.1573],\n",
       "         ...,\n",
       "         [-0.3366,  0.2103, -0.3310,  ...,  9.4135, 10.6258, -0.0670],\n",
       "         [-0.3366,  0.2103, -0.3310,  ...,  9.4135, 10.6258, -0.0670],\n",
       "         [-0.3366,  0.2103, -0.3310,  ...,  9.4135, 10.6258, -0.0670]],\n",
       "        grad_fn=<CatBackward>),\n",
       " 'AutoDiagonalNormal.scale': tensor([[1.5000, 1.5000, 1.5000,  ..., 1.5000, 1.5000, 1.5000],\n",
       "         [1.5045, 1.4955, 1.5045,  ..., 1.5045, 1.5045, 1.4955],\n",
       "         [1.5087, 1.4985, 1.5024,  ..., 1.5087, 1.5075, 1.4924],\n",
       "         ...,\n",
       "         [1.4277, 1.5833, 1.5891,  ..., 1.4669, 1.4863, 1.3700],\n",
       "         [1.4277, 1.5833, 1.5891,  ..., 1.4668, 1.4863, 1.3699],\n",
       "         [1.4277, 1.5833, 1.5891,  ..., 1.4668, 1.4863, 1.3699]],\n",
       "        grad_fn=<CatBackward>)}"
      ]
     },
     "execution_count": 13,
     "metadata": {},
     "output_type": "execute_result"
    }
   ],
   "source": [
    "param_history"
   ]
  },
  {
   "cell_type": "code",
   "execution_count": 14,
   "metadata": {},
   "outputs": [
    {
     "data": {
      "text/plain": [
       "tensor([-0.3366,  0.2103, -0.3310, 46.9457,  9.4135, 10.6258, -0.0670],\n",
       "       grad_fn=<SelectBackward>)"
      ]
     },
     "execution_count": 14,
     "metadata": {},
     "output_type": "execute_result"
    }
   ],
   "source": [
    "param_history['AutoDiagonalNormal.loc'][-1]"
   ]
  },
  {
   "cell_type": "code",
   "execution_count": 15,
   "metadata": {},
   "outputs": [
    {
     "data": {
      "image/png": "[encoded data removed]",
      "text/plain": [
       "<Figure size 432x288 with 1 Axes>"
      ]
     },
     "metadata": {
      "needs_background": "light"
     },
     "output_type": "display_data"
    }
   ],
   "source": [
    "#pred = pyro.infer.predictive.Predictive(uncondition(piecewise_regression),guide=guide,num_samples=10)\n",
    "pred = pyro.infer.predictive.Predictive(pyro.poutine.uncondition(piecewise_regression),guide=guide,num_samples=1)\n",
    "\n",
    "fit = pred(x,y,n_pieces)\n",
    "\n",
    "fit_obs_mean = fit['obs'].mean(0).detach().numpy()\n",
    "fit_obs_std = fit['obs'].std(0).detach().numpy()\n",
    "\n",
    "%matplotlib inline\n",
    "plt.plot(x,y)\n",
    "plt.errorbar(x,fit_obs_mean,yerr=fit_obs_std)\n",
    "plt.axis('equal');\n",
    "#plt.plot(x,slope_fit*x.numpy()+intercept_fit)\n",
    "#plt.plot(x,fit_obs)"
   ]
  },
  {
   "cell_type": "code",
   "execution_count": 16,
   "metadata": {},
   "outputs": [
    {
     "data": {
      "text/plain": [
       "{'knot_x': tensor([73.3172, 98.9247,  9.6973]),\n",
       " 'knot_y': tensor([ 148.4864, -211.1701,  -85.8324]),\n",
       " 'y_scale': tensor(0.2213),\n",
       " 'obs': tensor([-1.2125e+02, -1.1787e+02, -1.1390e+02, -1.1050e+02, -1.0696e+02,\n",
       "         -1.0313e+02, -9.9032e+01, -9.5648e+01, -9.2220e+01, -8.8864e+01,\n",
       "         -8.4807e+01, -8.1120e+01, -7.7412e+01, -7.3516e+01, -6.9813e+01,\n",
       "         -6.6552e+01, -6.2554e+01, -5.9283e+01, -5.5457e+01, -5.1644e+01,\n",
       "         -4.8139e+01, -4.4023e+01, -4.0600e+01, -3.6979e+01, -3.3369e+01,\n",
       "         -2.9589e+01, -2.6023e+01, -2.2296e+01, -1.8625e+01, -1.4833e+01,\n",
       "         -1.0969e+01, -7.5945e+00, -4.0290e+00, -1.4915e-01,  3.7197e+00,\n",
       "          7.4605e+00,  1.0841e+01,  1.4713e+01,  1.8344e+01,  2.2176e+01,\n",
       "          2.5653e+01,  2.9448e+01,  3.3286e+01,  3.6942e+01,  4.0462e+01,\n",
       "          4.4064e+01,  4.7741e+01,  5.1627e+01,  5.5385e+01,  5.8982e+01,\n",
       "          6.2655e+01,  6.6243e+01,  6.9825e+01,  7.3641e+01,  7.7452e+01,\n",
       "          8.1153e+01,  8.4761e+01,  8.8370e+01,  9.1875e+01,  9.5480e+01,\n",
       "          1.0014e+02,  1.0281e+02,  1.0687e+02,  1.1041e+02,  1.1423e+02,\n",
       "          1.1786e+02,  1.2103e+02,  1.2539e+02,  1.2904e+02,  1.3274e+02,\n",
       "          1.3647e+02,  1.3981e+02,  1.4369e+02,  1.4715e+02,  1.3869e+02,\n",
       "          1.2482e+02,  1.1109e+02,  9.6695e+01,  8.2168e+01,  6.8818e+01,\n",
       "          5.4488e+01,  4.0560e+01,  2.6331e+01,  1.2411e+01, -1.6788e+00,\n",
       "         -1.5659e+01, -2.9587e+01, -4.3450e+01, -5.7585e+01, -7.1599e+01,\n",
       "         -8.5849e+01, -9.9491e+01, -1.1378e+02, -1.2796e+02, -1.4193e+02,\n",
       "         -1.5627e+02, -1.6975e+02, -1.8424e+02, -1.9807e+02, -2.1214e+02])}"
      ]
     },
     "execution_count": 16,
     "metadata": {},
     "output_type": "execute_result"
    }
   ],
   "source": [
    "dgp_vars"
   ]
  },
  {
   "cell_type": "code",
   "execution_count": 17,
   "metadata": {},
   "outputs": [
    {
     "data": {
      "text/plain": [
       "{'knot_x': tensor([[16.2464, 83.3793, 47.5878]], grad_fn=<ViewBackward>),\n",
       " 'knot_y': tensor([[46.2696,  8.9400, 11.2064]], grad_fn=<ViewBackward>),\n",
       " 'y_scale': tensor([3.1582], grad_fn=<ViewBackward>),\n",
       " 'obs': tensor([[62.9722, 68.7279, 64.9270, 55.0582, 64.2958, 57.2852, 54.9322, 53.9823,\n",
       "          60.9602, 53.0500, 53.6055, 48.9217, 51.0313, 50.6266, 48.8422, 48.6973,\n",
       "          45.6386, 47.6643, 48.8852, 43.8513, 42.9309, 42.2853, 37.8693, 41.4420,\n",
       "          34.7745, 34.1224, 32.2807, 35.2123, 35.3559, 33.5556, 36.0015, 32.5792,\n",
       "          30.9475, 24.5378, 24.8698, 31.5000, 28.4748, 23.9139, 26.7626, 25.7623,\n",
       "          21.3197, 17.3711, 24.1588, 20.4523, 16.9440, 16.1669,  6.2515,  9.9034,\n",
       "          12.2867, 11.9441, 10.7931, 14.3687, 14.2299,  9.8708, 11.8717, 10.6575,\n",
       "          13.6988,  8.4111, 11.1849, 11.2003, 12.0580, 10.3179,  6.7833,  5.4046,\n",
       "           6.4839,  8.6188,  9.9942,  4.4687,  3.8553, 13.9637,  8.7190, 11.2797,\n",
       "           7.4181, 14.4400,  7.4696, 10.7740,  8.8409,  2.1536, 12.6433,  7.4699,\n",
       "           4.9240, 12.0067, 11.6403, 12.8393,  9.6888, 14.2421,  9.3585,  9.4097,\n",
       "          10.8027,  9.8903, 11.0499,  5.0409, 10.3994, 13.3335, 11.3892,  7.6630,\n",
       "           8.6207, 10.4020, 17.1279,  5.0148]], grad_fn=<ViewBackward>)}"
      ]
     },
     "execution_count": 17,
     "metadata": {},
     "output_type": "execute_result"
    }
   ],
   "source": [
    "fit"
   ]
  }
 ],
 "metadata": {
  "kernelspec": {
   "display_name": "Python 3",
   "language": "python",
   "name": "python3"
  },
  "language_info": {
   "codemirror_mode": {
    "name": "ipython",
    "version": 3
   },
   "file_extension": ".py",
   "mimetype": "text/x-python",
   "name": "python",
   "nbconvert_exporter": "python",
   "pygments_lexer": "ipython3",
   "version": "3.7.3"
  }
 },
 "nbformat": 4,
 "nbformat_minor": 2
}
