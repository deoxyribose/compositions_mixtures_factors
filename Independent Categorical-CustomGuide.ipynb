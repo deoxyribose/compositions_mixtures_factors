{
 "cells": [
  {
   "cell_type": "code",
   "execution_count": 1,
   "metadata": {},
   "outputs": [],
   "source": [
    "import torch\n",
    "from torch.distributions import constraints\n",
    "from collections import defaultdict\n",
    "\n",
    "\n",
    "import pyro\n",
    "import pyro.distributions as dist\n",
    "import pyro.optim as optim\n",
    "from pyro.optim import Adam\n",
    "from pyro import poutine\n",
    "from pyro.contrib.autoguide import AutoDelta\n",
    "from pyro.infer import SVI, Trace_ELBO\n",
    "\n",
    "from matplotlib import pyplot\n",
    "%matplotlib inline"
   ]
  },
  {
   "cell_type": "code",
   "execution_count": 2,
   "metadata": {},
   "outputs": [],
   "source": [
    "import numpy as np"
   ]
  },
  {
   "cell_type": "code",
   "execution_count": 3,
   "metadata": {},
   "outputs": [],
   "source": [
    "import matplotlib.pylab as plt"
   ]
  },
  {
   "cell_type": "code",
   "execution_count": 4,
   "metadata": {},
   "outputs": [],
   "source": [
    "torch.set_default_tensor_type(torch.FloatTensor)"
   ]
  },
  {
   "cell_type": "code",
   "execution_count": 5,
   "metadata": {},
   "outputs": [],
   "source": [
    "pyro.enable_validation(True)"
   ]
  },
  {
   "cell_type": "markdown",
   "metadata": {},
   "source": [
    "From https://pyro.ai/examples/intro_part_i.html\n",
    "\n",
    "Primitive stochastic functions, or distributions, are an important class of stochastic functions for which we can explicitly compute the probability of the outputs given the inputs. \n",
    "\n",
    "All probabilistic programs are built up by composing primitive stochastic functions and deterministic computation."
   ]
  },
  {
   "cell_type": "code",
   "execution_count": 6,
   "metadata": {},
   "outputs": [],
   "source": [
    "def make_categorical_matrix(N,D):\n",
    "    # number of categories is sampled between 2 and number of features\n",
    "    C = np.random.choice(np.arange(2,D*2),D)\n",
    "    print(C)\n",
    "    categorical_matrix = []\n",
    "    for c in C:\n",
    "        categorical_matrix.append(np.random.choice(c, size=N))\n",
    "    return np.array(categorical_matrix).T"
   ]
  },
  {
   "cell_type": "code",
   "execution_count": 7,
   "metadata": {},
   "outputs": [
    {
     "name": "stdout",
     "output_type": "stream",
     "text": [
      "[5 5 6 2]\n"
     ]
    }
   ],
   "source": [
    "N, D = 1000,4\n",
    "data = make_categorical_matrix(N,D)"
   ]
  },
  {
   "cell_type": "code",
   "execution_count": 8,
   "metadata": {},
   "outputs": [
    {
     "data": {
      "text/plain": [
       "array([[4, 2, 1, 0],\n",
       "       [2, 1, 0, 0],\n",
       "       [4, 1, 5, 0],\n",
       "       ...,\n",
       "       [3, 3, 4, 1],\n",
       "       [3, 1, 1, 0],\n",
       "       [1, 3, 0, 1]])"
      ]
     },
     "execution_count": 8,
     "metadata": {},
     "output_type": "execute_result"
    }
   ],
   "source": [
    "data"
   ]
  },
  {
   "cell_type": "code",
   "execution_count": 9,
   "metadata": {},
   "outputs": [],
   "source": [
    "def independentCategorical(data):\n",
    "    obs_dim, data_dim = data.shape\n",
    "    # compute number of categories in each feature\n",
    "    C = [np.unique(data[:,i]).shape[0] for i in range(D)]\n",
    "    Cmax = np.max(C)\n",
    "    C = torch.tensor(C)\n",
    "    # Since there can be different number of categories,\n",
    "    # we let all features have the same categories as the most category-rich feature,\n",
    "    # but set the prior of non-existent categories to epsilon.\n",
    "    dirichlet_params = torch.tensor([np.r_[np.ones(c)*10*Cmax, np.ones(Cmax - c)*0.1*(1/Cmax)] for c in C])\n",
    "    #for feature in pyro.plate('features', data_dim):\n",
    "    with pyro.plate('feature_plate', data_dim):\n",
    "        probs = pyro.sample('probs', pyro.distributions.Dirichlet(dirichlet_params))\n",
    "        #probs = pyro.sample('probs_{}'.format(feature), pyro.distributions.Dirichlet(dirichlet_params))\n",
    "        with pyro.plate('data_plate', obs_dim):\n",
    "            data = pyro.sample('obs', pyro.distributions.Categorical(probs=probs),obs=data)\n",
    "    return data"
   ]
  },
  {
   "cell_type": "code",
   "execution_count": 10,
   "metadata": {},
   "outputs": [],
   "source": [
    "data = np.float32(data) # float64 creates mismatch with torch's defaults\n",
    "data = torch.tensor(data)"
   ]
  },
  {
   "cell_type": "code",
   "execution_count": 11,
   "metadata": {},
   "outputs": [],
   "source": [
    "#?pyro.poutine.Trace"
   ]
  },
  {
   "cell_type": "code",
   "execution_count": 12,
   "metadata": {
    "scrolled": false
   },
   "outputs": [],
   "source": [
    "trace = pyro.poutine.trace(independentCategorical).get_trace(data)\n",
    "#logp = trace.log_prob_sum()\n",
    "#params = [trace.nodes[name][\"value\"].unconstrained() for name in trace.param_nodes]\n",
    "#trace2 = pyro.poutine.trace(independentCategorical2).get_trace(data)"
   ]
  },
  {
   "cell_type": "code",
   "execution_count": 13,
   "metadata": {},
   "outputs": [],
   "source": [
    "cond_model = pyro.condition(independentCategorical, data = {'obs', data})"
   ]
  },
  {
   "cell_type": "code",
   "execution_count": 14,
   "metadata": {},
   "outputs": [
    {
     "data": {
      "text/plain": [
       "tensor([[4., 2., 1., 0.],\n",
       "        [2., 1., 0., 0.],\n",
       "        [4., 1., 5., 0.],\n",
       "        ...,\n",
       "        [3., 3., 4., 1.],\n",
       "        [3., 1., 1., 0.],\n",
       "        [1., 3., 0., 1.]])"
      ]
     },
     "execution_count": 14,
     "metadata": {},
     "output_type": "execute_result"
    }
   ],
   "source": [
    "data"
   ]
  },
  {
   "cell_type": "code",
   "execution_count": 15,
   "metadata": {},
   "outputs": [
    {
     "data": {
      "text/plain": [
       "tensor([[4., 2., 1., 0.],\n",
       "        [2., 1., 0., 0.],\n",
       "        [4., 1., 5., 0.],\n",
       "        ...,\n",
       "        [3., 3., 4., 1.],\n",
       "        [3., 1., 1., 0.],\n",
       "        [1., 3., 0., 1.]])"
      ]
     },
     "execution_count": 15,
     "metadata": {},
     "output_type": "execute_result"
    }
   ],
   "source": [
    "independentCategorical(data)"
   ]
  },
  {
   "cell_type": "code",
   "execution_count": 16,
   "metadata": {},
   "outputs": [],
   "source": [
    "hide_everything_but_probs_model = poutine.block(independentCategorical, expose=['probs'])"
   ]
  },
  {
   "cell_type": "code",
   "execution_count": 17,
   "metadata": {},
   "outputs": [],
   "source": [
    "def independentCategoricalGuide(data):\n",
    "    obs_dim, data_dim = data.shape\n",
    "    # compute number of categories in each feature\n",
    "    C = [np.unique(data[:,i]).shape[0] for i in range(D)]\n",
    "    Cmax = np.max(C)\n",
    "    C = torch.tensor(C)\n",
    "    alphas = pyro.param('alphas', torch.ones(D,Cmax,dtype=torch.float64), constraint=constraints.positive)\n",
    "    with pyro.plate('feature_plate', data_dim):\n",
    "        pyro.sample('probs', pyro.distributions.Dirichlet(alphas))"
   ]
  },
  {
   "cell_type": "code",
   "execution_count": 18,
   "metadata": {},
   "outputs": [],
   "source": [
    "optim = pyro.optim.Adam({'lr': 0.01, 'betas': [0.9, 0.999]})\n",
    "elbo = Trace_ELBO(max_plate_nesting=2)\n",
    "svi = SVI(independentCategorical, independentCategoricalGuide, optim, loss=elbo)"
   ]
  },
  {
   "cell_type": "code",
   "execution_count": 19,
   "metadata": {},
   "outputs": [],
   "source": [
    "pyro.clear_param_store()"
   ]
  },
  {
   "cell_type": "code",
   "execution_count": 20,
   "metadata": {},
   "outputs": [],
   "source": [
    "guide_trace = pyro.poutine.trace(independentCategoricalGuide).get_trace(data)"
   ]
  },
  {
   "cell_type": "code",
   "execution_count": 21,
   "metadata": {},
   "outputs": [],
   "source": [
    "pyro.util.check_model_guide_match(trace, guide_trace)"
   ]
  },
  {
   "cell_type": "code",
   "execution_count": 22,
   "metadata": {},
   "outputs": [
    {
     "data": {
      "text/plain": [
       "dict_items([('alphas', tensor([[0., 0., 0., 0., 0., 0.],\n",
       "        [0., 0., 0., 0., 0., 0.],\n",
       "        [0., 0., 0., 0., 0., 0.],\n",
       "        [0., 0., 0., 0., 0., 0.]], dtype=torch.float64, requires_grad=True))])"
      ]
     },
     "execution_count": 22,
     "metadata": {},
     "output_type": "execute_result"
    }
   ],
   "source": [
    "pyro.get_param_store().named_parameters()"
   ]
  },
  {
   "cell_type": "code",
   "execution_count": 23,
   "metadata": {
    "scrolled": false
   },
   "outputs": [
    {
     "name": "stdout",
     "output_type": "stream",
     "text": [
      "\n",
      "...................................................................................................\n",
      "...................................................................................................\n",
      "...................................................................................................\n",
      "...................................................................................................\n",
      "...................................................................................................\n",
      "...................................................................................................\n",
      "...................................................................................................\n",
      "...................................................................................................\n",
      "...................................................................................................\n",
      "...................................................................................................\n",
      "...................................................................................................\n",
      "...................................................................................................\n",
      "...................................................................................................\n",
      "...................................................................................................\n",
      "...................................................................................................\n",
      "...................................................................................................\n",
      "...................................................................................................\n",
      "...................................................................................................\n",
      "...................................................................................................\n",
      "..................................................................................................."
     ]
    }
   ],
   "source": [
    "# Register hooks to monitor gradient norms.\n",
    "gradient_norms = defaultdict(list)\n",
    "for name, value in pyro.get_param_store().named_parameters():\n",
    "    value.register_hook(lambda g, name=name: gradient_norms[name].append(g.norm().item()))\n",
    "\n",
    "losses = []\n",
    "# while not all parameters are locked:\n",
    "# for parameter in parameters:\n",
    "# lock parameter if gradient_norm is below tolerance\n",
    "for i in range(2000):\n",
    "    loss = svi.step(data)\n",
    "    losses.append(loss)\n",
    "    print('.' if i % 100 else '\\n', end='')"
   ]
  },
  {
   "cell_type": "code",
   "execution_count": 24,
   "metadata": {},
   "outputs": [],
   "source": [
    "def rel_err(true_parameter,estimated_parameter):\n",
    "    if type(true_parameter) != torch.Tensor:\n",
    "        true_parameter = torch.Tensor(true_parameter)\n",
    "    norm = torch.norm\n",
    "    return norm(true_parameter-estimated_parameter)/norm(true_parameter)"
   ]
  },
  {
   "cell_type": "code",
   "execution_count": 25,
   "metadata": {},
   "outputs": [
    {
     "data": {
      "text/plain": [
       "tensor([[15.2690, 15.8122, 15.7969, 15.5664, 15.4220,  0.0534],\n",
       "        [15.8758, 15.5346, 14.0170, 15.4700, 16.1497,  0.0443],\n",
       "        [14.0860, 14.8840, 14.3809, 13.2279, 14.6049, 12.8324],\n",
       "        [19.1577, 19.3151,  0.0365,  0.0373,  0.0382,  0.0380]],\n",
       "       dtype=torch.float64, grad_fn=<AddBackward0>)"
      ]
     },
     "execution_count": 25,
     "metadata": {},
     "output_type": "execute_result"
    }
   ],
   "source": [
    "pyro.param('alphas')"
   ]
  },
  {
   "cell_type": "code",
   "execution_count": 26,
   "metadata": {},
   "outputs": [
    {
     "ename": "NameError",
     "evalue": "name 'some_data_locs' is not defined",
     "output_type": "error",
     "traceback": [
      "\u001b[0;31m---------------------------------------------------------------------------\u001b[0m",
      "\u001b[0;31mNameError\u001b[0m                                 Traceback (most recent call last)",
      "\u001b[0;32m<ipython-input-26-5ce2f179cdcb>\u001b[0m in \u001b[0;36m<module>\u001b[0;34m()\u001b[0m\n\u001b[0;32m----> 1\u001b[0;31m \u001b[0mprint\u001b[0m\u001b[0;34m(\u001b[0m\u001b[0mrel_err\u001b[0m\u001b[0;34m(\u001b[0m\u001b[0msome_data_locs\u001b[0m\u001b[0;34m,\u001b[0m\u001b[0mpyro\u001b[0m\u001b[0;34m.\u001b[0m\u001b[0mparam\u001b[0m\u001b[0;34m(\u001b[0m\u001b[0;34m'auto_locs'\u001b[0m\u001b[0;34m)\u001b[0m\u001b[0;34m)\u001b[0m\u001b[0;34m)\u001b[0m\u001b[0;34m\u001b[0m\u001b[0m\n\u001b[0m\u001b[1;32m      2\u001b[0m \u001b[0mprint\u001b[0m\u001b[0;34m(\u001b[0m\u001b[0mrel_err\u001b[0m\u001b[0;34m(\u001b[0m\u001b[0msome_data_scales\u001b[0m\u001b[0;34m,\u001b[0m\u001b[0mpyro\u001b[0m\u001b[0;34m.\u001b[0m\u001b[0mparam\u001b[0m\u001b[0;34m(\u001b[0m\u001b[0;34m'auto_scales'\u001b[0m\u001b[0;34m)\u001b[0m\u001b[0;34m)\u001b[0m\u001b[0;34m)\u001b[0m\u001b[0;34m\u001b[0m\u001b[0m\n",
      "\u001b[0;31mNameError\u001b[0m: name 'some_data_locs' is not defined"
     ]
    }
   ],
   "source": [
    "print(rel_err(some_data_locs,pyro.param('auto_locs')))\n",
    "print(rel_err(some_data_scales,pyro.param('auto_scales')))"
   ]
  },
  {
   "cell_type": "code",
   "execution_count": null,
   "metadata": {},
   "outputs": [],
   "source": [
    "pyplot.figure(figsize=(10,3), dpi=100).set_facecolor('white')\n",
    "pyplot.plot(losses)\n",
    "pyplot.xlabel('iters')\n",
    "pyplot.ylabel('loss')\n",
    "pyplot.yscale('log')\n",
    "pyplot.title('Convergence of SVI');"
   ]
  },
  {
   "cell_type": "code",
   "execution_count": null,
   "metadata": {},
   "outputs": [],
   "source": [
    "pyplot.figure(figsize=(10,4), dpi=100).set_facecolor('white')\n",
    "for name, grad_norms in gradient_norms.items():\n",
    "    pyplot.plot(grad_norms, label=name)\n",
    "pyplot.xlabel('iters')\n",
    "pyplot.ylabel('gradient norm')\n",
    "pyplot.yscale('log')\n",
    "pyplot.legend(loc='best')\n",
    "pyplot.title('Gradient norms during SVI');"
   ]
  },
  {
   "cell_type": "code",
   "execution_count": null,
   "metadata": {},
   "outputs": [],
   "source": [
    "optim = pyro.optim.Adam({'lr': 0.005, 'betas': [0.9, 0.999]})\n",
    "svi = SVI(independentGaussian, global_guide, optim, loss=elbo)"
   ]
  },
  {
   "cell_type": "code",
   "execution_count": null,
   "metadata": {},
   "outputs": [],
   "source": [
    "for i in range(1000):\n",
    "    loss = svi.step(data)\n",
    "    losses.append(loss)\n",
    "    print('.' if i % 100 else '\\n', end='')"
   ]
  },
  {
   "cell_type": "code",
   "execution_count": null,
   "metadata": {},
   "outputs": [],
   "source": [
    "pyplot.figure(figsize=(10,3), dpi=100).set_facecolor('white')\n",
    "pyplot.plot(losses)\n",
    "pyplot.xlabel('iters')\n",
    "pyplot.ylabel('loss')\n",
    "pyplot.yscale('log')\n",
    "pyplot.title('Convergence of SVI');"
   ]
  },
  {
   "cell_type": "code",
   "execution_count": null,
   "metadata": {},
   "outputs": [],
   "source": [
    "pyplot.figure(figsize=(10,4), dpi=100).set_facecolor('white')\n",
    "for name, grad_norms in gradient_norms.items():\n",
    "    pyplot.plot(grad_norms, label=name)\n",
    "pyplot.xlabel('iters')\n",
    "pyplot.ylabel('gradient norm')\n",
    "pyplot.yscale('log')\n",
    "pyplot.legend(loc='best')\n",
    "pyplot.title('Gradient norms during SVI');"
   ]
  },
  {
   "cell_type": "code",
   "execution_count": null,
   "metadata": {},
   "outputs": [],
   "source": [
    "print(rel_err(some_data_locs,pyro.param('auto_locs')))\n",
    "print(rel_err(some_data_scales,pyro.param('auto_scales')))"
   ]
  },
  {
   "cell_type": "code",
   "execution_count": null,
   "metadata": {},
   "outputs": [],
   "source": [
    "print(rel_err(some_data_locs,data.mean(0)))\n",
    "print(rel_err(some_data_scales,np.sqrt(data.var(0))))"
   ]
  },
  {
   "cell_type": "code",
   "execution_count": null,
   "metadata": {},
   "outputs": [],
   "source": []
  }
 ],
 "metadata": {
  "kernelspec": {
   "display_name": "Python 3",
   "language": "python",
   "name": "python3"
  },
  "language_info": {
   "codemirror_mode": {
    "name": "ipython",
    "version": 3
   },
   "file_extension": ".py",
   "mimetype": "text/x-python",
   "name": "python",
   "nbconvert_exporter": "python",
   "pygments_lexer": "ipython3",
   "version": "3.6.5"
  }
 },
 "nbformat": 4,
 "nbformat_minor": 2
}
