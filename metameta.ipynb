{
 "cells": [
  {
   "cell_type": "code",
   "execution_count": 1,
   "metadata": {},
   "outputs": [],
   "source": [
    "import numpy as np\n",
    "import torch\n",
    "import pyro\n",
    "from pyro import distributions as dst\n",
    "import matplotlib.pylab as plt\n",
    "from ast import *"
   ]
  },
  {
   "cell_type": "code",
   "execution_count": 2,
   "metadata": {},
   "outputs": [],
   "source": [
    "import inspect, ast, astor"
   ]
  },
  {
   "cell_type": "code",
   "execution_count": 3,
   "metadata": {},
   "outputs": [],
   "source": [
    "def model(X):\n",
    "    N, D = X.shape\n",
    "    with pyro.plate('D', D):\n",
    "        loc = pyro.sample('loc', dst.Normal(0.,10.))\n",
    "        scale = pyro.sample('scale', dst.LogNormal(0.,4.))\n",
    "        with pyro.plate('N', N):\n",
    "            X = pyro.sample('obs', dst.Normal(loc,scale))\n",
    "    return X"
   ]
  },
  {
   "cell_type": "code",
   "execution_count": 4,
   "metadata": {},
   "outputs": [],
   "source": [
    "def model2(X):\n",
    "    N, D = X.shape\n",
    "    K = D\n",
    "    locloc = 0.\n",
    "    locscale = 1.\n",
    "    scaleloc = 0.\n",
    "    scalescale = 1.\n",
    "    cov_factor_loc = torch.zeros(K,D)\n",
    "    cov_factor_scale = torch.ones(K,D)*10\n",
    "    with pyro.plate('D', D):\n",
    "        loc = pyro.sample('loc', dst.Normal(locloc, locscale))\n",
    "        cov_diag = pyro.sample('scale', dst.LogNormal(scaleloc, scalescale))\n",
    "        with pyro.plate('K', K):\n",
    "            cov_factor = pyro.sample('cov_factor', dst.Normal(cov_factor_loc,cov_factor_scale))\n",
    "        cov_factor = cov_factor.transpose(0,1)\n",
    "    with pyro.plate('N', N):\n",
    "        X = pyro.sample('obs', dst.LowRankMultivariateNormal(loc, cov_factor=cov_factor, cov_diag=cov_diag))\n",
    "    return X"
   ]
  },
  {
   "cell_type": "code",
   "execution_count": 5,
   "metadata": {},
   "outputs": [
    {
     "name": "stdout",
     "output_type": "stream",
     "text": [
      "Module(\n",
      "    body=[\n",
      "        FunctionDef(name='model2',\n",
      "            args=arguments(args=[arg(arg='X', annotation=None)],\n",
      "                vararg=None,\n",
      "                kwonlyargs=[],\n",
      "                kw_defaults=[],\n",
      "                kwarg=None,\n",
      "                defaults=[]),\n",
      "            body=[\n",
      "                Assign(targets=[Tuple(elts=[Name(id='N'), Name(id='D')])],\n",
      "                    value=Attribute(value=Name(id='X'), attr='shape')),\n",
      "                Assign(targets=[Name(id='K')], value=Name(id='D')),\n",
      "                Assign(targets=[Name(id='locloc')], value=Num(n=0.0)),\n",
      "                Assign(targets=[Name(id='locscale')], value=Num(n=1.0)),\n",
      "                Assign(targets=[Name(id='scaleloc')], value=Num(n=0.0)),\n",
      "                Assign(targets=[Name(id='scalescale')], value=Num(n=1.0)),\n",
      "                Assign(targets=[Name(id='cov_factor_loc')],\n",
      "                    value=Call(func=Attribute(value=Name(id='torch'), attr='zeros'),\n",
      "                        args=[Name(id='K'), Name(id='D')],\n",
      "                        keywords=[])),\n",
      "                Assign(targets=[Name(id='cov_factor_scale')],\n",
      "                    value=BinOp(\n",
      "                        left=Call(func=Attribute(value=Name(id='torch'), attr='ones'),\n",
      "                            args=[Name(id='K'), Name(id='D')],\n",
      "                            keywords=[]),\n",
      "                        op=Mult,\n",
      "                        right=Num(n=10))),\n",
      "                With(\n",
      "                    items=[\n",
      "                        withitem(\n",
      "                            context_expr=Call(func=Attribute(value=Name(id='pyro'), attr='plate'),\n",
      "                                args=[Str(s='D'), Name(id='D')],\n",
      "                                keywords=[]),\n",
      "                            optional_vars=None)],\n",
      "                    body=[\n",
      "                        Assign(targets=[Name(id='loc')],\n",
      "                            value=Call(func=Attribute(value=Name(id='pyro'), attr='sample'),\n",
      "                                args=[Str(s='loc'),\n",
      "                                    Call(func=Attribute(value=Name(id='dst'), attr='Normal'),\n",
      "                                        args=[Name(id='locloc'), Name(id='locscale')],\n",
      "                                        keywords=[])],\n",
      "                                keywords=[])),\n",
      "                        Assign(targets=[Name(id='cov_diag')],\n",
      "                            value=Call(func=Attribute(value=Name(id='pyro'), attr='sample'),\n",
      "                                args=[Str(s='scale'),\n",
      "                                    Call(func=Attribute(value=Name(id='dst'), attr='LogNormal'),\n",
      "                                        args=[Name(id='scaleloc'), Name(id='scalescale')],\n",
      "                                        keywords=[])],\n",
      "                                keywords=[])),\n",
      "                        With(\n",
      "                            items=[\n",
      "                                withitem(\n",
      "                                    context_expr=Call(func=Attribute(value=Name(id='pyro'), attr='plate'),\n",
      "                                        args=[Str(s='K'), Name(id='K')],\n",
      "                                        keywords=[]),\n",
      "                                    optional_vars=None)],\n",
      "                            body=[\n",
      "                                Assign(targets=[Name(id='cov_factor')],\n",
      "                                    value=Call(func=Attribute(value=Name(id='pyro'), attr='sample'),\n",
      "                                        args=[Str(s='cov_factor'),\n",
      "                                            Call(func=Attribute(value=Name(id='dst'), attr='Normal'),\n",
      "                                                args=[Name(id='cov_factor_loc'), Name(id='cov_factor_scale')],\n",
      "                                                keywords=[])],\n",
      "                                        keywords=[]))]),\n",
      "                        Assign(targets=[Name(id='cov_factor')],\n",
      "                            value=Call(func=Attribute(value=Name(id='cov_factor'), attr='transpose'),\n",
      "                                args=[Num(n=0), Num(n=1)],\n",
      "                                keywords=[]))]),\n",
      "                With(\n",
      "                    items=[\n",
      "                        withitem(\n",
      "                            context_expr=Call(func=Attribute(value=Name(id='pyro'), attr='plate'),\n",
      "                                args=[Str(s='N'), Name(id='N')],\n",
      "                                keywords=[]),\n",
      "                            optional_vars=None)],\n",
      "                    body=[\n",
      "                        Assign(targets=[Name(id='X')],\n",
      "                            value=Call(func=Attribute(value=Name(id='pyro'), attr='sample'),\n",
      "                                args=[Str(s='obs'),\n",
      "                                    Call(func=Attribute(value=Name(id='dst'), attr='LowRankMultivariateNormal'),\n",
      "                                        args=[Name(id='loc')],\n",
      "                                        keywords=[keyword(arg='cov_factor', value=Name(id='cov_factor')),\n",
      "                                            keyword(arg='cov_diag', value=Name(id='cov_diag'))])],\n",
      "                                keywords=[]))]),\n",
      "                Return(value=Name(id='X'))],\n",
      "            decorator_list=[],\n",
      "            returns=None)])\n"
     ]
    },
    {
     "name": "stderr",
     "output_type": "stream",
     "text": [
      "/home/frans/anaconda3/lib/python3.7/site-packages/ipykernel_launcher.py:3: DeprecationWarning: astor.dump is deprecated.  Please use astor.dump_tree.\n",
      "  This is separate from the ipykernel package so we can avoid doing imports until\n"
     ]
    }
   ],
   "source": [
    "source2 = inspect.getsource(model2)\n",
    "tree2 = ast.parse(source2)\n",
    "print(astor.dump(tree2))"
   ]
  },
  {
   "cell_type": "code",
   "execution_count": 6,
   "metadata": {},
   "outputs": [],
   "source": [
    "class AddToPlate(ast.NodeTransformer):\n",
    "    \"\"\"\n",
    "    Identifies plate with specified name, and appends specified code to its body. \n",
    "    If code is None, assigns plate to self.plate and deletes it\n",
    "    \"\"\"\n",
    "    def __init__(self, plate_name, code):\n",
    "        self.plate_name = plate_name\n",
    "        self.code = code\n",
    "        super().__init__()\n",
    "    def visit_With(self, node):\n",
    "        # we want to visit child nodes, so visit it\n",
    "        self.generic_visit(node)\n",
    "        withexpr = node.items[0].context_expr\n",
    "        if withexpr.func.attr == 'plate' and withexpr.args[0].s == self.plate_name:\n",
    "            self.plate = node\n",
    "            if self.code is None:\n",
    "                return\n",
    "            else:\n",
    "                newnode = node\n",
    "                newnode.body.append(self.code)\n",
    "                return newnode\n",
    "        else:\n",
    "            return node"
   ]
  },
  {
   "cell_type": "code",
   "execution_count": 51,
   "metadata": {},
   "outputs": [],
   "source": [
    "class FindInFunctionBody(ast.NodeTransformer):\n",
    "    \"\"\"\n",
    "    Looks for specified code in a function\n",
    "    \"\"\"\n",
    "    def __init__(self, code, head=True):\n",
    "        self.code = code\n",
    "        self.head = head\n",
    "        super().__init__()\n",
    "    def visit_FunctionDef(self, node):\n",
    "        self.generic_visit(node)\n",
    "        #print(astor.dump_tree(node.body[node.body.index(self.code)]))\n",
    "        print(astor.dump_tree(self.code))\n",
    "        print(astor.dump_tree(node.body[1]))\n",
    "        print(node.body[1]==self.code)\n",
    "        #if self.head:\n",
    "            #insert the whole code statement first in the body of the function\n",
    "        #    node.body = [self.code] + node.body\n",
    "        #else:\n",
    "            #append the whole code statement last in the body of the function\n",
    "        #    node.body.append(self.code)\n",
    "            # switch code and return statement so it's last\n",
    "        #    node.body[-1], node.body[-2] = node.body[-2], node.body[-1]\n",
    "        return node"
   ]
  },
  {
   "cell_type": "code",
   "execution_count": 52,
   "metadata": {},
   "outputs": [
    {
     "data": {
      "text/plain": [
       "<_ast.Assign at 0x7f3c2973b198>"
      ]
     },
     "execution_count": 52,
     "metadata": {},
     "output_type": "execute_result"
    }
   ],
   "source": [
    "parse('K = D').body[0]"
   ]
  },
  {
   "cell_type": "code",
   "execution_count": 53,
   "metadata": {},
   "outputs": [],
   "source": [
    "source = inspect.getsource(model2)\n",
    "# parse into abstract syntax tree\n",
    "tree = ast.parse(source)"
   ]
  },
  {
   "cell_type": "code",
   "execution_count": 54,
   "metadata": {},
   "outputs": [
    {
     "name": "stdout",
     "output_type": "stream",
     "text": [
      "Module(\n",
      "    body=[\n",
      "        FunctionDef(name='model2',\n",
      "            args=arguments(args=[arg(arg='X', annotation=None)],\n",
      "                vararg=None,\n",
      "                kwonlyargs=[],\n",
      "                kw_defaults=[],\n",
      "                kwarg=None,\n",
      "                defaults=[]),\n",
      "            body=[\n",
      "                Assign(targets=[Tuple(elts=[Name(id='N'), Name(id='D')])],\n",
      "                    value=Attribute(value=Name(id='X'), attr='shape')),\n",
      "                Assign(targets=[Name(id='K')], value=Name(id='D')),\n",
      "                Assign(targets=[Name(id='locloc')], value=Num(n=0.0)),\n",
      "                Assign(targets=[Name(id='locscale')], value=Num(n=1.0)),\n",
      "                Assign(targets=[Name(id='scaleloc')], value=Num(n=0.0)),\n",
      "                Assign(targets=[Name(id='scalescale')], value=Num(n=1.0)),\n",
      "                Assign(targets=[Name(id='cov_factor_loc')],\n",
      "                    value=Call(func=Attribute(value=Name(id='torch'), attr='zeros'),\n",
      "                        args=[Name(id='K'), Name(id='D')],\n",
      "                        keywords=[])),\n",
      "                Assign(targets=[Name(id='cov_factor_scale')],\n",
      "                    value=BinOp(\n",
      "                        left=Call(func=Attribute(value=Name(id='torch'), attr='ones'),\n",
      "                            args=[Name(id='K'), Name(id='D')],\n",
      "                            keywords=[]),\n",
      "                        op=Mult,\n",
      "                        right=Num(n=10))),\n",
      "                With(\n",
      "                    items=[\n",
      "                        withitem(\n",
      "                            context_expr=Call(func=Attribute(value=Name(id='pyro'), attr='plate'),\n",
      "                                args=[Str(s='D'), Name(id='D')],\n",
      "                                keywords=[]),\n",
      "                            optional_vars=None)],\n",
      "                    body=[\n",
      "                        Assign(targets=[Name(id='loc')],\n",
      "                            value=Call(func=Attribute(value=Name(id='pyro'), attr='sample'),\n",
      "                                args=[Str(s='loc'),\n",
      "                                    Call(func=Attribute(value=Name(id='dst'), attr='Normal'),\n",
      "                                        args=[Name(id='locloc'), Name(id='locscale')],\n",
      "                                        keywords=[])],\n",
      "                                keywords=[])),\n",
      "                        Assign(targets=[Name(id='cov_diag')],\n",
      "                            value=Call(func=Attribute(value=Name(id='pyro'), attr='sample'),\n",
      "                                args=[Str(s='scale'),\n",
      "                                    Call(func=Attribute(value=Name(id='dst'), attr='LogNormal'),\n",
      "                                        args=[Name(id='scaleloc'), Name(id='scalescale')],\n",
      "                                        keywords=[])],\n",
      "                                keywords=[])),\n",
      "                        With(\n",
      "                            items=[\n",
      "                                withitem(\n",
      "                                    context_expr=Call(func=Attribute(value=Name(id='pyro'), attr='plate'),\n",
      "                                        args=[Str(s='K'), Name(id='K')],\n",
      "                                        keywords=[]),\n",
      "                                    optional_vars=None)],\n",
      "                            body=[\n",
      "                                Assign(targets=[Name(id='cov_factor')],\n",
      "                                    value=Call(func=Attribute(value=Name(id='pyro'), attr='sample'),\n",
      "                                        args=[Str(s='cov_factor'),\n",
      "                                            Call(func=Attribute(value=Name(id='dst'), attr='Normal'),\n",
      "                                                args=[Name(id='cov_factor_loc'), Name(id='cov_factor_scale')],\n",
      "                                                keywords=[])],\n",
      "                                        keywords=[]))]),\n",
      "                        Assign(targets=[Name(id='cov_factor')],\n",
      "                            value=Call(func=Attribute(value=Name(id='cov_factor'), attr='transpose'),\n",
      "                                args=[Num(n=0), Num(n=1)],\n",
      "                                keywords=[]))]),\n",
      "                With(\n",
      "                    items=[\n",
      "                        withitem(\n",
      "                            context_expr=Call(func=Attribute(value=Name(id='pyro'), attr='plate'),\n",
      "                                args=[Str(s='N'), Name(id='N')],\n",
      "                                keywords=[]),\n",
      "                            optional_vars=None)],\n",
      "                    body=[\n",
      "                        Assign(targets=[Name(id='X')],\n",
      "                            value=Call(func=Attribute(value=Name(id='pyro'), attr='sample'),\n",
      "                                args=[Str(s='obs'),\n",
      "                                    Call(func=Attribute(value=Name(id='dst'), attr='LowRankMultivariateNormal'),\n",
      "                                        args=[Name(id='loc')],\n",
      "                                        keywords=[keyword(arg='cov_factor', value=Name(id='cov_factor')),\n",
      "                                            keyword(arg='cov_diag', value=Name(id='cov_diag'))])],\n",
      "                                keywords=[]))]),\n",
      "                Return(value=Name(id='X'))],\n",
      "            decorator_list=[],\n",
      "            returns=None)])\n"
     ]
    }
   ],
   "source": [
    "print(astor.dump_tree(tree))"
   ]
  },
  {
   "cell_type": "code",
   "execution_count": null,
   "metadata": {},
   "outputs": [],
   "source": [
    "parse()"
   ]
  },
  {
   "cell_type": "code",
   "execution_count": 55,
   "metadata": {},
   "outputs": [
    {
     "name": "stdout",
     "output_type": "stream",
     "text": [
      "Assign(targets=[Name(id='K')], value=Name(id='D'))\n",
      "Assign(targets=[Name(id='K')], value=Name(id='D'))\n",
      "False\n"
     ]
    },
    {
     "data": {
      "text/plain": [
       "<_ast.Module at 0x7f3c2973b320>"
      ]
     },
     "execution_count": 55,
     "metadata": {},
     "output_type": "execute_result"
    }
   ],
   "source": [
    "FindInFunctionBody(code=parse('K = D').body[0]).visit(tree)"
   ]
  },
  {
   "cell_type": "code",
   "execution_count": 49,
   "metadata": {},
   "outputs": [],
   "source": [
    "class AddToFunctionBody(ast.NodeTransformer):\n",
    "    \"\"\"\n",
    "    Adds code to either the beginning (default) or end of a function\n",
    "    \"\"\"\n",
    "    def __init__(self, code, head=True):\n",
    "        self.code = code\n",
    "        self.head = head\n",
    "        super().__init__()\n",
    "    def visit_FunctionDef(self, node):\n",
    "        self.generic_visit(node)\n",
    "        if self.head:\n",
    "            #insert the whole code statement first in the body of the function\n",
    "            node.body = [self.code] + node.body\n",
    "        else:\n",
    "            #append the whole code statement last in the body of the function\n",
    "            node.body.append(self.code)\n",
    "            # switch code and return statement so it's last\n",
    "            node.body[-1], node.body[-2] = node.body[-2], node.body[-1]\n",
    "        return node"
   ]
  },
  {
   "cell_type": "code",
   "execution_count": 50,
   "metadata": {},
   "outputs": [],
   "source": [
    "#class AddPlateUnderPlate(ast.NodeTransformer):\n",
    "#    def __init__(self, plate, plate_name):\n",
    "#        self.plate = plate # plate to add\n",
    "#        self.plate_name = plate_name # plate under which to add\n",
    "#        super().__init__()\n",
    "#    def visit_With(self, node):\n",
    "#        self.generic_visit(node)\n",
    "#        withexpr = node.items[0].context_expr\n",
    "#        if withexpr.func.attr == 'plate' and withexpr.args[0].s == self.plate_name:\n",
    "#            node.body.append(self.plate)\n",
    "#        else:\n",
    "#            return node\n",
    "        \n",
    "#def cutpasteplate(tree, plate_name):\n",
    "#    \"\"\"\n",
    "#    Cut a plate from any nesting level and paste it in the top level of the function,\n",
    "#    e.g. when transforming an independent Gaussian to a factor model, where features are no longer independent\n",
    "#    \"\"\"\n",
    "#    cut = ModifyPlate(plate_name, insert_code=None) # cut plate by adding nothing under plane\n",
    "#    cut.visit(tree)\n",
    "#    paste = AddPlateTopLevel(cut.plate)\n",
    "#    paste.visit(tree)\n",
    "    "
   ]
  },
  {
   "cell_type": "code",
   "execution_count": 9,
   "metadata": {},
   "outputs": [],
   "source": [
    "class ChangeObservationModel(ast.NodeTransformer):\n",
    "    \"\"\"\n",
    "    Identifies sampling site with name 'obs', and replaces its distribution with a specified one\n",
    "    \"\"\"\n",
    "    def __init__(self, new_obs_model):\n",
    "        self.new_obs_model = new_obs_model\n",
    "        super().__init__()\n",
    "    def visit_Call(self, node):\n",
    "        # we want to visit child nodes, so visit it\n",
    "        self.generic_visit(node)\n",
    "        if node.func.attr == 'sample' and node.args[0].s == 'obs':\n",
    "            newnode = node\n",
    "            newnode.args[1] = self.new_obs_model\n",
    "            return newnode\n",
    "        else:\n",
    "            return node\n",
    "        \n",
    "def change_observation_model_to_LowRankMultivariateNormal(tree):\n",
    "    lowrank_normal_obs_model = ast.Call(func=ast.Attribute(value=ast.Name(id='dst', ctx=ast.Load()), attr='LowRankMultivariateNormal', ctx=ast.Load()),\\\n",
    "                                args=[ast.Name(id='loc', ctx=ast.Load())],\\\n",
    "                                keywords=[ast.keyword(arg='cov_factor', value=ast.Name(id='cov_factor', ctx=ast.Load())),\\\n",
    "                                ast.keyword(arg='cov_diag', value=ast.Name(id='cov_diag', ctx=ast.Load()))]) \n",
    "    ChangeObservationModel(lowrank_normal_obs_model).visit(tree)"
   ]
  },
  {
   "cell_type": "code",
   "execution_count": 10,
   "metadata": {},
   "outputs": [],
   "source": [
    "# the following functions modify observation models\n",
    "\n",
    "def addFactor(model):\n",
    "    \"\"\"\n",
    "    Given an independent Gaussian, changes it to a LowRankMultivariateNormal with one factor\n",
    "    Given a lowrank Gaussian, adds a factor\n",
    "    \"\"\"\n",
    "    # read model code\n",
    "    source = inspect.getsource(model)\n",
    "    # parse into abstract syntax tree\n",
    "    tree = ast.parse(source)\n",
    "    \n",
    "    # check if model is independent Gaussian or factor\n",
    "    # if independent Gaussian:\n",
    "    \n",
    "    # move the N plate out from the D plate to top level\n",
    "    cut = AddToPlate('N', code=None) # delete observation plate, assign to cut.plate\n",
    "    cut.visit(tree)\n",
    "    paste = AddToFunctionBody(code=cut.plate, head=False) # add plate at the bottom of the function\n",
    "    paste.visit(tree)\n",
    "    \n",
    "    # replace Normal observation model with LowRankMultivariateNormal\n",
    "    change_observation_model_to_LowRankMultivariateNormal(tree)\n",
    "    \n",
    "    # under D plate, add K plate, add cov_factor under K plate\n",
    "    cov_factor = ast.Assign(targets=[ast.Name(id='cov_factor', ctx=ast.Store())],\\\n",
    "                                    value=ast.Call(func=ast.Attribute(value=ast.Name(id='pyro', ctx=ast.Load()), attr='sample', ctx=ast.Load()),\\\n",
    "                                        args=[ast.Str(s='cov_factor'),\\\n",
    "                                            ast.Call(func=ast.Attribute(value=ast.Name(id='dst', ctx=ast.Load()), attr='Normal', ctx=ast.Load()),\\\n",
    "                                                args=[ast.Name(id='cov_factor_loc', ctx=ast.Load()), ast.Name(id='cov_factor_scale', ctx=ast.Load())],\\\n",
    "                                                keywords=[])],\\\n",
    "                                        keywords=[]))\n",
    "    AddToPlate('D', code=cov_factor).visit(tree)\n",
    "\n",
    "    # under D plate, transpose it\n",
    "    transpose_cov_factor = ast.Assign(targets=[ast.Name(id='cov_factor', ctx=ast.Store())],\\\n",
    "                            value=ast.Call(func=ast.Attribute(value=ast.Name(id='cov_factor', ctx=ast.Load()), attr='transpose', ctx=ast.Load()),\\\n",
    "                                args=[ast.Num(n=0), ast.Num(n=1)],\\\n",
    "                                keywords=[]))\n",
    "    \n",
    "    AddToPlate('D', code=transpose_cov_factor).visit(tree)\n",
    "    \n",
    "    # add locloc, locscale, scaleloc, scalescale, cov_factor_loc and cov_factor_scale\n",
    "    cov_factor_scale = ast.Assign(targets=[ast.Name(id='cov_factor_scale', ctx=ast.Store())],\\\n",
    "                    value=ast.BinOp(\\\n",
    "                        left=ast.Call(func=Attribute(value=Name(id='torch', ctx=ast.Load()), attr='ones'),\\\n",
    "                            args=[ast.Name(id='K', ctx=ast.Load()), Name(id='D', ctx=ast.Load())],\\\n",
    "                            keywords=[]),\\\n",
    "                        op=ast.Mult,\\\n",
    "                        right=ast.Num(n=10))),\n",
    "    \n",
    "    cov_factor_loc = ast.Assign(targets=[Name(id='cov_factor_loc', ctx=Store())],\\\n",
    "                    value=Call(func=Attribute(value=Name(id='torch', ctx=Load()), attr='zeros', ctx=Load()),\\\n",
    "                        args=[Name(id='K', ctx=Load()), Name(id='D', ctx=Load())],\\\n",
    "                        keywords=[]))\n",
    "\n",
    "    #AddToFunctionBody(code = cov_factor_scale).visit(tree)\n",
    "    AddToFunctionBody(code = cov_factor_loc).visit(tree)\n",
    "    AddToFunctionBody(code = ast.Assign(targets=[ast.Name(id='scalescale', ctx=ast.Store())], value=ast.Num(n=1.0))).visit(tree)\n",
    "    AddToFunctionBody(code = ast.Assign(targets=[ast.Name(id='scaleloc', ctx=ast.Store())], value=ast.Num(n=0.0))).visit(tree)\n",
    "    AddToFunctionBody(code = ast.Assign(targets=[ast.Name(id='locscale', ctx=ast.Store())], value=ast.Num(n=1.0))).visit(tree)\n",
    "    AddToFunctionBody(code = ast.Assign(targets=[ast.Name(id='locloc', ctx=ast.Store())], value=ast.Num(n=0.0))).visit(tree)\n",
    "    #AddToFunctionBody(code = Assign(targets=[Name(id='K', ctx=Store())], value=Name(id='D', ctx=Load()))).visit(tree)\n",
    "    AddToFunctionBody(code = parse('K = D').body[0]).visit(tree)\n",
    "    # add K = D\n",
    "    ast.fix_missing_locations(tree)\n",
    "    \n",
    "    #print(astor.dump_tree(tree))\n",
    "    print(astor.to_source(tree))\n",
    "    code = compile(tree, '', 'exec')\n",
    "    context = {}\n",
    "    exec(code, globals(), context)\n",
    "    return context['model']"
   ]
  },
  {
   "cell_type": "code",
   "execution_count": 11,
   "metadata": {},
   "outputs": [],
   "source": [
    "def removeFactor(model):\n",
    "    \"\"\"\n",
    "    Given a factor model with one factor, turns it into an independent Gaussian\n",
    "    Given a factor model with more than one factor, removes one factor\n",
    "    \"\"\"\n",
    "    return model\n",
    "\n",
    "def splitCluster(model):\n",
    "    \"\"\"\n",
    "    Given an independent Gaussian, changes it to a mixture of two independent Gaussians with shared covariance\n",
    "    Given a lowrank Gaussian, changes it to a mixture of two lowrank Gaussians with shared covariance\n",
    "    \"\"\"\n",
    "    return model\n",
    "    \n",
    "def mergeCluster(model):\n",
    "    \"\"\"\n",
    "    Given a mixture model with two components, merges them into a single Gaussian\n",
    "    \"\"\"\n",
    "    return model\n",
    "    \n",
    "def scaleCovariances(model):\n",
    "    \"\"\"\n",
    "    Given a mixture with shared covariances, adds a scaling parameter to each component covariance\n",
    "    \"\"\"\n",
    "    return model\n",
    "    \n",
    "def decoupleCovariances(model):\n",
    "    \"\"\"\n",
    "    Given a mixture with shared covariances, endows each component with its own covariance\n",
    "    \"\"\"\n",
    "    return model\n",
    "    \n",
    "def shareCovariances(model):\n",
    "    \"\"\"\n",
    "    Given a mixture with distinct covariances, calculates a single covariance matrix to be replace them\n",
    "    \"\"\"\n",
    "    return model\n",
    "\n",
    "def addLayer(model):\n",
    "    \"\"\"\n",
    "    Given a factor model, converts it to an NN layer, and adds a hidden layer on top\n",
    "    Given an NN module, adds a hidden layer on top\n",
    "    \"\"\"\n",
    "    return model"
   ]
  },
  {
   "cell_type": "code",
   "execution_count": 12,
   "metadata": {},
   "outputs": [
    {
     "name": "stdout",
     "output_type": "stream",
     "text": [
      "def model(X):\n",
      "    N, D = X.shape\n",
      "    with pyro.plate('D', D):\n",
      "        loc = pyro.sample('loc', dst.Normal(0.0, 10.0))\n",
      "        scale = pyro.sample('scale', dst.LogNormal(0.0, 4.0))\n",
      "        with pyro.plate('N', N):\n",
      "            X = pyro.sample('obs', dst.Normal(loc, scale))\n",
      "    return X\n",
      "\n"
     ]
    }
   ],
   "source": [
    "#source = inspect.getsource(model)\n",
    "#tree = ast.parse(source)\n",
    "print(astor.to_source(ast.parse(inspect.getsource(model))))"
   ]
  },
  {
   "cell_type": "code",
   "execution_count": 13,
   "metadata": {},
   "outputs": [
    {
     "name": "stdout",
     "output_type": "stream",
     "text": [
      "def model(X):\n",
      "    K = D\n",
      "    locloc = 0.0\n",
      "    locscale = 1.0\n",
      "    scaleloc = 0.0\n",
      "    scalescale = 1.0\n",
      "    cov_factor_loc = torch.zeros(K, D)\n",
      "    N, D = X.shape\n",
      "    with pyro.plate('D', D):\n",
      "        loc = pyro.sample('loc', dst.Normal(0.0, 10.0))\n",
      "        scale = pyro.sample('scale', dst.LogNormal(0.0, 4.0))\n",
      "        cov_factor = pyro.sample('cov_factor', dst.Normal(cov_factor_loc,\n",
      "            cov_factor_scale))\n",
      "        cov_factor = cov_factor.transpose(0, 1)\n",
      "    with pyro.plate('N', N):\n",
      "        X = pyro.sample('obs', dst.LowRankMultivariateNormal(loc,\n",
      "            cov_factor=cov_factor, cov_diag=cov_diag))\n",
      "    return X\n",
      "\n"
     ]
    }
   ],
   "source": [
    "newmodel = addFactor(model)"
   ]
  },
  {
   "cell_type": "code",
   "execution_count": 14,
   "metadata": {},
   "outputs": [
    {
     "ename": "UnboundLocalError",
     "evalue": "local variable 'D' referenced before assignment",
     "output_type": "error",
     "traceback": [
      "\u001b[0;31m---------------------------------------------------------------------------\u001b[0m",
      "\u001b[0;31mUnboundLocalError\u001b[0m                         Traceback (most recent call last)",
      "\u001b[0;32m<ipython-input-14-a71d4a1cd60d>\u001b[0m in \u001b[0;36m<module>\u001b[0;34m\u001b[0m\n\u001b[0;32m----> 1\u001b[0;31m \u001b[0mnewmodel\u001b[0m\u001b[0;34m(\u001b[0m\u001b[0mnp\u001b[0m\u001b[0;34m.\u001b[0m\u001b[0mrandom\u001b[0m\u001b[0;34m.\u001b[0m\u001b[0mrandn\u001b[0m\u001b[0;34m(\u001b[0m\u001b[0;36m1000\u001b[0m\u001b[0;34m,\u001b[0m\u001b[0;36m2\u001b[0m\u001b[0;34m)\u001b[0m\u001b[0;34m)\u001b[0m\u001b[0;34m\u001b[0m\u001b[0;34m\u001b[0m\u001b[0m\n\u001b[0m",
      "\u001b[0;32m?\u001b[0m in \u001b[0;36mmodel\u001b[0;34m(X)\u001b[0m\n",
      "\u001b[0;31mUnboundLocalError\u001b[0m: local variable 'D' referenced before assignment"
     ]
    }
   ],
   "source": [
    "newmodel(np.random.randn(1000,2))"
   ]
  },
  {
   "cell_type": "code",
   "execution_count": null,
   "metadata": {},
   "outputs": [],
   "source": [
    "# because newmodel was built interactively, there's no source code anywhere to read\n",
    "inspect.getsource(newmodel)"
   ]
  },
  {
   "cell_type": "code",
   "execution_count": null,
   "metadata": {},
   "outputs": [],
   "source": [
    "model(np.random.randn(1000,2))"
   ]
  },
  {
   "cell_type": "code",
   "execution_count": null,
   "metadata": {},
   "outputs": [],
   "source": [
    "print(astor.to_source(ast.parse(inspect.getsource(newmodel))))"
   ]
  },
  {
   "cell_type": "code",
   "execution_count": null,
   "metadata": {},
   "outputs": [],
   "source": [
    "class NumberFinder(ast.NodeVisitor):\n",
    "    def visit_Num(self, node):\n",
    "        print(\"Found number literal\", node.n)\n",
    "\n",
    "def find_numbers(tree):\n",
    "    NumberFinder().visit(tree)"
   ]
  },
  {
   "cell_type": "code",
   "execution_count": null,
   "metadata": {},
   "outputs": [],
   "source": [
    "find_numbers(tree)"
   ]
  },
  {
   "cell_type": "code",
   "execution_count": null,
   "metadata": {},
   "outputs": [],
   "source": [
    "class FuncFinder(ast.NodeVisitor):\n",
    "    def visit_Call(self, node):\n",
    "        print(\"Found function\", astor.dump_tree(node.func), '\\nwith arguments \\n', astor.dump_tree(node.args), \"\\n\")\n",
    "\n",
    "def find_func(tree):\n",
    "    FuncFinder().visit(tree)"
   ]
  },
  {
   "cell_type": "code",
   "execution_count": null,
   "metadata": {},
   "outputs": [],
   "source": [
    "find_func(tree)"
   ]
  },
  {
   "cell_type": "code",
   "execution_count": null,
   "metadata": {},
   "outputs": [],
   "source": [
    "\n",
    "find_func(tree2)"
   ]
  },
  {
   "cell_type": "code",
   "execution_count": null,
   "metadata": {},
   "outputs": [],
   "source": [
    "print(astor.dump_tree(tree))"
   ]
  },
  {
   "cell_type": "code",
   "execution_count": null,
   "metadata": {},
   "outputs": [],
   "source": []
  },
  {
   "cell_type": "code",
   "execution_count": null,
   "metadata": {},
   "outputs": [],
   "source": [
    "print(astor.to_source(tree))"
   ]
  },
  {
   "cell_type": "code",
   "execution_count": null,
   "metadata": {},
   "outputs": [],
   "source": [
    "class SampleFinder(ast.NodeVisitor):\n",
    "    def visit_Call(self, node):\n",
    "        if node.func.attr == 'sample':\n",
    "            print(astor.dump_tree(astor.to_source(node.args[0])), '\\nwith arguments \\n', astor.dump_tree(node.args), \"\\n\")\n",
    "\n",
    "def find_sample(tree):\n",
    "    SampleFinder().visit(tree)"
   ]
  },
  {
   "cell_type": "code",
   "execution_count": null,
   "metadata": {},
   "outputs": [],
   "source": [
    "plt.scatter(*model(np.random.randn(1000,2)).detach().numpy().T, alpha=.1);"
   ]
  },
  {
   "cell_type": "code",
   "execution_count": null,
   "metadata": {},
   "outputs": [],
   "source": [
    "plt.scatter(*model2(np.random.randn(1000,2)).detach().numpy().T, alpha=.1)"
   ]
  }
 ],
 "metadata": {
  "kernelspec": {
   "display_name": "Python 3",
   "language": "python",
   "name": "python3"
  },
  "language_info": {
   "codemirror_mode": {
    "name": "ipython",
    "version": 3
   },
   "file_extension": ".py",
   "mimetype": "text/x-python",
   "name": "python",
   "nbconvert_exporter": "python",
   "pygments_lexer": "ipython3",
   "version": "3.7.1"
  }
 },
 "nbformat": 4,
 "nbformat_minor": 2
}
