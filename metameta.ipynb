{
 "cells": [
  {
   "cell_type": "code",
   "execution_count": 1,
   "metadata": {},
   "outputs": [],
   "source": [
    "import numpy as np\n",
    "import torch\n",
    "import pyro\n",
    "from pyro import distributions as dst\n",
    "import matplotlib.pylab as plt"
   ]
  },
  {
   "cell_type": "code",
   "execution_count": 2,
   "metadata": {},
   "outputs": [],
   "source": [
    "import inspect, ast, astor"
   ]
  },
  {
   "cell_type": "code",
   "execution_count": 3,
   "metadata": {},
   "outputs": [],
   "source": [
    "def model(X):\n",
    "    N, D = X.shape\n",
    "    with pyro.plate('D', D):\n",
    "        loc = pyro.sample('loc', dst.Normal(0.,10.))\n",
    "        scale = pyro.sample('scale', dst.LogNormal(0.,4.))\n",
    "        with pyro.plate('N', N):\n",
    "            X = pyro.sample('obs', dst.Normal(loc,scale))\n",
    "    return X"
   ]
  },
  {
   "cell_type": "code",
   "execution_count": 4,
   "metadata": {},
   "outputs": [],
   "source": [
    "def model2(X):\n",
    "    N, D = X.shape\n",
    "    K = D\n",
    "    locloc = 0.\n",
    "    locscale = 1.\n",
    "    scaleloc = 0.\n",
    "    scalescale = 1.\n",
    "    cov_factor_loc = torch.zeros(K,D)\n",
    "    cov_factor_scale = torch.ones(K,D)*10\n",
    "    with pyro.plate('D', D):\n",
    "        loc = pyro.sample('loc', dst.Normal(locloc, locscale))\n",
    "        cov_diag = pyro.sample('scale', dst.LogNormal(scaleloc, scalescale))\n",
    "        with pyro.plate('K', K):\n",
    "            cov_factor = pyro.sample('cov_factor', dst.Normal(cov_factor_loc,cov_factor_scale))\n",
    "        cov_factor = cov_factor.transpose(0,1)\n",
    "    with pyro.plate('N', N):\n",
    "        X = pyro.sample('obs', dst.LowRankMultivariateNormal(loc, cov_factor=cov_factor, cov_diag=cov_diag))\n",
    "    return X"
   ]
  },
  {
   "cell_type": "code",
   "execution_count": 5,
   "metadata": {},
   "outputs": [],
   "source": [
    "# move the N plate out from the D plate to top level\n",
    "# replace Normal with LowRankMultivariateNormal\n",
    "# under D plate, add K plate, add cov_factor under K plate\n",
    "# under D plate, transpose it\n",
    "# add locloc, locscale, scaleloc, scalescale, cov_factor_loc and cov_factor_scale\n",
    "# add K = D"
   ]
  },
  {
   "cell_type": "code",
   "execution_count": 6,
   "metadata": {},
   "outputs": [],
   "source": [
    "def addRank(model):\n",
    "    \"\"\"\n",
    "    Given an independent Gaussian model, changes it to a LowRankMultivariateNormal\n",
    "    \"\"\"\n",
    "    source = inspect.getsource(model)\n",
    "    tree = ast.parse(source)\n",
    "    \n",
    "    return newmodel"
   ]
  },
  {
   "cell_type": "code",
   "execution_count": 7,
   "metadata": {},
   "outputs": [],
   "source": [
    "source = inspect.getsource(model)"
   ]
  },
  {
   "cell_type": "code",
   "execution_count": 8,
   "metadata": {},
   "outputs": [
    {
     "data": {
      "text/plain": [
       "\"def model(X):\\n    N, D = X.shape\\n    with pyro.plate('D', D):\\n        loc = pyro.sample('loc', dst.Normal(0.,10.))\\n        scale = pyro.sample('scale', dst.LogNormal(0.,4.))\\n        with pyro.plate('N', N):\\n            X = pyro.sample('obs', dst.Normal(loc,scale))\\n    return X\\n\""
      ]
     },
     "execution_count": 8,
     "metadata": {},
     "output_type": "execute_result"
    }
   ],
   "source": [
    "source"
   ]
  },
  {
   "cell_type": "code",
   "execution_count": 9,
   "metadata": {},
   "outputs": [],
   "source": [
    "tree = ast.parse(source)"
   ]
  },
  {
   "cell_type": "code",
   "execution_count": 10,
   "metadata": {},
   "outputs": [
    {
     "data": {
      "text/plain": [
       "<_ast.Module at 0x7fb74a60f2b0>"
      ]
     },
     "execution_count": 10,
     "metadata": {},
     "output_type": "execute_result"
    }
   ],
   "source": [
    "tree"
   ]
  },
  {
   "cell_type": "code",
   "execution_count": 11,
   "metadata": {},
   "outputs": [
    {
     "data": {
      "text/plain": [
       "[<_ast.FunctionDef at 0x7fb74a60f4a8>]"
      ]
     },
     "execution_count": 11,
     "metadata": {},
     "output_type": "execute_result"
    }
   ],
   "source": [
    "tree.body"
   ]
  },
  {
   "cell_type": "code",
   "execution_count": 12,
   "metadata": {},
   "outputs": [
    {
     "name": "stdout",
     "output_type": "stream",
     "text": [
      "def model(X):\n",
      "    N, D = X.shape\n",
      "    with pyro.plate('D', D):\n",
      "        loc = pyro.sample('loc', dst.Normal(0.0, 10.0))\n",
      "        scale = pyro.sample('scale', dst.LogNormal(0.0, 4.0))\n",
      "        with pyro.plate('N', N):\n",
      "            X = pyro.sample('obs', dst.Normal(loc, scale))\n",
      "    return X\n",
      "\n"
     ]
    }
   ],
   "source": [
    "print(astor.to_source(tree))"
   ]
  },
  {
   "cell_type": "code",
   "execution_count": 13,
   "metadata": {},
   "outputs": [
    {
     "data": {
      "text/plain": [
       "<code object model at 0x7fb7b542a660, file \"<ipython-input-3-f9372a3a3c8f>\", line 1>"
      ]
     },
     "execution_count": 13,
     "metadata": {},
     "output_type": "execute_result"
    }
   ],
   "source": [
    "model.__code__"
   ]
  },
  {
   "cell_type": "code",
   "execution_count": 14,
   "metadata": {},
   "outputs": [],
   "source": [
    "class NumberFinder(ast.NodeVisitor):\n",
    "    def visit_Num(self, node):\n",
    "        print(\"Found number literal\", node.n)\n",
    "\n",
    "def find_numbers(tree):\n",
    "    NumberFinder().visit(tree)"
   ]
  },
  {
   "cell_type": "code",
   "execution_count": 15,
   "metadata": {},
   "outputs": [
    {
     "name": "stdout",
     "output_type": "stream",
     "text": [
      "Found number literal 0.0\n",
      "Found number literal 10.0\n",
      "Found number literal 0.0\n",
      "Found number literal 4.0\n"
     ]
    }
   ],
   "source": [
    "find_numbers(tree)"
   ]
  },
  {
   "cell_type": "code",
   "execution_count": 16,
   "metadata": {},
   "outputs": [],
   "source": [
    "class FuncFinder(ast.NodeVisitor):\n",
    "    def visit_Call(self, node):\n",
    "        print(\"Found function\", astor.dump_tree(node.func), '\\nwith arguments \\n', astor.dump_tree(node.args), \"\\n\")\n",
    "\n",
    "def find_func(tree):\n",
    "    FuncFinder().visit(tree)"
   ]
  },
  {
   "cell_type": "code",
   "execution_count": 17,
   "metadata": {},
   "outputs": [
    {
     "name": "stdout",
     "output_type": "stream",
     "text": [
      "Found function Attribute(value=Name(id='pyro'), attr='plate') \n",
      "with arguments \n",
      " [Str(s='D'), Name(id='D')] \n",
      "\n",
      "Found function Attribute(value=Name(id='pyro'), attr='sample') \n",
      "with arguments \n",
      " [Str(s='loc'), Call(func=Attribute(value=Name(id='dst'), attr='Normal'), args=[Num(n=0.0), Num(n=10.0)], keywords=[])] \n",
      "\n",
      "Found function Attribute(value=Name(id='pyro'), attr='sample') \n",
      "with arguments \n",
      " [Str(s='scale'),\n",
      "    Call(func=Attribute(value=Name(id='dst'), attr='LogNormal'), args=[Num(n=0.0), Num(n=4.0)], keywords=[])] \n",
      "\n",
      "Found function Attribute(value=Name(id='pyro'), attr='plate') \n",
      "with arguments \n",
      " [Str(s='N'), Name(id='N')] \n",
      "\n",
      "Found function Attribute(value=Name(id='pyro'), attr='sample') \n",
      "with arguments \n",
      " [Str(s='obs'),\n",
      "    Call(func=Attribute(value=Name(id='dst'), attr='Normal'), args=[Name(id='loc'), Name(id='scale')], keywords=[])] \n",
      "\n"
     ]
    }
   ],
   "source": [
    "find_func(tree)"
   ]
  },
  {
   "cell_type": "code",
   "execution_count": 18,
   "metadata": {},
   "outputs": [],
   "source": [
    "source2 = inspect.getsource(model2)"
   ]
  },
  {
   "cell_type": "code",
   "execution_count": 19,
   "metadata": {},
   "outputs": [],
   "source": [
    "tree2 = ast.parse(source2)"
   ]
  },
  {
   "cell_type": "code",
   "execution_count": 20,
   "metadata": {},
   "outputs": [
    {
     "name": "stdout",
     "output_type": "stream",
     "text": [
      "Module(\n",
      "    body=[\n",
      "        FunctionDef(name='model2',\n",
      "            args=arguments(args=[arg(arg='X', annotation=None)],\n",
      "                vararg=None,\n",
      "                kwonlyargs=[],\n",
      "                kw_defaults=[],\n",
      "                kwarg=None,\n",
      "                defaults=[]),\n",
      "            body=[\n",
      "                Assign(targets=[Tuple(elts=[Name(id='N'), Name(id='D')])],\n",
      "                    value=Attribute(value=Name(id='X'), attr='shape')),\n",
      "                Assign(targets=[Name(id='K')], value=Name(id='D')),\n",
      "                Assign(targets=[Name(id='locloc')], value=Num(n=0.0)),\n",
      "                Assign(targets=[Name(id='locscale')], value=Num(n=1.0)),\n",
      "                Assign(targets=[Name(id='scaleloc')], value=Num(n=0.0)),\n",
      "                Assign(targets=[Name(id='scalescale')], value=Num(n=1.0)),\n",
      "                Assign(targets=[Name(id='cov_factor_loc')],\n",
      "                    value=Call(func=Attribute(value=Name(id='torch'), attr='zeros'),\n",
      "                        args=[Name(id='K'), Name(id='D')],\n",
      "                        keywords=[])),\n",
      "                Assign(targets=[Name(id='cov_factor_scale')],\n",
      "                    value=BinOp(\n",
      "                        left=Call(func=Attribute(value=Name(id='torch'), attr='ones'),\n",
      "                            args=[Name(id='K'), Name(id='D')],\n",
      "                            keywords=[]),\n",
      "                        op=Mult,\n",
      "                        right=Num(n=10))),\n",
      "                With(\n",
      "                    items=[\n",
      "                        withitem(\n",
      "                            context_expr=Call(func=Attribute(value=Name(id='pyro'), attr='plate'),\n",
      "                                args=[Str(s='D'), Name(id='D')],\n",
      "                                keywords=[]),\n",
      "                            optional_vars=None)],\n",
      "                    body=[\n",
      "                        Assign(targets=[Name(id='loc')],\n",
      "                            value=Call(func=Attribute(value=Name(id='pyro'), attr='sample'),\n",
      "                                args=[Str(s='loc'),\n",
      "                                    Call(func=Attribute(value=Name(id='dst'), attr='Normal'),\n",
      "                                        args=[Name(id='locloc'), Name(id='locscale')],\n",
      "                                        keywords=[])],\n",
      "                                keywords=[])),\n",
      "                        Assign(targets=[Name(id='cov_diag')],\n",
      "                            value=Call(func=Attribute(value=Name(id='pyro'), attr='sample'),\n",
      "                                args=[Str(s='scale'),\n",
      "                                    Call(func=Attribute(value=Name(id='dst'), attr='LogNormal'),\n",
      "                                        args=[Name(id='scaleloc'), Name(id='scalescale')],\n",
      "                                        keywords=[])],\n",
      "                                keywords=[])),\n",
      "                        With(\n",
      "                            items=[\n",
      "                                withitem(\n",
      "                                    context_expr=Call(func=Attribute(value=Name(id='pyro'), attr='plate'),\n",
      "                                        args=[Str(s='K'), Name(id='K')],\n",
      "                                        keywords=[]),\n",
      "                                    optional_vars=None)],\n",
      "                            body=[\n",
      "                                Assign(targets=[Name(id='cov_factor')],\n",
      "                                    value=Call(func=Attribute(value=Name(id='pyro'), attr='sample'),\n",
      "                                        args=[Str(s='cov_factor'),\n",
      "                                            Call(func=Attribute(value=Name(id='dst'), attr='Normal'),\n",
      "                                                args=[Name(id='cov_factor_loc'), Name(id='cov_factor_scale')],\n",
      "                                                keywords=[])],\n",
      "                                        keywords=[]))]),\n",
      "                        Assign(targets=[Name(id='cov_factor')],\n",
      "                            value=Call(func=Attribute(value=Name(id='cov_factor'), attr='transpose'),\n",
      "                                args=[Num(n=0), Num(n=1)],\n",
      "                                keywords=[]))]),\n",
      "                With(\n",
      "                    items=[\n",
      "                        withitem(\n",
      "                            context_expr=Call(func=Attribute(value=Name(id='pyro'), attr='plate'),\n",
      "                                args=[Str(s='N'), Name(id='N')],\n",
      "                                keywords=[]),\n",
      "                            optional_vars=None)],\n",
      "                    body=[\n",
      "                        Assign(targets=[Name(id='X')],\n",
      "                            value=Call(func=Attribute(value=Name(id='pyro'), attr='sample'),\n",
      "                                args=[Str(s='obs'),\n",
      "                                    Call(func=Attribute(value=Name(id='dst'), attr='LowRankMultivariateNormal'),\n",
      "                                        args=[Name(id='loc')],\n",
      "                                        keywords=[keyword(arg='cov_factor', value=Name(id='cov_factor')),\n",
      "                                            keyword(arg='cov_diag', value=Name(id='cov_diag'))])],\n",
      "                                keywords=[]))]),\n",
      "                Return(value=Name(id='X'))],\n",
      "            decorator_list=[],\n",
      "            returns=None)])\n"
     ]
    },
    {
     "name": "stderr",
     "output_type": "stream",
     "text": [
      "/home/frans/anaconda3/lib/python3.7/site-packages/ipykernel_launcher.py:1: DeprecationWarning: astor.dump is deprecated.  Please use astor.dump_tree.\n",
      "  \"\"\"Entry point for launching an IPython kernel.\n"
     ]
    }
   ],
   "source": [
    "print(astor.dump(tree2))"
   ]
  },
  {
   "cell_type": "code",
   "execution_count": 21,
   "metadata": {},
   "outputs": [
    {
     "name": "stdout",
     "output_type": "stream",
     "text": [
      "Found function Attribute(value=Name(id='torch'), attr='zeros') \n",
      "with arguments \n",
      " [Name(id='K'), Name(id='D')] \n",
      "\n",
      "Found function Attribute(value=Name(id='torch'), attr='ones') \n",
      "with arguments \n",
      " [Name(id='K'), Name(id='D')] \n",
      "\n",
      "Found function Attribute(value=Name(id='pyro'), attr='plate') \n",
      "with arguments \n",
      " [Str(s='D'), Name(id='D')] \n",
      "\n",
      "Found function Attribute(value=Name(id='pyro'), attr='sample') \n",
      "with arguments \n",
      " [Str(s='loc'),\n",
      "    Call(func=Attribute(value=Name(id='dst'), attr='Normal'),\n",
      "        args=[Name(id='locloc'), Name(id='locscale')],\n",
      "        keywords=[])] \n",
      "\n",
      "Found function Attribute(value=Name(id='pyro'), attr='sample') \n",
      "with arguments \n",
      " [Str(s='scale'),\n",
      "    Call(func=Attribute(value=Name(id='dst'), attr='LogNormal'),\n",
      "        args=[Name(id='scaleloc'), Name(id='scalescale')],\n",
      "        keywords=[])] \n",
      "\n",
      "Found function Attribute(value=Name(id='pyro'), attr='plate') \n",
      "with arguments \n",
      " [Str(s='K'), Name(id='K')] \n",
      "\n",
      "Found function Attribute(value=Name(id='pyro'), attr='sample') \n",
      "with arguments \n",
      " [Str(s='cov_factor'),\n",
      "    Call(func=Attribute(value=Name(id='dst'), attr='Normal'),\n",
      "        args=[Name(id='cov_factor_loc'), Name(id='cov_factor_scale')],\n",
      "        keywords=[])] \n",
      "\n",
      "Found function Attribute(value=Name(id='cov_factor'), attr='transpose') \n",
      "with arguments \n",
      " [Num(n=0), Num(n=1)] \n",
      "\n",
      "Found function Attribute(value=Name(id='pyro'), attr='plate') \n",
      "with arguments \n",
      " [Str(s='N'), Name(id='N')] \n",
      "\n",
      "Found function Attribute(value=Name(id='pyro'), attr='sample') \n",
      "with arguments \n",
      " [Str(s='obs'),\n",
      "    Call(func=Attribute(value=Name(id='dst'), attr='LowRankMultivariateNormal'),\n",
      "        args=[Name(id='loc')],\n",
      "        keywords=[keyword(arg='cov_factor', value=Name(id='cov_factor')),\n",
      "            keyword(arg='cov_diag', value=Name(id='cov_diag'))])] \n",
      "\n"
     ]
    }
   ],
   "source": [
    "find_func(tree2)"
   ]
  },
  {
   "cell_type": "code",
   "execution_count": 22,
   "metadata": {},
   "outputs": [],
   "source": [
    "class AddUnderPlate(ast.NodeTransformer):\n",
    "    \"\"\"\n",
    "    Identifies plate with specified name, and appends specified code to its body\n",
    "    \"\"\"\n",
    "    def __init__(self, plate_name, insert_code):\n",
    "        self.plate_name = plate_name\n",
    "        self.insert_code = insert_code\n",
    "        super().__init__()\n",
    "    def visit_With(self, node):\n",
    "        # we want to visit child nodes, so visit it\n",
    "        self.generic_visit(node)\n",
    "        withexpr = node.items[0].context_expr\n",
    "        if withexpr.func.attr == 'plate' and withexpr.args[0].s == self.plate_name:\n",
    "            self.plate = node\n",
    "            if self.insert_code is None:\n",
    "                return\n",
    "            else:\n",
    "                newnode = node\n",
    "                newnode.append(self.insert_code)\n",
    "                return newnode\n",
    "        else:\n",
    "            return node"
   ]
  },
  {
   "cell_type": "code",
   "execution_count": 23,
   "metadata": {},
   "outputs": [],
   "source": [
    "class PastePlate(ast.NodeVisitor):\n",
    "    def __init__(self, plate):\n",
    "        self.plate = plate\n",
    "        super().__init__()\n",
    "    def visit_FunctionDef(self, node):\n",
    "        self.generic_visit(node)\n",
    "        #append the whole plate statement last in the body of the function\n",
    "        node.body.append(self.plate)\n",
    "        # switch plate and return statement so it's last\n",
    "        node.body[-1], node.body[-2] = node.body[-2], node.body[-1]\n",
    "\n",
    "def cutpasteplate(tree, plate_name):\n",
    "    \"\"\"\n",
    "    Cut a plate from any nesting level and paste it in the top level of the function,\n",
    "    e.g. when transforming an independent Gaussian to a factor model, where features are no longer independent\n",
    "    \"\"\"\n",
    "    cut = AddUnderPlate(plate_name, insert_code=None) # cut plate by adding nothing under plane\n",
    "    cut.visit(tree)\n",
    "    paste = PastePlate(cut.plate)\n",
    "    paste.visit(tree)"
   ]
  },
  {
   "cell_type": "code",
   "execution_count": 24,
   "metadata": {},
   "outputs": [
    {
     "name": "stdout",
     "output_type": "stream",
     "text": [
      "Module(\n",
      "    body=[\n",
      "        FunctionDef(name='model',\n",
      "            args=arguments(args=[arg(arg='X', annotation=None)],\n",
      "                vararg=None,\n",
      "                kwonlyargs=[],\n",
      "                kw_defaults=[],\n",
      "                kwarg=None,\n",
      "                defaults=[]),\n",
      "            body=[\n",
      "                Assign(targets=[Tuple(elts=[Name(id='N'), Name(id='D')])],\n",
      "                    value=Attribute(value=Name(id='X'), attr='shape')),\n",
      "                With(\n",
      "                    items=[\n",
      "                        withitem(\n",
      "                            context_expr=Call(func=Attribute(value=Name(id='pyro'), attr='plate'),\n",
      "                                args=[Str(s='D'), Name(id='D')],\n",
      "                                keywords=[]),\n",
      "                            optional_vars=None)],\n",
      "                    body=[\n",
      "                        Assign(targets=[Name(id='loc')],\n",
      "                            value=Call(func=Attribute(value=Name(id='pyro'), attr='sample'),\n",
      "                                args=[Str(s='loc'),\n",
      "                                    Call(func=Attribute(value=Name(id='dst'), attr='Normal'),\n",
      "                                        args=[Num(n=0.0), Num(n=10.0)],\n",
      "                                        keywords=[])],\n",
      "                                keywords=[])),\n",
      "                        Assign(targets=[Name(id='scale')],\n",
      "                            value=Call(func=Attribute(value=Name(id='pyro'), attr='sample'),\n",
      "                                args=[Str(s='scale'),\n",
      "                                    Call(func=Attribute(value=Name(id='dst'), attr='LogNormal'),\n",
      "                                        args=[Num(n=0.0), Num(n=4.0)],\n",
      "                                        keywords=[])],\n",
      "                                keywords=[])),\n",
      "                        With(\n",
      "                            items=[\n",
      "                                withitem(\n",
      "                                    context_expr=Call(func=Attribute(value=Name(id='pyro'), attr='plate'),\n",
      "                                        args=[Str(s='N'), Name(id='N')],\n",
      "                                        keywords=[]),\n",
      "                                    optional_vars=None)],\n",
      "                            body=[\n",
      "                                Assign(targets=[Name(id='X')],\n",
      "                                    value=Call(func=Attribute(value=Name(id='pyro'), attr='sample'),\n",
      "                                        args=[Str(s='obs'),\n",
      "                                            Call(func=Attribute(value=Name(id='dst'), attr='Normal'),\n",
      "                                                args=[Name(id='loc'), Name(id='scale')],\n",
      "                                                keywords=[])],\n",
      "                                        keywords=[]))])]),\n",
      "                Return(value=Name(id='X'))],\n",
      "            decorator_list=[],\n",
      "            returns=None)])\n"
     ]
    }
   ],
   "source": [
    "print(astor.dump_tree(tree))"
   ]
  },
  {
   "cell_type": "code",
   "execution_count": 25,
   "metadata": {},
   "outputs": [],
   "source": [
    "cutpasteplate(tree, 'N')"
   ]
  },
  {
   "cell_type": "code",
   "execution_count": 26,
   "metadata": {},
   "outputs": [
    {
     "name": "stdout",
     "output_type": "stream",
     "text": [
      "def model(X):\n",
      "    N, D = X.shape\n",
      "    with pyro.plate('D', D):\n",
      "        loc = pyro.sample('loc', dst.Normal(0.0, 10.0))\n",
      "        scale = pyro.sample('scale', dst.LogNormal(0.0, 4.0))\n",
      "    with pyro.plate('N', N):\n",
      "        X = pyro.sample('obs', dst.Normal(loc, scale))\n",
      "    return X\n",
      "\n"
     ]
    }
   ],
   "source": [
    "print(astor.to_source(tree))"
   ]
  },
  {
   "cell_type": "code",
   "execution_count": 27,
   "metadata": {},
   "outputs": [],
   "source": [
    "class SampleFinder(ast.NodeVisitor):\n",
    "    def visit_Call(self, node):\n",
    "        if node.func.attr == 'sample':\n",
    "            print(astor.dump_tree(astor.to_source(node.args[0])), '\\nwith arguments \\n', astor.dump_tree(node.args), \"\\n\")\n",
    "\n",
    "def find_sample(tree):\n",
    "    SampleFinder().visit(tree)"
   ]
  },
  {
   "cell_type": "code",
   "execution_count": 28,
   "metadata": {},
   "outputs": [],
   "source": [
    "class ChangeObservationModel(ast.NodeTransformer):\n",
    "    \"\"\"\n",
    "    Identifies sampling site with name 'obs', and replaces its distribution with a specified one\n",
    "    \"\"\"\n",
    "    def __init__(self, new_obs_model):\n",
    "        self.new_obs_model = new_obs_model\n",
    "        super().__init__()\n",
    "    def visit_Call(self, node):\n",
    "        # we want to visit child nodes, so visit it\n",
    "        self.generic_visit(node)\n",
    "        if node.func.attr == 'sample' and node.args[0].s == 'obs':\n",
    "            newnode = node\n",
    "            newnode.args[1] = self.new_obs_model\n",
    "            return newnode\n",
    "        else:\n",
    "            return node\n",
    "        \n",
    "def change_observation_model_to_LowRankMultivariateNormal(tree):\n",
    "    lowrank_normal_obs_model = ast.Call(func=ast.Attribute(value=ast.Name(id='dst'), attr='LowRankMultivariateNormal'),\\\n",
    "                                args=[ast.Name(id='loc')],\\\n",
    "                                keywords=[ast.keyword(arg='cov_factor', value=ast.Name(id='cov_factor')),\\\n",
    "                                ast.keyword(arg='cov_diag', value=ast.Name(id='cov_diag'))]) \n",
    "    ChangeObservationModel(lowrank_normal_obs_model).visit(tree)"
   ]
  },
  {
   "cell_type": "code",
   "execution_count": 29,
   "metadata": {},
   "outputs": [],
   "source": [
    "change_observation_model_to_LowRankMultivariateNormal(tree)"
   ]
  },
  {
   "cell_type": "code",
   "execution_count": 30,
   "metadata": {},
   "outputs": [
    {
     "name": "stdout",
     "output_type": "stream",
     "text": [
      "def model(X):\n",
      "    N, D = X.shape\n",
      "    with pyro.plate('D', D):\n",
      "        loc = pyro.sample('loc', dst.Normal(0.0, 10.0))\n",
      "        scale = pyro.sample('scale', dst.LogNormal(0.0, 4.0))\n",
      "    with pyro.plate('N', N):\n",
      "        X = pyro.sample('obs', dst.LowRankMultivariateNormal(loc,\n",
      "            cov_factor=cov_factor, cov_diag=cov_diag))\n",
      "    return X\n",
      "\n"
     ]
    }
   ],
   "source": [
    "print(astor.to_source(tree))"
   ]
  },
  {
   "cell_type": "code",
   "execution_count": 31,
   "metadata": {},
   "outputs": [
    {
     "ename": "NameError",
     "evalue": "name 'With' is not defined",
     "output_type": "error",
     "traceback": [
      "\u001b[0;31m---------------------------------------------------------------------------\u001b[0m",
      "\u001b[0;31mNameError\u001b[0m                                 Traceback (most recent call last)",
      "\u001b[0;32m<ipython-input-31-22a191770149>\u001b[0m in \u001b[0;36m<module>\u001b[0;34m\u001b[0m\n\u001b[0;32m----> 1\u001b[0;31m With(\\\n\u001b[0m\u001b[1;32m      2\u001b[0m     items=[\\\n\u001b[1;32m      3\u001b[0m         withitem(\\\n\u001b[1;32m      4\u001b[0m             context_expr=Call(func=Attribute(value=Name(id='pyro'), attr='plate'),\\\n\u001b[1;32m      5\u001b[0m                 \u001b[0margs\u001b[0m\u001b[0;34m=\u001b[0m\u001b[0;34m[\u001b[0m\u001b[0mStr\u001b[0m\u001b[0;34m(\u001b[0m\u001b[0ms\u001b[0m\u001b[0;34m=\u001b[0m\u001b[0;34m'K'\u001b[0m\u001b[0;34m)\u001b[0m\u001b[0;34m,\u001b[0m \u001b[0mName\u001b[0m\u001b[0;34m(\u001b[0m\u001b[0mid\u001b[0m\u001b[0;34m=\u001b[0m\u001b[0;34m'K'\u001b[0m\u001b[0;34m)\u001b[0m\u001b[0;34m]\u001b[0m\u001b[0;34m,\u001b[0m\u001b[0;31m\\\u001b[0m\u001b[0;34m\u001b[0m\u001b[0;34m\u001b[0m\u001b[0m\n",
      "\u001b[0;31mNameError\u001b[0m: name 'With' is not defined"
     ]
    }
   ],
   "source": [
    "                        With(\\\n",
    "                            items=[\\\n",
    "                                withitem(\\\n",
    "                                    context_expr=Call(func=Attribute(value=Name(id='pyro'), attr='plate'),\\\n",
    "                                        args=[Str(s='K'), Name(id='K')],\\\n",
    "                                        keywords=[]),\\\n",
    "                                    optional_vars=None)],\\\n",
    "                            body=[\\\n",
    "                                Assign(targets=[Name(id='cov_factor')],\\\n",
    "                                    value=Call(func=Attribute(value=Name(id='pyro'), attr='sample'),\\\n",
    "                                        args=[Str(s='cov_factor'),\\\n",
    "                                            Call(func=Attribute(value=Name(id='dst'), attr='Normal'),\\\n",
    "                                                args=[Name(id='cov_factor_loc'), Name(id='cov_factor_scale')],\\\n",
    "                                                keywords=[])],\\\n",
    "                                        keywords=[]))])"
   ]
  },
  {
   "cell_type": "code",
   "execution_count": null,
   "metadata": {},
   "outputs": [],
   "source": [
    "find_sample(tree2)"
   ]
  },
  {
   "cell_type": "code",
   "execution_count": null,
   "metadata": {},
   "outputs": [],
   "source": [
    "find_sample(tree)"
   ]
  },
  {
   "cell_type": "code",
   "execution_count": null,
   "metadata": {},
   "outputs": [],
   "source": [
    "plt.scatter(*model(np.random.randn(1000,2)).detach().numpy().T, alpha=.1);"
   ]
  },
  {
   "cell_type": "code",
   "execution_count": null,
   "metadata": {},
   "outputs": [],
   "source": [
    "plt.scatter(*model2(np.random.randn(1000,2)).detach().numpy().T, alpha=.1)"
   ]
  }
 ],
 "metadata": {
  "kernelspec": {
   "display_name": "Python 3",
   "language": "python",
   "name": "python3"
  },
  "language_info": {
   "codemirror_mode": {
    "name": "ipython",
    "version": 3
   },
   "file_extension": ".py",
   "mimetype": "text/x-python",
   "name": "python",
   "nbconvert_exporter": "python",
   "pygments_lexer": "ipython3",
   "version": "3.7.1"
  }
 },
 "nbformat": 4,
 "nbformat_minor": 2
}
