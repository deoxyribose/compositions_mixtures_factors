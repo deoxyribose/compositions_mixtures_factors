{
 "cells": [
  {
   "cell_type": "code",
   "execution_count": 23,
   "metadata": {},
   "outputs": [],
   "source": [
    "from obs_models import *\n",
    "from generate_data import *\n",
    "from utils import *\n",
    "from torch.nn.functional import softmax\n",
    "from pyro import distributions as dst\n",
    "from pyro.infer.autoguide import AutoDiagonalNormal\n",
    "from pyro.infer.predictive import Predictive\n",
    "import matplotlib.pylab as plt\n",
    "\n",
    "\n",
    "%matplotlib inline"
   ]
  },
  {
   "cell_type": "code",
   "execution_count": 3,
   "metadata": {},
   "outputs": [],
   "source": [
    "# reproducing example from Murphy p. 403"
   ]
  },
  {
   "cell_type": "code",
   "execution_count": 4,
   "metadata": {},
   "outputs": [],
   "source": [
    "data = torch.ones(150,16)"
   ]
  },
  {
   "cell_type": "code",
   "execution_count": 5,
   "metadata": {},
   "outputs": [],
   "source": [
    "data[:50,[0,2,4,6,8,11,13,15]] = 0.\n",
    "data[50:100,[0,1,4,5,8,9,11,15]] = 0.\n",
    "data[100:,[1,2,3,5,6,7,9,10,12,14]] = 0."
   ]
  },
  {
   "cell_type": "code",
   "execution_count": 6,
   "metadata": {},
   "outputs": [],
   "source": [
    "noise_idx = dist.Bernoulli(probs=torch.ones(1)*0.05).expand(data.shape).sample()"
   ]
  },
  {
   "cell_type": "code",
   "execution_count": 7,
   "metadata": {},
   "outputs": [],
   "source": [
    "data[noise_idx.bool()] = 1-data[noise_idx.bool()]"
   ]
  },
  {
   "cell_type": "code",
   "execution_count": 8,
   "metadata": {},
   "outputs": [
    {
     "data": {
      "text/plain": [
       "<matplotlib.image.AxesImage at 0x7f5115ad3c88>"
      ]
     },
     "execution_count": 8,
     "metadata": {},
     "output_type": "execute_result"
    },
    {
     "data": {
      "image/png": "[encoded data removed]",
      "text/plain": [
       "<Figure size 432x288 with 1 Axes>"
      ]
     },
     "metadata": {
      "needs_background": "light"
     },
     "output_type": "display_data"
    }
   ],
   "source": [
    "plt.imshow(data,aspect=0.07,cmap='gray')"
   ]
  },
  {
   "cell_type": "code",
   "execution_count": 9,
   "metadata": {},
   "outputs": [],
   "source": [
    "#Exponential family PCA, Murphy p. 947"
   ]
  },
  {
   "cell_type": "code",
   "execution_count": 13,
   "metadata": {},
   "outputs": [],
   "source": [
    "def categoricalPCA(X):\n",
    "    N, D = X.shape\n",
    "    K = 2\n",
    "    # compute number of categories in each feature\n",
    "    C = [np.unique(data[:,i]).shape[0] for i in range(D)]\n",
    "    # set the number of symbols for all categories to that of the most numerous one\n",
    "    C = torch.tensor(np.max(C))\n",
    "    \n",
    "    # C, K, N, D\n",
    "    Cplate = pyro.plate('C', C, dim=-4)\n",
    "    Kplate = pyro.plate('K', K, dim=-3)\n",
    "    Nplate = pyro.plate('N', N, dim=-2)\n",
    "    Dplate = pyro.plate('D', D, dim=-1)\n",
    "    \n",
    "    with Kplate, Nplate:\n",
    "        # K x N\n",
    "        z = pyro.sample('z', dst.Normal(0.,1.)) \n",
    "        z = z.squeeze()\n",
    "    with Cplate, Kplate, Dplate:\n",
    "        # C x K x D\n",
    "        W = pyro.sample('W', dst.Normal(0.,1.))\n",
    "        # D x K x C\n",
    "        W = W.squeeze().permute(2,0,1)# (-1,-3,-2)\n",
    "    with Nplate, Dplate:\n",
    "        # N x D\n",
    "        Wz = torch.matmul(W,z)\n",
    "        probs = softmax(Wz, dim = 1).permute(2,0,1)\n",
    "        X = pyro.sample('obs', dst.Categorical(probs), obs=X)\n",
    "    return X"
   ]
  },
  {
   "cell_type": "code",
   "execution_count": 14,
   "metadata": {},
   "outputs": [],
   "source": [
    "cPCAtrace = pyro.poutine.trace(categoricalPCA).get_trace(data)"
   ]
  },
  {
   "cell_type": "code",
   "execution_count": 15,
   "metadata": {
    "scrolled": true
   },
   "outputs": [],
   "source": [
    "latent = cPCAtrace.nodes['z']['value'].squeeze()"
   ]
  },
  {
   "cell_type": "code",
   "execution_count": 16,
   "metadata": {},
   "outputs": [
    {
     "data": {
      "text/plain": [
       "tensor([[-1.0236e-02,  6.7162e-01],\n",
       "        [-1.2440e+00, -1.2937e+00],\n",
       "        [-3.8437e-01,  6.7338e-01],\n",
       "        [-1.7703e+00,  1.9593e-01],\n",
       "        [ 8.2009e-01,  1.0510e+00],\n",
       "        [ 6.9018e-01, -8.9174e-01],\n",
       "        [ 1.4447e+00,  1.7715e-01],\n",
       "        [-1.1486e+00, -1.5910e+00],\n",
       "        [-5.5438e-01,  2.0531e+00],\n",
       "        [-1.0772e+00, -6.0253e-01],\n",
       "        [-1.0804e+00, -1.3461e+00],\n",
       "        [-1.6308e+00,  8.3812e-01],\n",
       "        [ 2.8969e-01,  1.3416e+00],\n",
       "        [ 1.8668e-02,  5.5995e-01],\n",
       "        [ 1.8660e+00, -5.3253e-01],\n",
       "        [ 1.0382e-01,  1.2526e+00],\n",
       "        [-1.7860e+00,  1.4492e-01],\n",
       "        [ 9.4956e-01,  1.5024e+00],\n",
       "        [-7.0171e-01, -1.3047e-02],\n",
       "        [-3.5695e-01, -5.2875e-01],\n",
       "        [-6.2360e-01,  4.2555e-01],\n",
       "        [ 1.1960e-01, -4.5138e-01],\n",
       "        [-8.2230e-01, -1.2205e+00],\n",
       "        [ 1.1593e+00,  2.4022e-01],\n",
       "        [-2.6034e+00,  3.9811e-01],\n",
       "        [ 2.2904e-01, -1.9257e+00],\n",
       "        [-3.0008e+00,  5.7137e-01],\n",
       "        [ 1.5479e+00,  9.2335e-01],\n",
       "        [ 1.3982e+00,  8.0601e-01],\n",
       "        [ 6.4087e-01, -8.2791e-02],\n",
       "        [ 1.8229e+00, -9.0198e-01],\n",
       "        [ 2.7324e+00, -5.4545e-01],\n",
       "        [ 8.4021e-01, -6.2485e-01],\n",
       "        [ 1.7213e+00,  5.3948e-01],\n",
       "        [-9.8771e-01, -7.7488e-01],\n",
       "        [-1.2808e+00,  5.8628e-01],\n",
       "        [ 1.3714e+00, -4.5667e-01],\n",
       "        [ 8.9798e-01, -4.1032e-01],\n",
       "        [-1.6728e+00, -1.2736e+00],\n",
       "        [ 2.3914e-01,  2.9189e+00],\n",
       "        [ 4.7903e-01,  8.8086e-02],\n",
       "        [ 2.7980e-01, -8.6461e-02],\n",
       "        [ 1.5116e+00,  2.5195e+00],\n",
       "        [-8.6595e-01, -1.0850e+00],\n",
       "        [-4.0201e-01, -1.0546e+00],\n",
       "        [-1.2456e-01,  2.7057e-01],\n",
       "        [-3.3868e-01,  1.0241e+00],\n",
       "        [-1.1642e-01, -8.6243e-02],\n",
       "        [ 3.0922e-01,  7.0522e-01],\n",
       "        [ 3.6996e-01, -1.3379e+00],\n",
       "        [ 8.2361e-02, -1.1749e+00],\n",
       "        [ 3.2446e-01, -1.1612e+00],\n",
       "        [-4.2728e-01, -5.2990e-01],\n",
       "        [ 5.0211e-01,  1.0307e+00],\n",
       "        [-7.3193e-01, -2.1924e+00],\n",
       "        [ 4.9785e-01, -9.9984e-02],\n",
       "        [-1.6980e+00,  1.4330e+00],\n",
       "        [ 2.1195e-01,  1.3733e+00],\n",
       "        [-9.3250e-01,  1.0405e-01],\n",
       "        [ 5.6692e-01,  1.1072e-01],\n",
       "        [ 1.6574e-01,  9.2662e-01],\n",
       "        [-9.5553e-02, -9.7456e-01],\n",
       "        [ 6.5242e-01, -1.0228e+00],\n",
       "        [-9.5025e-01,  2.1210e+00],\n",
       "        [-3.1272e-01, -2.5119e+00],\n",
       "        [-1.5080e-01,  4.1210e-01],\n",
       "        [ 5.5211e-01, -1.6238e-01],\n",
       "        [-1.4356e+00,  9.1033e-01],\n",
       "        [ 6.2022e-01, -1.0278e+00],\n",
       "        [-4.6006e-01,  8.6293e-01],\n",
       "        [ 1.1543e+00,  9.2064e-01],\n",
       "        [ 1.5627e+00, -1.9129e+00],\n",
       "        [-5.8014e-03,  1.7693e+00],\n",
       "        [-7.3765e-01, -1.5265e-01],\n",
       "        [ 1.0626e-01, -7.4913e-02],\n",
       "        [ 4.5230e-01, -1.3382e-02],\n",
       "        [ 2.5601e-01, -5.3847e-01],\n",
       "        [ 9.2899e-01,  1.6750e+00],\n",
       "        [-7.5892e-01, -5.6212e-01],\n",
       "        [-5.3771e-01,  1.5498e+00],\n",
       "        [-7.7233e-01, -1.1000e+00],\n",
       "        [ 7.2149e-01,  1.2237e+00],\n",
       "        [ 8.1966e-01, -5.8890e-01],\n",
       "        [ 5.0089e-01, -3.8584e-02],\n",
       "        [-5.2240e-01,  5.2876e-04],\n",
       "        [ 1.4731e+00,  2.5144e-01],\n",
       "        [ 5.4543e-01, -2.0401e-01],\n",
       "        [ 7.7225e-01, -1.4538e+00],\n",
       "        [-1.9543e+00,  8.4658e-01],\n",
       "        [ 1.2165e+00,  6.9010e-01],\n",
       "        [ 1.0102e+00,  3.4827e-01],\n",
       "        [ 1.1397e+00, -1.5268e-01],\n",
       "        [ 1.1133e-01, -1.1002e+00],\n",
       "        [ 1.0375e+00, -4.1679e-01],\n",
       "        [-6.4976e-01, -1.6382e-01],\n",
       "        [ 1.4508e-01,  5.8673e-01],\n",
       "        [-2.7790e+00,  7.6962e-01],\n",
       "        [-6.0346e-01,  1.4372e+00],\n",
       "        [-1.2491e-01, -1.8920e-01],\n",
       "        [ 2.3366e-01, -4.1345e-02],\n",
       "        [ 9.6075e-01,  4.3057e-01],\n",
       "        [-6.8581e-01, -1.1796e+00],\n",
       "        [-1.3855e+00,  1.3550e+00],\n",
       "        [ 3.0098e-01,  1.9848e-01],\n",
       "        [ 4.0370e-01, -1.3706e+00],\n",
       "        [-1.5676e+00, -1.5784e+00],\n",
       "        [ 2.3909e-01,  6.8988e-01],\n",
       "        [-9.6032e-01, -4.8881e-01],\n",
       "        [-2.6214e+00, -6.4668e-01],\n",
       "        [ 1.3110e-01, -1.1148e+00],\n",
       "        [ 1.4726e+00, -6.1888e-01],\n",
       "        [ 1.4277e+00,  2.9006e-01],\n",
       "        [ 6.3307e-01,  9.8136e-02],\n",
       "        [-1.3857e+00,  3.7588e-01],\n",
       "        [-5.5963e-01,  5.8184e-02],\n",
       "        [ 3.9631e-01,  1.1341e+00],\n",
       "        [ 8.7250e-01, -2.2155e-01],\n",
       "        [ 1.3923e+00, -9.2932e-02],\n",
       "        [ 2.0120e-01, -1.3768e+00],\n",
       "        [-3.0568e+00, -2.0794e-01],\n",
       "        [-6.0800e-02, -4.9812e-01],\n",
       "        [-6.8813e-01,  2.2830e-02],\n",
       "        [-9.5013e-01,  1.1923e+00],\n",
       "        [-4.2853e-01,  1.4713e-01],\n",
       "        [-1.5611e+00,  1.8759e+00],\n",
       "        [-1.1328e+00, -1.7195e-01],\n",
       "        [ 6.6443e-01,  9.6333e-01],\n",
       "        [-2.4658e-01,  1.5088e+00],\n",
       "        [ 1.3665e+00,  6.7847e-02],\n",
       "        [ 7.5428e-01,  6.7049e-01],\n",
       "        [-6.2912e-01,  1.5173e+00],\n",
       "        [ 7.9092e-01,  1.3334e+00],\n",
       "        [ 2.6694e-01, -1.3385e+00],\n",
       "        [ 6.7145e-01,  5.1052e-01],\n",
       "        [-1.4342e+00,  5.3479e-01],\n",
       "        [-1.3955e+00,  9.7328e-01],\n",
       "        [-2.2319e-01,  1.0015e+00],\n",
       "        [ 1.1647e+00, -1.9583e+00],\n",
       "        [ 1.3098e+00,  4.4184e-01],\n",
       "        [-1.7325e+00,  2.0823e-01],\n",
       "        [ 6.5234e-01, -9.3546e-01],\n",
       "        [ 9.1368e-02, -6.8889e-01],\n",
       "        [ 7.5702e-03,  5.2243e-01],\n",
       "        [-1.0925e+00,  2.1109e-01],\n",
       "        [-1.5283e+00,  1.9373e+00],\n",
       "        [-3.4796e-01,  6.2812e-01],\n",
       "        [ 1.2396e+00,  9.9797e-01],\n",
       "        [-1.0450e-01,  4.2376e-02],\n",
       "        [ 4.5034e-01,  8.4089e-01],\n",
       "        [ 1.1649e-01, -2.3227e+00]])"
      ]
     },
     "execution_count": 16,
     "metadata": {},
     "output_type": "execute_result"
    }
   ],
   "source": [
    "latent.T"
   ]
  },
  {
   "cell_type": "code",
   "execution_count": 17,
   "metadata": {},
   "outputs": [
    {
     "data": {
      "image/png": "[encoded data removed]",
      "text/plain": [
       "<Figure size 432x288 with 1 Axes>"
      ]
     },
     "metadata": {
      "needs_background": "light"
     },
     "output_type": "display_data"
    }
   ],
   "source": [
    "plt.scatter(*latent.detach(),c=torch.arange(3).repeat_interleave(50))\n",
    "plt.axis('equal');"
   ]
  },
  {
   "cell_type": "code",
   "execution_count": 24,
   "metadata": {},
   "outputs": [],
   "source": [
    "pyro.clear_param_store()\n",
    "optim = torch.optim.Adam\n",
    "scheduler = pyro.optim.ExponentialLR({'optimizer': optim, 'optim_args': {\"lr\": 0.1, \"betas\": (0.90, 0.999)}, 'gamma': 1.})\n",
    "max_plate_nesting = 4\n",
    "elbo = Trace_ELBO(max_plate_nesting=max_plate_nesting)#, num_particles=10, vectorize_particles=True)\n",
    "guide = AutoDiagonalNormal(categoricalPCA)\n",
    "svi = SVI(categoricalPCA, guide, scheduler, loss=elbo)"
   ]
  },
  {
   "cell_type": "code",
   "execution_count": 25,
   "metadata": {
    "scrolled": false
   },
   "outputs": [],
   "source": [
    "losses = []\n",
    "for i in range(1000):\n",
    "    losses.append(svi.step(data))"
   ]
  },
  {
   "cell_type": "code",
   "execution_count": 26,
   "metadata": {},
   "outputs": [
    {
     "data": {
      "text/plain": [
       "[<matplotlib.lines.Line2D at 0x7f50ee9b35f8>]"
      ]
     },
     "execution_count": 26,
     "metadata": {},
     "output_type": "execute_result"
    },
    {
     "data": {
      "image/png": "[encoded data removed]",
      "text/plain": [
       "<Figure size 432x288 with 1 Axes>"
      ]
     },
     "metadata": {
      "needs_background": "light"
     },
     "output_type": "display_data"
    }
   ],
   "source": [
    "plt.plot(losses)"
   ]
  },
  {
   "cell_type": "code",
   "execution_count": 29,
   "metadata": {},
   "outputs": [],
   "source": [
    "pred = Predictive(model=categoricalPCA, guide=guide, num_samples=100)"
   ]
  },
  {
   "cell_type": "code",
   "execution_count": 32,
   "metadata": {},
   "outputs": [],
   "source": [
    "ppc = pred(data)"
   ]
  },
  {
   "cell_type": "code",
   "execution_count": 46,
   "metadata": {
    "scrolled": false
   },
   "outputs": [],
   "source": [
    "z_hat = ppc['z'].mean(0).squeeze()"
   ]
  },
  {
   "cell_type": "code",
   "execution_count": 47,
   "metadata": {},
   "outputs": [
    {
     "data": {
      "image/png": "[encoded data removed]",
      "text/plain": [
       "<Figure size 432x288 with 1 Axes>"
      ]
     },
     "metadata": {
      "needs_background": "light"
     },
     "output_type": "display_data"
    }
   ],
   "source": [
    "plt.scatter(*z_hat.detach(),c=torch.arange(3).repeat_interleave(50))\n",
    "plt.axis('equal');"
   ]
  },
  {
   "cell_type": "code",
   "execution_count": 35,
   "metadata": {},
   "outputs": [
    {
     "data": {
      "text/plain": [
       "dict_keys(['z', 'W', 'obs'])"
      ]
     },
     "execution_count": 35,
     "metadata": {},
     "output_type": "execute_result"
    }
   ],
   "source": [
    "ppc.keys()"
   ]
  },
  {
   "cell_type": "code",
   "execution_count": 42,
   "metadata": {},
   "outputs": [
    {
     "data": {
      "text/plain": [
       "torch.Size([100, 1, 1, 150, 16])"
      ]
     },
     "execution_count": 42,
     "metadata": {},
     "output_type": "execute_result"
    }
   ],
   "source": [
    "ppc['obs'].shape"
   ]
  },
  {
   "cell_type": "code",
   "execution_count": 16,
   "metadata": {},
   "outputs": [
    {
     "name": "stdout",
     "output_type": "stream",
     "text": [
      "> \u001b[0;32m<ipython-input-9-d002053ea8ef>\u001b[0m(23)\u001b[0;36mcategoricalPCA\u001b[0;34m()\u001b[0m\n",
      "\u001b[0;32m     21 \u001b[0;31m        \u001b[0mW\u001b[0m \u001b[0;34m=\u001b[0m \u001b[0mpyro\u001b[0m\u001b[0;34m.\u001b[0m\u001b[0msample\u001b[0m\u001b[0;34m(\u001b[0m\u001b[0;34m'W'\u001b[0m\u001b[0;34m,\u001b[0m \u001b[0mdst\u001b[0m\u001b[0;34m.\u001b[0m\u001b[0mNormal\u001b[0m\u001b[0;34m(\u001b[0m\u001b[0;36m0.\u001b[0m\u001b[0;34m,\u001b[0m\u001b[0;36m1.\u001b[0m\u001b[0;34m)\u001b[0m\u001b[0;34m)\u001b[0m\u001b[0;34m\u001b[0m\u001b[0;34m\u001b[0m\u001b[0m\n",
      "\u001b[0m\u001b[0;32m     22 \u001b[0;31m        \u001b[0;31m# D x K x C\u001b[0m\u001b[0;34m\u001b[0m\u001b[0;34m\u001b[0m\u001b[0;34m\u001b[0m\u001b[0m\n",
      "\u001b[0m\u001b[0;32m---> 23 \u001b[0;31m        \u001b[0mW\u001b[0m \u001b[0;34m=\u001b[0m \u001b[0mW\u001b[0m\u001b[0;34m.\u001b[0m\u001b[0msqueeze\u001b[0m\u001b[0;34m(\u001b[0m\u001b[0;34m)\u001b[0m\u001b[0;34m.\u001b[0m\u001b[0mpermute\u001b[0m\u001b[0;34m(\u001b[0m\u001b[0;36m2\u001b[0m\u001b[0;34m,\u001b[0m\u001b[0;36m0\u001b[0m\u001b[0;34m,\u001b[0m\u001b[0;36m1\u001b[0m\u001b[0;34m)\u001b[0m\u001b[0;34m\u001b[0m\u001b[0;34m\u001b[0m\u001b[0m\n",
      "\u001b[0m\u001b[0;32m     24 \u001b[0;31m    \u001b[0;32mwith\u001b[0m \u001b[0mNplate\u001b[0m\u001b[0;34m,\u001b[0m \u001b[0mDplate\u001b[0m\u001b[0;34m:\u001b[0m\u001b[0;34m\u001b[0m\u001b[0;34m\u001b[0m\u001b[0m\n",
      "\u001b[0m\u001b[0;32m     25 \u001b[0;31m        \u001b[0;31m# N x D\u001b[0m\u001b[0;34m\u001b[0m\u001b[0;34m\u001b[0m\u001b[0;34m\u001b[0m\u001b[0m\n",
      "\u001b[0m\n",
      "ipdb> W.shape\n",
      "torch.Size([10, 2, 2, 1, 16])\n",
      "ipdb> c\n"
     ]
    }
   ],
   "source": [
    "%debug"
   ]
  },
  {
   "cell_type": "code",
   "execution_count": null,
   "metadata": {},
   "outputs": [],
   "source": [
    "plt.imshow(tmp,aspect=0.07,cmap='gray')"
   ]
  },
  {
   "cell_type": "code",
   "execution_count": null,
   "metadata": {},
   "outputs": [],
   "source": [
    "# print unique values of each variable\n",
    "[torch.unique(tmp[:,i],dim=0) for i in range(tmp.shape[1])]"
   ]
  },
  {
   "cell_type": "code",
   "execution_count": null,
   "metadata": {},
   "outputs": [],
   "source": [
    "_, idx = latent.sort(dim=1)"
   ]
  },
  {
   "cell_type": "code",
   "execution_count": null,
   "metadata": {
    "scrolled": true
   },
   "outputs": [],
   "source": [
    "plt.rcParams['figure.figsize'] = 5, 10\n",
    "plt.imshow(tmp[idx[0]][:10],aspect=0.4)\n",
    "plt.figure()\n",
    "plt.imshow(tmp[idx[0]][-10:],aspect=0.4)\n",
    "plt.figure()\n",
    "plt.imshow(tmp[idx[1]][:10],aspect=0.4)\n",
    "plt.figure()\n",
    "plt.imshow(tmp[idx[1]][-10:],aspect=0.4)"
   ]
  },
  {
   "cell_type": "code",
   "execution_count": null,
   "metadata": {
    "scrolled": false
   },
   "outputs": [],
   "source": [
    "trace = pyro.poutine.trace(independentCategorical).get_trace(data)\n",
    "#logp = trace.log_prob_sum()\n",
    "#params = [trace.nodes[name][\"value\"].unconstrained() for name in trace.param_nodes]\n",
    "#trace2 = pyro.poutine.trace(independentCategorical2).get_trace(data)"
   ]
  },
  {
   "cell_type": "code",
   "execution_count": null,
   "metadata": {},
   "outputs": [],
   "source": [
    "def independentCategoricalGuide(data):\n",
    "    obs_dim, data_dim = data.shape\n",
    "    # compute number of categories in each feature\n",
    "    C = [np.unique(data[:,i]).shape[0] for i in range(D)]\n",
    "    Cmax = np.max(C)\n",
    "    C = torch.tensor(C)\n",
    "    alphas = pyro.param('alphas', torch.ones(D,Cmax,dtype=torch.float64), constraint=constraints.positive)\n",
    "    with pyro.plate('feature_plate', data_dim):\n",
    "        pyro.sample('probs', pyro.distributions.Dirichlet(alphas))"
   ]
  },
  {
   "cell_type": "code",
   "execution_count": null,
   "metadata": {},
   "outputs": [],
   "source": [
    "optim = pyro.optim.Adam({'lr': 0.01, 'betas': [0.9, 0.999]})\n",
    "elbo = Trace_ELBO(max_plate_nesting=2)\n",
    "svi = SVI(independentCategorical, independentCategoricalGuide, optim, loss=elbo)"
   ]
  },
  {
   "cell_type": "code",
   "execution_count": null,
   "metadata": {},
   "outputs": [],
   "source": [
    "pyro.clear_param_store()"
   ]
  },
  {
   "cell_type": "code",
   "execution_count": null,
   "metadata": {},
   "outputs": [],
   "source": [
    "guide_trace = pyro.poutine.trace(independentCategoricalGuide).get_trace(data)"
   ]
  },
  {
   "cell_type": "code",
   "execution_count": null,
   "metadata": {},
   "outputs": [],
   "source": [
    "pyro.util.check_model_guide_match(trace, guide_trace)"
   ]
  },
  {
   "cell_type": "code",
   "execution_count": null,
   "metadata": {},
   "outputs": [],
   "source": [
    "pyro.get_param_store().named_parameters()"
   ]
  },
  {
   "cell_type": "code",
   "execution_count": null,
   "metadata": {
    "scrolled": false
   },
   "outputs": [],
   "source": [
    "# Register hooks to monitor gradient norms.\n",
    "gradient_norms = defaultdict(list)\n",
    "for name, value in pyro.get_param_store().named_parameters():\n",
    "    value.register_hook(lambda g, name=name: gradient_norms[name].append(g.norm().item()))\n",
    "\n",
    "losses = []\n",
    "# while not all parameters are locked:\n",
    "# for parameter in parameters:\n",
    "# lock parameter if gradient_norm is below tolerance\n",
    "for i in range(2000):\n",
    "    loss = svi.step(data)\n",
    "    losses.append(loss)\n",
    "    print('.' if i % 100 else '\\n', end='')"
   ]
  },
  {
   "cell_type": "code",
   "execution_count": null,
   "metadata": {},
   "outputs": [],
   "source": [
    "def rel_err(true_parameter,estimated_parameter):\n",
    "    if type(true_parameter) != torch.Tensor:\n",
    "        true_parameter = torch.Tensor(true_parameter)\n",
    "    norm = torch.norm\n",
    "    return norm(true_parameter-estimated_parameter)/norm(true_parameter)"
   ]
  },
  {
   "cell_type": "code",
   "execution_count": null,
   "metadata": {},
   "outputs": [],
   "source": [
    "pyro.param('alphas')"
   ]
  },
  {
   "cell_type": "code",
   "execution_count": null,
   "metadata": {},
   "outputs": [],
   "source": [
    "print(rel_err(some_data_locs,pyro.param('auto_locs')))\n",
    "print(rel_err(some_data_scales,pyro.param('auto_scales')))"
   ]
  },
  {
   "cell_type": "code",
   "execution_count": null,
   "metadata": {},
   "outputs": [],
   "source": [
    "pyplot.figure(figsize=(10,3), dpi=100).set_facecolor('white')\n",
    "pyplot.plot(losses)\n",
    "pyplot.xlabel('iters')\n",
    "pyplot.ylabel('loss')\n",
    "pyplot.yscale('log')\n",
    "pyplot.title('Convergence of SVI');"
   ]
  },
  {
   "cell_type": "code",
   "execution_count": null,
   "metadata": {},
   "outputs": [],
   "source": [
    "pyplot.figure(figsize=(10,4), dpi=100).set_facecolor('white')\n",
    "for name, grad_norms in gradient_norms.items():\n",
    "    pyplot.plot(grad_norms, label=name)\n",
    "pyplot.xlabel('iters')\n",
    "pyplot.ylabel('gradient norm')\n",
    "pyplot.yscale('log')\n",
    "pyplot.legend(loc='best')\n",
    "pyplot.title('Gradient norms during SVI');"
   ]
  },
  {
   "cell_type": "code",
   "execution_count": null,
   "metadata": {},
   "outputs": [],
   "source": [
    "optim = pyro.optim.Adam({'lr': 0.005, 'betas': [0.9, 0.999]})\n",
    "svi = SVI(independentGaussian, global_guide, optim, loss=elbo)"
   ]
  },
  {
   "cell_type": "code",
   "execution_count": null,
   "metadata": {},
   "outputs": [],
   "source": [
    "for i in range(1000):\n",
    "    loss = svi.step(data)\n",
    "    losses.append(loss)\n",
    "    print('.' if i % 100 else '\\n', end='')"
   ]
  },
  {
   "cell_type": "code",
   "execution_count": null,
   "metadata": {},
   "outputs": [],
   "source": [
    "pyplot.figure(figsize=(10,3), dpi=100).set_facecolor('white')\n",
    "pyplot.plot(losses)\n",
    "pyplot.xlabel('iters')\n",
    "pyplot.ylabel('loss')\n",
    "pyplot.yscale('log')\n",
    "pyplot.title('Convergence of SVI');"
   ]
  },
  {
   "cell_type": "code",
   "execution_count": null,
   "metadata": {},
   "outputs": [],
   "source": [
    "pyplot.figure(figsize=(10,4), dpi=100).set_facecolor('white')\n",
    "for name, grad_norms in gradient_norms.items():\n",
    "    pyplot.plot(grad_norms, label=name)\n",
    "pyplot.xlabel('iters')\n",
    "pyplot.ylabel('gradient norm')\n",
    "pyplot.yscale('log')\n",
    "pyplot.legend(loc='best')\n",
    "pyplot.title('Gradient norms during SVI');"
   ]
  },
  {
   "cell_type": "code",
   "execution_count": null,
   "metadata": {},
   "outputs": [],
   "source": [
    "print(rel_err(some_data_locs,pyro.param('auto_locs')))\n",
    "print(rel_err(some_data_scales,pyro.param('auto_scales')))"
   ]
  },
  {
   "cell_type": "code",
   "execution_count": null,
   "metadata": {},
   "outputs": [],
   "source": [
    "print(rel_err(some_data_locs,data.mean(0)))\n",
    "print(rel_err(some_data_scales,np.sqrt(data.var(0))))"
   ]
  },
  {
   "cell_type": "code",
   "execution_count": null,
   "metadata": {},
   "outputs": [],
   "source": []
  }
 ],
 "metadata": {
  "kernelspec": {
   "display_name": "Python 3",
   "language": "python",
   "name": "python3"
  },
  "language_info": {
   "codemirror_mode": {
    "name": "ipython",
    "version": 3
   },
   "file_extension": ".py",
   "mimetype": "text/x-python",
   "name": "python",
   "nbconvert_exporter": "python",
   "pygments_lexer": "ipython3",
   "version": "3.7.3"
  }
 },
 "nbformat": 4,
 "nbformat_minor": 2
}
