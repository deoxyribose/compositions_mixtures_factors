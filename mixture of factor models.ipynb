{
 "cells": [
  {
   "cell_type": "code",
   "execution_count": 1,
   "metadata": {},
   "outputs": [],
   "source": [
    "import numpy as np\n",
    "import torch\n",
    "import pyro\n",
    "import pyro.optim\n",
    "from pyro.infer import SVI, TraceEnum_ELBO, config_enumerate\n",
    "from torch.distributions import constraints\n",
    "from pyro import distributions as dst\n",
    "from collections import defaultdict\n",
    "import matplotlib.pylab as plt"
   ]
  },
  {
   "cell_type": "code",
   "execution_count": 2,
   "metadata": {},
   "outputs": [],
   "source": [
    "pyro.enable_validation(True)"
   ]
  },
  {
   "cell_type": "code",
   "execution_count": 3,
   "metadata": {},
   "outputs": [],
   "source": [
    "N = 1000\n",
    "D = 2\n",
    "K = 2"
   ]
  },
  {
   "cell_type": "code",
   "execution_count": 6,
   "metadata": {},
   "outputs": [],
   "source": [
    "# a factor model sans observation model and D-plate\n",
    "# D-plate is inherited from parent, so everything is moved one level up\n",
    "# returns parameters of factor model\n",
    "initial_hyperparameters = (K,torch.randn(D),torch.abs(torch.randn(D)),torch.randn(D),torch.abs(torch.randn(D)),torch.randn(K,D),torch.abs(torch.randn(K,D))*2)\n",
    "def factorLatents(X, hyperparameters = initial_hyperparameters, name = ''):\n",
    "    N, D = X.shape\n",
    "    K, locloc, locscale, scaleloc, scalescale, cov_factor_loc, cov_factor_scale = hyperparameters\n",
    "    #K, locloc, locscale, scaleloc, scalescale, cov_factor_loc, cov_factor_scale = (K,torch.zeros(D),torch.ones(D),torch.zeros(D),torch.ones(D),torch.zeros(K,D),torch.ones(K,D))\n",
    "    #with pyro.plate('D_{}'.format(name), D):\n",
    "    loc = pyro.sample('loc_{}'.format(name), dst.Normal(locloc, locscale))\n",
    "    cov_diag = pyro.sample('scale_{}'.format(name), dst.LogNormal(scaleloc, scalescale))\n",
    "    with pyro.plate('K_{}'.format(name), K):\n",
    "        cov_factor = pyro.sample('cov_factor_{}'.format(name), dst.Normal(cov_factor_loc,cov_factor_scale))\n",
    "    cov_factor = cov_factor.transpose(0,1)\n",
    "    #with pyro.plate('N', N):\n",
    "    #    X = pyro.sample('obs', dst.LowRankMultivariateNormal(loc, cov_factor=cov_factor, cov_diag=cov_diag))\n",
    "    return loc, cov_factor, cov_diag"
   ]
  },
  {
   "cell_type": "code",
   "execution_count": 7,
   "metadata": {},
   "outputs": [],
   "source": [
    "def mixtureOfFactor(X, hyperparameters):\n",
    "    N, D = X.shape\n",
    "    K = 2\n",
    "    L = 2\n",
    "    coord_scale_loc, coord_scale_scale, loc_loc, loc_scale, component_logits_concentration = hyperparameters\n",
    "    component_logits = pyro.sample('component_logits', dst.Dirichlet(component_logits_concentration))\n",
    "    locs = torch.empty((D,K))\n",
    "    cov_factors = torch.empty((K,D,L))\n",
    "    cov_diags = torch.empty((D,K))\n",
    "    with pyro.plate('D', D):\n",
    "        coord_scale = pyro.sample('coord_scale', dst.LogNormal(coord_scale_loc,coord_scale_scale))\n",
    "        for k in pyro.plate('K', K):\n",
    "            factor_hyperparameters = (L,torch.randn(D),20*torch.abs(torch.randn(D)),torch.randn(D),torch.abs(torch.randn(D)),torch.randn(K,D),torch.abs(torch.randn(K,D))*2)\n",
    "            locs[k], cov_factors[k], cov_diags[k] = factorLatents(X, hyperparameters = factor_hyperparameters, name = 'factor_{}'.format(k))\n",
    "    with pyro.plate('N', N):\n",
    "        assignment = pyro.sample('assignment', dst.Categorical(component_logits), infer={\"enumerate\": \"parallel\"})\n",
    "        #X = pyro.sample('obs', dst.MultivariateNormal(locs[assignment], torch.diag(coord_scale)))\n",
    "        X = pyro.sample('obs', dst.LowRankMultivariateNormal(locs[assignment], cov_factors[assignment], cov_diags[assignment]))\n",
    "    return X"
   ]
  },
  {
   "cell_type": "code",
   "execution_count": 8,
   "metadata": {},
   "outputs": [],
   "source": [
    "hyperparameters = (torch.randn(D),torch.abs(torch.randn(D)),torch.randn(K,D),torch.abs(torch.randn(K,D))*2,10*torch.abs(torch.randn(K)))"
   ]
  },
  {
   "cell_type": "code",
   "execution_count": 9,
   "metadata": {
    "scrolled": true
   },
   "outputs": [
    {
     "data": {
      "text/plain": [
       "['component_logits',\n",
       " 'D',\n",
       " 'coord_scale',\n",
       " 'K',\n",
       " 'loc_factor_0',\n",
       " 'scale_factor_0',\n",
       " 'K_factor_0',\n",
       " 'cov_factor_factor_0',\n",
       " 'loc_factor_1',\n",
       " 'scale_factor_1',\n",
       " 'K_factor_1',\n",
       " 'cov_factor_factor_1',\n",
       " 'N',\n",
       " 'assignment',\n",
       " 'obs']"
      ]
     },
     "execution_count": 9,
     "metadata": {},
     "output_type": "execute_result"
    }
   ],
   "source": [
    "trace = pyro.poutine.trace(mixtureOfFactor).get_trace(torch.zeros(N,D), hyperparameters)\n",
    "logp = trace.log_prob_sum()\n",
    "true_variables = [trace.nodes[name][\"value\"] for name in trace.stochastic_nodes]\n",
    "trace.stochastic_nodes"
   ]
  },
  {
   "cell_type": "code",
   "execution_count": 10,
   "metadata": {
    "scrolled": true
   },
   "outputs": [
    {
     "data": {
      "text/plain": [
       "[tensor([0.5872, 0.4128]),\n",
       " tensor([0, 1]),\n",
       " tensor([1.9963, 9.4442]),\n",
       " tensor([0, 1]),\n",
       " tensor([-2.5408,  5.0855]),\n",
       " tensor([1.0562, 0.8707]),\n",
       " tensor([0, 1]),\n",
       " tensor([[-0.3207,  0.5225],\n",
       "         [ 0.1879,  0.1140]]),\n",
       " tensor([-7.9274, -6.2547]),\n",
       " tensor([4.6443, 0.9166]),\n",
       " tensor([0, 1]),\n",
       " tensor([[ 0.0497, -0.0401],\n",
       "         [-1.0981, -1.1829]]),\n",
       " tensor([  0,   1,   2,   3,   4,   5,   6,   7,   8,   9,  10,  11,  12,  13,\n",
       "          14,  15,  16,  17,  18,  19,  20,  21,  22,  23,  24,  25,  26,  27,\n",
       "          28,  29,  30,  31,  32,  33,  34,  35,  36,  37,  38,  39,  40,  41,\n",
       "          42,  43,  44,  45,  46,  47,  48,  49,  50,  51,  52,  53,  54,  55,\n",
       "          56,  57,  58,  59,  60,  61,  62,  63,  64,  65,  66,  67,  68,  69,\n",
       "          70,  71,  72,  73,  74,  75,  76,  77,  78,  79,  80,  81,  82,  83,\n",
       "          84,  85,  86,  87,  88,  89,  90,  91,  92,  93,  94,  95,  96,  97,\n",
       "          98,  99, 100, 101, 102, 103, 104, 105, 106, 107, 108, 109, 110, 111,\n",
       "         112, 113, 114, 115, 116, 117, 118, 119, 120, 121, 122, 123, 124, 125,\n",
       "         126, 127, 128, 129, 130, 131, 132, 133, 134, 135, 136, 137, 138, 139,\n",
       "         140, 141, 142, 143, 144, 145, 146, 147, 148, 149, 150, 151, 152, 153,\n",
       "         154, 155, 156, 157, 158, 159, 160, 161, 162, 163, 164, 165, 166, 167,\n",
       "         168, 169, 170, 171, 172, 173, 174, 175, 176, 177, 178, 179, 180, 181,\n",
       "         182, 183, 184, 185, 186, 187, 188, 189, 190, 191, 192, 193, 194, 195,\n",
       "         196, 197, 198, 199, 200, 201, 202, 203, 204, 205, 206, 207, 208, 209,\n",
       "         210, 211, 212, 213, 214, 215, 216, 217, 218, 219, 220, 221, 222, 223,\n",
       "         224, 225, 226, 227, 228, 229, 230, 231, 232, 233, 234, 235, 236, 237,\n",
       "         238, 239, 240, 241, 242, 243, 244, 245, 246, 247, 248, 249, 250, 251,\n",
       "         252, 253, 254, 255, 256, 257, 258, 259, 260, 261, 262, 263, 264, 265,\n",
       "         266, 267, 268, 269, 270, 271, 272, 273, 274, 275, 276, 277, 278, 279,\n",
       "         280, 281, 282, 283, 284, 285, 286, 287, 288, 289, 290, 291, 292, 293,\n",
       "         294, 295, 296, 297, 298, 299, 300, 301, 302, 303, 304, 305, 306, 307,\n",
       "         308, 309, 310, 311, 312, 313, 314, 315, 316, 317, 318, 319, 320, 321,\n",
       "         322, 323, 324, 325, 326, 327, 328, 329, 330, 331, 332, 333, 334, 335,\n",
       "         336, 337, 338, 339, 340, 341, 342, 343, 344, 345, 346, 347, 348, 349,\n",
       "         350, 351, 352, 353, 354, 355, 356, 357, 358, 359, 360, 361, 362, 363,\n",
       "         364, 365, 366, 367, 368, 369, 370, 371, 372, 373, 374, 375, 376, 377,\n",
       "         378, 379, 380, 381, 382, 383, 384, 385, 386, 387, 388, 389, 390, 391,\n",
       "         392, 393, 394, 395, 396, 397, 398, 399, 400, 401, 402, 403, 404, 405,\n",
       "         406, 407, 408, 409, 410, 411, 412, 413, 414, 415, 416, 417, 418, 419,\n",
       "         420, 421, 422, 423, 424, 425, 426, 427, 428, 429, 430, 431, 432, 433,\n",
       "         434, 435, 436, 437, 438, 439, 440, 441, 442, 443, 444, 445, 446, 447,\n",
       "         448, 449, 450, 451, 452, 453, 454, 455, 456, 457, 458, 459, 460, 461,\n",
       "         462, 463, 464, 465, 466, 467, 468, 469, 470, 471, 472, 473, 474, 475,\n",
       "         476, 477, 478, 479, 480, 481, 482, 483, 484, 485, 486, 487, 488, 489,\n",
       "         490, 491, 492, 493, 494, 495, 496, 497, 498, 499, 500, 501, 502, 503,\n",
       "         504, 505, 506, 507, 508, 509, 510, 511, 512, 513, 514, 515, 516, 517,\n",
       "         518, 519, 520, 521, 522, 523, 524, 525, 526, 527, 528, 529, 530, 531,\n",
       "         532, 533, 534, 535, 536, 537, 538, 539, 540, 541, 542, 543, 544, 545,\n",
       "         546, 547, 548, 549, 550, 551, 552, 553, 554, 555, 556, 557, 558, 559,\n",
       "         560, 561, 562, 563, 564, 565, 566, 567, 568, 569, 570, 571, 572, 573,\n",
       "         574, 575, 576, 577, 578, 579, 580, 581, 582, 583, 584, 585, 586, 587,\n",
       "         588, 589, 590, 591, 592, 593, 594, 595, 596, 597, 598, 599, 600, 601,\n",
       "         602, 603, 604, 605, 606, 607, 608, 609, 610, 611, 612, 613, 614, 615,\n",
       "         616, 617, 618, 619, 620, 621, 622, 623, 624, 625, 626, 627, 628, 629,\n",
       "         630, 631, 632, 633, 634, 635, 636, 637, 638, 639, 640, 641, 642, 643,\n",
       "         644, 645, 646, 647, 648, 649, 650, 651, 652, 653, 654, 655, 656, 657,\n",
       "         658, 659, 660, 661, 662, 663, 664, 665, 666, 667, 668, 669, 670, 671,\n",
       "         672, 673, 674, 675, 676, 677, 678, 679, 680, 681, 682, 683, 684, 685,\n",
       "         686, 687, 688, 689, 690, 691, 692, 693, 694, 695, 696, 697, 698, 699,\n",
       "         700, 701, 702, 703, 704, 705, 706, 707, 708, 709, 710, 711, 712, 713,\n",
       "         714, 715, 716, 717, 718, 719, 720, 721, 722, 723, 724, 725, 726, 727,\n",
       "         728, 729, 730, 731, 732, 733, 734, 735, 736, 737, 738, 739, 740, 741,\n",
       "         742, 743, 744, 745, 746, 747, 748, 749, 750, 751, 752, 753, 754, 755,\n",
       "         756, 757, 758, 759, 760, 761, 762, 763, 764, 765, 766, 767, 768, 769,\n",
       "         770, 771, 772, 773, 774, 775, 776, 777, 778, 779, 780, 781, 782, 783,\n",
       "         784, 785, 786, 787, 788, 789, 790, 791, 792, 793, 794, 795, 796, 797,\n",
       "         798, 799, 800, 801, 802, 803, 804, 805, 806, 807, 808, 809, 810, 811,\n",
       "         812, 813, 814, 815, 816, 817, 818, 819, 820, 821, 822, 823, 824, 825,\n",
       "         826, 827, 828, 829, 830, 831, 832, 833, 834, 835, 836, 837, 838, 839,\n",
       "         840, 841, 842, 843, 844, 845, 846, 847, 848, 849, 850, 851, 852, 853,\n",
       "         854, 855, 856, 857, 858, 859, 860, 861, 862, 863, 864, 865, 866, 867,\n",
       "         868, 869, 870, 871, 872, 873, 874, 875, 876, 877, 878, 879, 880, 881,\n",
       "         882, 883, 884, 885, 886, 887, 888, 889, 890, 891, 892, 893, 894, 895,\n",
       "         896, 897, 898, 899, 900, 901, 902, 903, 904, 905, 906, 907, 908, 909,\n",
       "         910, 911, 912, 913, 914, 915, 916, 917, 918, 919, 920, 921, 922, 923,\n",
       "         924, 925, 926, 927, 928, 929, 930, 931, 932, 933, 934, 935, 936, 937,\n",
       "         938, 939, 940, 941, 942, 943, 944, 945, 946, 947, 948, 949, 950, 951,\n",
       "         952, 953, 954, 955, 956, 957, 958, 959, 960, 961, 962, 963, 964, 965,\n",
       "         966, 967, 968, 969, 970, 971, 972, 973, 974, 975, 976, 977, 978, 979,\n",
       "         980, 981, 982, 983, 984, 985, 986, 987, 988, 989, 990, 991, 992, 993,\n",
       "         994, 995, 996, 997, 998, 999]),\n",
       " tensor([1, 1, 1, 1, 0, 1, 1, 0, 0, 1, 0, 1, 0, 0, 0, 0, 0, 0, 0, 0, 0, 1, 1, 0,\n",
       "         0, 1, 0, 0, 1, 0, 0, 0, 1, 0, 0, 0, 0, 1, 1, 0, 1, 0, 0, 0, 0, 1, 0, 0,\n",
       "         1, 0, 0, 0, 1, 0, 0, 0, 1, 0, 1, 1, 1, 0, 0, 0, 0, 0, 0, 1, 1, 1, 0, 0,\n",
       "         1, 0, 0, 0, 0, 0, 0, 1, 1, 0, 1, 1, 1, 1, 1, 0, 0, 0, 1, 1, 0, 0, 0, 1,\n",
       "         0, 1, 1, 1, 0, 0, 0, 1, 1, 1, 0, 0, 0, 1, 0, 0, 0, 0, 1, 0, 1, 1, 0, 0,\n",
       "         0, 0, 0, 1, 0, 0, 1, 0, 0, 0, 0, 0, 1, 1, 1, 1, 1, 1, 0, 1, 0, 1, 0, 0,\n",
       "         0, 1, 0, 0, 1, 1, 1, 1, 0, 0, 0, 1, 0, 0, 0, 1, 1, 0, 0, 0, 1, 1, 0, 1,\n",
       "         1, 0, 0, 1, 1, 0, 0, 1, 1, 1, 1, 0, 0, 0, 0, 1, 0, 0, 0, 1, 1, 0, 0, 1,\n",
       "         1, 0, 1, 1, 0, 0, 1, 0, 0, 1, 0, 1, 1, 1, 1, 1, 0, 0, 1, 1, 1, 0, 1, 1,\n",
       "         0, 0, 1, 0, 0, 0, 1, 0, 1, 0, 0, 0, 0, 1, 0, 0, 0, 0, 0, 1, 1, 1, 0, 0,\n",
       "         1, 1, 0, 1, 1, 0, 0, 0, 0, 0, 1, 0, 1, 0, 0, 0, 0, 0, 1, 0, 0, 1, 0, 1,\n",
       "         0, 0, 1, 1, 0, 1, 1, 1, 1, 1, 1, 0, 0, 1, 0, 0, 1, 1, 1, 0, 1, 1, 0, 0,\n",
       "         0, 0, 0, 1, 0, 1, 1, 1, 0, 1, 1, 1, 0, 1, 0, 0, 1, 1, 1, 0, 0, 0, 1, 0,\n",
       "         1, 0, 0, 1, 0, 1, 0, 0, 0, 0, 0, 1, 0, 0, 1, 0, 1, 1, 0, 0, 0, 0, 1, 0,\n",
       "         1, 1, 1, 0, 0, 0, 1, 0, 1, 1, 1, 0, 0, 1, 0, 1, 0, 0, 0, 1, 0, 0, 0, 0,\n",
       "         0, 1, 0, 0, 1, 0, 0, 1, 1, 0, 1, 1, 0, 0, 0, 0, 1, 1, 0, 1, 0, 0, 0, 1,\n",
       "         1, 0, 1, 0, 0, 0, 1, 0, 0, 0, 0, 1, 0, 0, 1, 0, 0, 1, 1, 0, 1, 0, 0, 1,\n",
       "         1, 1, 1, 1, 1, 0, 0, 0, 1, 1, 1, 0, 0, 0, 1, 0, 0, 0, 0, 1, 1, 0, 0, 0,\n",
       "         1, 0, 1, 0, 1, 1, 0, 0, 0, 1, 0, 1, 1, 0, 0, 0, 0, 1, 0, 0, 1, 0, 1, 0,\n",
       "         1, 0, 0, 0, 0, 0, 1, 0, 1, 1, 1, 0, 1, 1, 0, 0, 1, 1, 0, 1, 0, 1, 1, 0,\n",
       "         1, 1, 1, 0, 0, 0, 1, 0, 0, 1, 1, 0, 0, 1, 1, 0, 1, 0, 0, 1, 1, 1, 1, 1,\n",
       "         0, 0, 1, 1, 1, 1, 0, 0, 0, 0, 1, 1, 0, 1, 1, 1, 0, 1, 0, 0, 1, 0, 0, 0,\n",
       "         0, 0, 1, 1, 1, 0, 0, 0, 0, 0, 1, 0, 0, 0, 1, 1, 0, 1, 0, 0, 0, 0, 1, 0,\n",
       "         0, 0, 1, 0, 1, 0, 0, 0, 0, 1, 0, 0, 0, 1, 0, 0, 0, 1, 0, 1, 0, 0, 0, 1,\n",
       "         1, 0, 0, 1, 0, 1, 1, 0, 0, 1, 0, 0, 0, 0, 0, 0, 0, 0, 1, 1, 1, 1, 1, 0,\n",
       "         0, 0, 1, 1, 0, 0, 1, 1, 1, 0, 0, 1, 0, 1, 0, 1, 0, 1, 1, 0, 0, 0, 0, 1,\n",
       "         0, 0, 0, 0, 0, 0, 0, 1, 0, 0, 0, 0, 1, 1, 0, 1, 1, 1, 1, 0, 0, 0, 0, 1,\n",
       "         1, 0, 1, 0, 0, 0, 1, 1, 0, 0, 1, 0, 1, 1, 1, 0, 0, 1, 0, 0, 1, 0, 0, 0,\n",
       "         1, 0, 1, 1, 0, 1, 0, 1, 0, 0, 0, 0, 1, 0, 1, 0, 1, 0, 0, 0, 1, 0, 0, 0,\n",
       "         0, 1, 1, 1, 1, 0, 0, 1, 0, 0, 0, 0, 0, 1, 1, 0, 1, 1, 1, 0, 0, 0, 0, 1,\n",
       "         0, 1, 0, 1, 1, 1, 0, 0, 0, 0, 0, 1, 0, 1, 0, 1, 0, 0, 0, 0, 1, 0, 1, 1,\n",
       "         1, 1, 0, 0, 0, 1, 0, 0, 1, 0, 1, 1, 0, 1, 0, 1, 1, 0, 0, 0, 1, 0, 0, 0,\n",
       "         0, 1, 0, 1, 0, 1, 1, 0, 0, 1, 0, 1, 1, 0, 1, 0, 0, 1, 1, 0, 0, 1, 1, 1,\n",
       "         1, 1, 1, 1, 0, 0, 1, 0, 0, 0, 0, 1, 1, 0, 1, 0, 1, 0, 1, 1, 1, 1, 1, 0,\n",
       "         0, 0, 0, 1, 0, 1, 0, 1, 0, 1, 0, 0, 0, 0, 0, 0, 1, 1, 1, 0, 1, 0, 1, 1,\n",
       "         0, 1, 0, 1, 0, 0, 1, 1, 1, 0, 1, 0, 1, 0, 0, 0, 1, 0, 1, 0, 1, 0, 0, 1,\n",
       "         0, 0, 0, 1, 0, 0, 0, 1, 0, 0, 1, 1, 1, 0, 0, 1, 0, 0, 0, 0, 0, 0, 0, 0,\n",
       "         1, 0, 0, 0, 0, 1, 1, 1, 0, 0, 0, 0, 0, 1, 0, 0, 0, 0, 1, 0, 1, 1, 0, 1,\n",
       "         1, 0, 0, 1, 0, 1, 1, 0, 0, 0, 0, 1, 0, 0, 0, 0, 1, 1, 1, 1, 0, 1, 1, 0,\n",
       "         0, 0, 1, 1, 0, 0, 0, 0, 0, 0, 1, 0, 1, 0, 0, 0, 1, 0, 0, 0, 0, 1, 0, 1,\n",
       "         1, 1, 0, 0, 0, 0, 0, 0, 0, 0, 0, 0, 0, 1, 0, 1, 1, 0, 0, 1, 0, 1, 0, 1,\n",
       "         0, 1, 1, 1, 1, 1, 1, 1, 0, 0, 1, 0, 0, 1, 0, 0]),\n",
       " tensor([[ -8.0381,  -4.4733],\n",
       "         [-12.1438,  -3.6263],\n",
       "         [ -5.8672,  -5.7991],\n",
       "         ...,\n",
       "         [-11.1400,  -7.1861],\n",
       "         [ -1.0182,   4.0661],\n",
       "         [ -3.5548,   4.7227]])]"
      ]
     },
     "execution_count": 10,
     "metadata": {},
     "output_type": "execute_result"
    }
   ],
   "source": [
    "true_variables"
   ]
  },
  {
   "cell_type": "code",
   "execution_count": 11,
   "metadata": {},
   "outputs": [
    {
     "data": {
      "text/plain": [
       "tensor(-4183.1191)"
      ]
     },
     "execution_count": 11,
     "metadata": {},
     "output_type": "execute_result"
    }
   ],
   "source": [
    "logp"
   ]
  },
  {
   "cell_type": "code",
   "execution_count": 12,
   "metadata": {},
   "outputs": [],
   "source": [
    "data = true_variables[-1]"
   ]
  },
  {
   "cell_type": "code",
   "execution_count": 13,
   "metadata": {},
   "outputs": [
    {
     "data": {
      "text/plain": [
       "<matplotlib.collections.PathCollection at 0x7f997a10fcc0>"
      ]
     },
     "execution_count": 13,
     "metadata": {},
     "output_type": "execute_result"
    },
    {
     "data": {
      "image/png": "[encoded data removed]",
      "text/plain": [
       "<Figure size 432x288 with 1 Axes>"
      ]
     },
     "metadata": {
      "needs_background": "light"
     },
     "output_type": "display_data"
    }
   ],
   "source": [
    "plt.scatter(*data.detach().numpy().T)"
   ]
  },
  {
   "cell_type": "code",
   "execution_count": 14,
   "metadata": {},
   "outputs": [],
   "source": [
    "# a factor model sans observation model and D-plate\n",
    "# D-plate is inherited from parent guide\n",
    "# returns parameters of factor model\n",
    "def factorLatentsGuide(X, hyperparameters, name = ''):\n",
    "#def guide(X):\n",
    "    #K = 2\n",
    "    K, locloc, locscale, scaleloc, scalescale, cov_factor_loc, cov_factor_scale = hyperparameters\n",
    "    #K, locloc, locscale, scaleloc, scalescale, cov_factor_loc, cov_factor_scale = (K,torch.zeros(D),torch.ones(D),torch.zeros(D),torch.ones(D),torch.zeros(K,D),torch.ones(K,D))\n",
    "    #with pyro.plate('D', D, dim=-1):\n",
    "    loc_loc = pyro.param('loc_loc_{}'.format(name), locloc)\n",
    "    loc_scale = pyro.param('loc_scale_{}'.format(name), locscale, constraint=constraints.positive)\n",
    "    cov_diag_loc = pyro.param('scale_loc_{}'.format(name), scaleloc)\n",
    "    cov_diag_scale = pyro.param('scale_scale_{}'.format(name), scalescale, constraint=constraints.positive)\n",
    "    # sample variables\n",
    "    loc = pyro.sample('loc_{}'.format(name), dst.Normal(loc_loc,loc_scale))\n",
    "    with pyro.plate('K_{}'.format(name), K):\n",
    "        cov_factor_loc = pyro.param('cov_factor_loc_{}'.format(name), cov_factor_loc)\n",
    "        cov_factor_scale = pyro.param('cov_factor_scale_{}'.format(name), cov_factor_scale, constraint=constraints.positive)\n",
    "        cov_factor = pyro.sample('cov_factor_{}'.format(name), dst.Normal(cov_factor_loc, cov_factor_scale))\n",
    "    cov_factor = cov_factor.transpose(0,1)\n",
    "    cov_diag = pyro.sample('scale_{}'.format(name), dst.LogNormal(cov_diag_loc, cov_diag_scale))\n",
    "    return loc, cov_factor, cov_diag"
   ]
  },
  {
   "cell_type": "code",
   "execution_count": 15,
   "metadata": {},
   "outputs": [],
   "source": [
    "def mixtureOfFactorGuide(X, hyperparameters):\n",
    "    N, D = X.shape\n",
    "    K = 2\n",
    "    L = 2\n",
    "    coord_scale_loc, coord_scale_scale, loc_loc, loc_scale, component_logits_concentration = hyperparameters\n",
    "    locs = torch.empty((D,K))\n",
    "    cov_factors = torch.empty((K,D,L))\n",
    "    cov_diags = torch.empty((D,K))\n",
    "    with pyro.plate('D', D):\n",
    "        coord_scale_loc = pyro.param('coord_scale_loc', coord_scale_loc)\n",
    "        coord_scale_scale = pyro.param('coord_scale_scale', coord_scale_scale, constraint=constraints.positive)\n",
    "        coord_scale = pyro.sample('coord_scale', dst.LogNormal(coord_scale_loc,coord_scale_scale))\n",
    "        for k in pyro.plate('K', K):\n",
    "            factor_hyperparameters = (L,torch.randn(D),10*torch.abs(torch.randn(D)),torch.randn(D),torch.abs(torch.randn(D)),torch.randn(K,D),torch.abs(torch.randn(K,D))*2)\n",
    "            locs[k], cov_factors[k], cov_diags[k] = factorLatentsGuide(X, hyperparameters = factor_hyperparameters, name = 'factor_{}'.format(k))\n",
    "    component_logits_concentration = pyro.param('component_logits_concentration', component_logits_concentration, constraint=constraints.positive)\n",
    "    component_logits = pyro.sample('component_logits', dst.Dirichlet(component_logits_concentration))\n",
    "    return coord_scale, locs, cov_factors, cov_diags, component_logits"
   ]
  },
  {
   "cell_type": "code",
   "execution_count": 16,
   "metadata": {},
   "outputs": [],
   "source": [
    "track_params = True\n",
    "def per_param_callable(module_name, param_name):\n",
    "    #return {\"lr\": 0.01, \"betas\": (0.9, 0.8)} # too much momentum slows down learning apparently\n",
    "    #return {\"lr\": 0.005, \"betas\": (0.9, 0.9)} # too much momentum slows down learning apparently\n",
    "    return {\"lr\": 0.01, \"betas\": (0.90, 0.999)} # from http://pyro.ai/examples/svi_part_i.html\n",
    "    #return {\"lr\": 0.001, 'betas': [0.9, 0.99]}\n",
    "    #return {\"lr\": 0.01, 'betas': [0.9, 0.99]}\n",
    "    #return {\"lr\": 0.1, 'betas': [0.9, 0.99]}"
   ]
  },
  {
   "cell_type": "code",
   "execution_count": 17,
   "metadata": {},
   "outputs": [],
   "source": [
    "pyro.clear_param_store()"
   ]
  },
  {
   "cell_type": "code",
   "execution_count": 18,
   "metadata": {},
   "outputs": [],
   "source": [
    "conditioned_model = pyro.condition(mixtureOfFactor, data = {'obs': data})\n",
    "optim = torch.optim.Adam\n",
    "scheduler = pyro.optim.ExponentialLR({'optimizer': optim, 'optim_args': per_param_callable, 'gamma': 0.99 })\n",
    "elbo = TraceEnum_ELBO(max_plate_nesting=3)\n",
    "svi = SVI(conditioned_model, mixtureOfFactorGuide, scheduler, loss=elbo, num_samples=50)"
   ]
  },
  {
   "cell_type": "code",
   "execution_count": 19,
   "metadata": {},
   "outputs": [],
   "source": [
    "hyperparameters = (torch.randn(D),torch.abs(torch.randn(D)),torch.randn(K,D),torch.abs(torch.randn(K,D))*2,torch.abs(torch.randn(K)))"
   ]
  },
  {
   "cell_type": "code",
   "execution_count": 20,
   "metadata": {
    "scrolled": false
   },
   "outputs": [],
   "source": [
    "# Register hooks to monitor gradient norms.\n",
    "losses = []\n",
    "gradient_norms = defaultdict(list)\n",
    "# take one svi step to populate the param store\n",
    "loss = svi.step(data, hyperparameters)\n",
    "#loss = svi.step(data, initial_hyperparameters)\n",
    "if track_params:\n",
    "    param_history = dict({k:v.unsqueeze(0) for k,v in pyro.get_param_store().items()})\n",
    "# register gradient hooks for monitoring\n",
    "for name, value in pyro.get_param_store().named_parameters():\n",
    "    value.register_hook(lambda g, name=name: gradient_norms[name].append(g.norm().item()))"
   ]
  },
  {
   "cell_type": "code",
   "execution_count": 21,
   "metadata": {
    "scrolled": true
   },
   "outputs": [
    {
     "name": "stdout",
     "output_type": "stream",
     "text": [
      "\n",
      "Setting lr to 0.0099\n",
      "0\n",
      "...................................................................................................\n",
      "Setting lr to 0.009801\n",
      "100\n",
      "...................................................................................................\n",
      "Setting lr to 0.00970299\n",
      "200\n",
      "...................................................................................................\n",
      "Setting lr to 0.0096059601\n",
      "300\n",
      "...................................................................................................\n",
      "Setting lr to 0.009509900499\n",
      "400\n",
      "...................................................................................................\n",
      "Setting lr to 0.00941480149401\n",
      "500\n",
      "...................................................................................................\n",
      "Setting lr to 0.0093206534790699\n",
      "600\n",
      "...................................................................................................\n",
      "Setting lr to 0.0092274469442792\n",
      "700\n",
      "...................................................................................................\n",
      "Setting lr to 0.009135172474836408\n",
      "800\n",
      "...................................................................................................\n",
      "Setting lr to 0.009043820750088045\n",
      "900\n",
      "...................................................................................................\n",
      "Setting lr to 0.008953382542587164\n",
      "1000\n",
      "...................................................................................................\n",
      "Setting lr to 0.008863848717161293\n",
      "1100\n",
      "...................................................................................................\n",
      "Setting lr to 0.008775210229989679\n",
      "1200\n",
      "...................................................................................................\n",
      "Setting lr to 0.008687458127689783\n",
      "1300\n",
      "...................................................................................................\n",
      "Setting lr to 0.008600583546412884\n",
      "1400\n",
      "...................................................................................................\n",
      "Setting lr to 0.008514577710948755\n",
      "1500\n",
      "...................................................................................................\n",
      "Setting lr to 0.008429431933839267\n",
      "1600\n",
      "...................................................................................................\n",
      "Setting lr to 0.008345137614500875\n",
      "1700\n",
      "...................................................................................................\n",
      "Setting lr to 0.008261686238355867\n",
      "1800\n",
      "...................................................................................................\n",
      "Setting lr to 0.008179069375972308\n",
      "1900\n",
      "...................................................................................................\n",
      "Setting lr to 0.008097278682212584\n",
      "2000\n",
      "...................................................................................................\n",
      "Setting lr to 0.00801630589539046\n",
      "2100\n",
      "...................................................................................................\n",
      "Setting lr to 0.007936142836436554\n",
      "2200\n",
      "...................................................................................................\n",
      "Setting lr to 0.007856781408072187\n",
      "2300\n",
      "...................................................................................................\n",
      "Setting lr to 0.007778213593991467\n",
      "2400\n",
      "...................................................................................................\n",
      "Setting lr to 0.007700431458051551\n",
      "2500\n",
      "...................................................................................................\n",
      "Setting lr to 0.007623427143471036\n",
      "2600\n",
      "...................................................................................................\n",
      "Setting lr to 0.007547192872036326\n",
      "2700\n",
      "...................................................................................................\n",
      "Setting lr to 0.007471720943315961\n",
      "2800\n",
      "...................................................................................................\n",
      "Setting lr to 0.007397003733882802\n",
      "2900\n",
      "...................................................................................................\n",
      "Setting lr to 0.007323033696543975\n",
      "3000\n",
      "...................................................................................................\n",
      "Setting lr to 0.007249803359578534\n",
      "3100\n",
      "...................................................................................................\n",
      "Setting lr to 0.00717730532598275\n",
      "3200\n",
      "...................................................................................................\n",
      "Setting lr to 0.007105532272722921\n",
      "3300\n",
      "...................................................................................................\n",
      "Setting lr to 0.007034476949995692\n",
      "3400\n",
      "...................................................................................................\n",
      "Setting lr to 0.006964132180495734\n",
      "3500\n",
      "...................................................................................................\n",
      "Setting lr to 0.006894490858690777\n",
      "3600\n",
      "...................................................................................................\n",
      "Setting lr to 0.006825545950103869\n",
      "3700\n",
      "...................................................................................................\n",
      "Setting lr to 0.006757290490602831\n",
      "3800\n",
      "...................................................................................................\n",
      "Setting lr to 0.006689717585696803\n",
      "3900\n",
      "...................................................................................................\n",
      "Setting lr to 0.0066228204098398346\n",
      "4000\n",
      "...................................................................................................\n",
      "Setting lr to 0.006556592205741436\n",
      "4100\n",
      "...................................................................................................\n",
      "Setting lr to 0.006491026283684022\n",
      "4200\n",
      "...................................................................................................\n",
      "Setting lr to 0.0064261160208471816\n",
      "4300\n",
      "...................................................................................................\n",
      "Setting lr to 0.00636185486063871\n",
      "4400\n",
      "...................................................................................................\n",
      "Setting lr to 0.006298236312032322\n",
      "4500\n",
      "...................................................................................................\n",
      "Setting lr to 0.006235253948912\n",
      "4600\n",
      "...................................................................................................\n",
      "Setting lr to 0.00617290140942288\n",
      "4700\n",
      "...................................................................................................\n",
      "Setting lr to 0.00611117239532865\n",
      "4800\n",
      "...................................................................................................\n",
      "Setting lr to 0.006050060671375364\n",
      "4900\n",
      "...................................................................................................\n",
      "Setting lr to 0.00598956006466161\n",
      "5000\n",
      "...................................................................................................\n",
      "Setting lr to 0.005929664464014994\n",
      "5100\n",
      "...................................................................................................\n",
      "Setting lr to 0.0058703678193748445\n",
      "5200\n",
      "...................................................................................................\n",
      "Setting lr to 0.005811664141181096\n",
      "5300\n",
      "...................................................................................................\n",
      "Setting lr to 0.005753547499769285\n",
      "5400\n",
      "...................................................................................................\n",
      "Setting lr to 0.005696012024771592\n",
      "5500\n",
      "...................................................................................................\n",
      "Setting lr to 0.005639051904523875\n",
      "5600\n",
      "...................................................................................................\n",
      "Setting lr to 0.005582661385478637\n",
      "5700\n",
      "...................................................................................................\n",
      "Setting lr to 0.005526834771623851\n",
      "5800\n",
      "...................................................................................................\n",
      "Setting lr to 0.005471566423907613\n",
      "5900\n"
     ]
    },
    {
     "name": "stdout",
     "output_type": "stream",
     "text": [
      "...................................................................................................\n",
      "Setting lr to 0.0054168507596685355\n",
      "6000\n",
      "...................................................................................................\n",
      "Setting lr to 0.00536268225207185\n",
      "6100\n",
      "...................................................................................................\n",
      "Setting lr to 0.005309055429551132\n",
      "6200\n",
      "...................................................................................................\n",
      "Setting lr to 0.00525596487525562\n",
      "6300\n",
      "...................................................................................................\n",
      "Setting lr to 0.005203405226503064\n",
      "6400\n",
      "...................................................................................................\n",
      "Setting lr to 0.005151371174238033\n",
      "6500\n",
      "...................................................................................................\n",
      "Setting lr to 0.005099857462495653\n",
      "6600\n",
      "...................................................................................................\n",
      "Setting lr to 0.005048858887870696\n",
      "6700\n",
      "...................................................................................................\n",
      "Setting lr to 0.004998370298991989\n",
      "6800\n",
      "...................................................................................................\n",
      "Setting lr to 0.00494838659600207\n",
      "6900\n",
      "...................................................................................................\n",
      "Setting lr to 0.0048989027300420495\n",
      "7000\n",
      "...................................................................................................\n",
      "Setting lr to 0.004849913702741629\n",
      "7100\n",
      "...................................................................................................\n",
      "Setting lr to 0.004801414565714212\n",
      "7200\n",
      "...................................................................................................\n",
      "Setting lr to 0.0047534004200570695\n",
      "7300\n",
      "...................................................................................................\n",
      "Setting lr to 0.004705866415856499\n",
      "7400\n",
      "...................................................................................................\n",
      "Setting lr to 0.004658807751697934\n",
      "7500\n",
      "...................................................................................................\n",
      "Setting lr to 0.004612219674180955\n",
      "7600\n",
      "...................................................................................................\n",
      "Setting lr to 0.004566097477439145\n",
      "7700\n",
      "...................................................................................................\n",
      "Setting lr to 0.004520436502664754\n",
      "7800\n",
      "...................................................................................................\n",
      "Setting lr to 0.004475232137638106\n",
      "7900\n",
      "...................................................................................................\n",
      "Setting lr to 0.004430479816261725\n",
      "8000\n",
      "...................................................................................................\n",
      "Setting lr to 0.004386175018099108\n",
      "8100\n",
      "...................................................................................................\n",
      "Setting lr to 0.004342313267918117\n",
      "8200\n",
      "...................................................................................................\n",
      "Setting lr to 0.004298890135238935\n",
      "8300\n",
      "...................................................................................................\n",
      "Setting lr to 0.004255901233886546\n",
      "8400\n",
      "...................................................................................................\n",
      "Setting lr to 0.0042133422215476805\n",
      "8500\n",
      "...................................................................................................\n",
      "Setting lr to 0.004171208799332204\n",
      "8600\n",
      "...................................................................................................\n",
      "Setting lr to 0.004129496711338882\n",
      "8700\n",
      "...................................................................................................\n",
      "Setting lr to 0.0040882017442254925\n",
      "8800\n",
      "...................................................................................................\n",
      "Setting lr to 0.0040473197267832375\n",
      "8900\n",
      "...................................................................................................\n",
      "Setting lr to 0.004006846529515405\n",
      "9000\n",
      "...................................................................................................\n",
      "Setting lr to 0.003966778064220251\n",
      "9100\n",
      "...................................................................................................\n",
      "Setting lr to 0.003927110283578048\n",
      "9200\n",
      "...................................................................................................\n",
      "Setting lr to 0.003887839180742268\n",
      "9300\n",
      "...................................................................................................\n",
      "Setting lr to 0.0038489607889348456\n",
      "9400\n",
      "...................................................................................................\n",
      "Setting lr to 0.003810471181045497\n",
      "9500\n",
      "...................................................................................................\n",
      "Setting lr to 0.003772366469235042\n",
      "9600\n",
      "...................................................................................................\n",
      "Setting lr to 0.003734642804542692\n",
      "9700\n",
      "...................................................................................................\n",
      "Setting lr to 0.0036972963764972644\n",
      "9800\n",
      "...................................................................................................\n",
      "Setting lr to 0.003660323412732292\n",
      "9900\n",
      "...................................................................................................\n",
      "Setting lr to 0.003623720178604969\n",
      "10000\n",
      "...................................................................................................\n",
      "Setting lr to 0.0035874829768189195\n",
      "10100\n",
      "...................................................................................................\n",
      "Setting lr to 0.00355160814705073\n",
      "10200\n",
      "...................................................................................................\n",
      "Setting lr to 0.0035160920655802224\n",
      "10300\n",
      "...................................................................................................\n",
      "Setting lr to 0.00348093114492442\n",
      "10400\n",
      "...................................................................................................\n",
      "Setting lr to 0.003446121833475176\n",
      "10500\n",
      "...................................................................................................\n",
      "Setting lr to 0.0034116606151404247\n",
      "10600\n",
      "...................................................................................................\n",
      "Setting lr to 0.00337754400898902\n",
      "10700\n",
      "...................................................................................................\n",
      "Setting lr to 0.0033437685688991296\n",
      "10800\n",
      "...................................................................................................\n",
      "Setting lr to 0.0033103308832101385\n",
      "10900\n",
      "...................................................................................................\n",
      "Setting lr to 0.003277227574378037\n",
      "11000\n",
      "...................................................................................................\n",
      "Setting lr to 0.003244455298634257\n",
      "11100\n",
      "...................................................................................................\n",
      "Setting lr to 0.003212010745647914\n",
      "11200\n",
      "...................................................................................................\n",
      "Setting lr to 0.003179890638191435\n",
      "11300\n",
      "...................................................................................................\n",
      "Setting lr to 0.0031480917318095205\n",
      "11400\n",
      "...................................................................................................\n",
      "Setting lr to 0.003116610814491425\n",
      "11500\n",
      "...................................................................................................\n",
      "Setting lr to 0.003085444706346511\n",
      "11600\n",
      "...................................................................................................\n",
      "Setting lr to 0.003054590259283046\n",
      "11700\n"
     ]
    },
    {
     "name": "stdout",
     "output_type": "stream",
     "text": [
      "...................................................................................................\n",
      "Setting lr to 0.0030240443566902156\n",
      "11800\n",
      "...................................................................................................\n",
      "Setting lr to 0.002993803913123313\n",
      "11900\n",
      "...................................................................................................\n",
      "Setting lr to 0.0029638658739920797\n",
      "12000\n",
      "...................................................................................................\n",
      "Setting lr to 0.002934227215252159\n",
      "12100\n",
      "...................................................................................................\n",
      "Setting lr to 0.002904884943099638\n",
      "12200\n",
      "...................................................................................................\n",
      "Setting lr to 0.002875836093668641\n",
      "12300\n",
      "...................................................................................................\n",
      "Setting lr to 0.0028470777327319545\n",
      "12400\n",
      "...................................................................................................\n",
      "Setting lr to 0.002818606955404635\n",
      "12500\n",
      "...................................................................................................\n",
      "Setting lr to 0.0027904208858505887\n",
      "12600\n",
      "...................................................................................................\n",
      "Setting lr to 0.002762516676992083\n",
      "12700\n",
      "...................................................................................................\n",
      "Setting lr to 0.0027348915102221624\n",
      "12800\n",
      "...................................................................................................\n",
      "Setting lr to 0.0027075425951199406\n",
      "12900\n",
      "...................................................................................................\n",
      "Setting lr to 0.002680467169168741\n",
      "13000\n",
      "...................................................................................................\n",
      "Setting lr to 0.0026536624974770532\n",
      "13100\n",
      "...................................................................................................\n",
      "Setting lr to 0.0026271258725022828\n",
      "13200\n",
      "...................................................................................................\n",
      "Setting lr to 0.0026008546137772605\n",
      "13300\n",
      "...................................................................................................\n",
      "Setting lr to 0.0025748460676394873\n",
      "13400\n",
      "...................................................................................................\n",
      "Setting lr to 0.002549097606963093\n",
      "13500\n",
      "...................................................................................................\n",
      "Setting lr to 0.002523606630893462\n",
      "13600\n",
      "...................................................................................................\n",
      "Setting lr to 0.002498370564584527\n",
      "13700\n",
      "...................................................................................................\n",
      "Setting lr to 0.0024733868589386816\n",
      "13800\n",
      "...................................................................................................\n",
      "Setting lr to 0.0024486529903492947\n",
      "13900\n",
      "...................................................................................................\n",
      "Setting lr to 0.002424166460445802\n",
      "14000\n",
      "...................................................................................................\n",
      "Setting lr to 0.002399924795841344\n",
      "14100\n",
      "...................................................................................................\n",
      "Setting lr to 0.0023759255478829305\n",
      "14200\n",
      "...................................................................................................\n",
      "Setting lr to 0.002352166292404101\n",
      "14300\n",
      "...................................................................................................\n",
      "Setting lr to 0.00232864462948006\n",
      "14400\n",
      "...................................................................................................\n",
      "Setting lr to 0.0023053581831852595\n",
      "14500\n",
      "...................................................................................................\n",
      "Setting lr to 0.002282304601353407\n",
      "14600\n",
      "...................................................................................................\n",
      "Setting lr to 0.002259481555339873\n",
      "14700\n",
      "...................................................................................................\n",
      "Setting lr to 0.002236886739786474\n",
      "14800\n",
      "...................................................................................................\n",
      "Setting lr to 0.0022145178723886093\n",
      "14900\n",
      "..................................................................................................."
     ]
    }
   ],
   "source": [
    "# optimize\n",
    "for i in range(15000):\n",
    "    loss = svi.step(data, hyperparameters)\n",
    "    if i % 100:\n",
    "        print('.', end='')\n",
    "    else:\n",
    "        scheduler.step()\n",
    "        state = scheduler.get_state()['component_logits_concentration']\n",
    "        print('\\nSetting lr to {}'.format(state['base_lrs'][0]*state['gamma']**state['last_epoch']), end='')\n",
    "        print('\\n', end='')\n",
    "        print(i)\n",
    "    #loss = svi.step(data, initial_hyperparameters)\n",
    "    losses.append(loss)\n",
    "    if track_params:\n",
    "    # warning: this builds the param_history dict from scratch in every iteration\n",
    "        param_history = {k:torch.cat([param_history[k],v.unsqueeze(0)],dim=0) for k,v in pyro.get_param_store().items()}\n",
    "        #print('.' if i % 100 else '\\n', end='')\n",
    "params = pyro.get_param_store()"
   ]
  },
  {
   "cell_type": "code",
   "execution_count": 30,
   "metadata": {},
   "outputs": [
    {
     "data": {
      "text/plain": [
       "[('coord_scale_loc', tensor([-0.1709,  0.9644], requires_grad=True)),\n",
       " ('coord_scale_scale', tensor([1.3379, 2.2926], grad_fn=<AddBackward0>)),\n",
       " ('loc_loc_factor_0', tensor([-2.5372,  4.8114], requires_grad=True)),\n",
       " ('loc_scale_factor_0', tensor([0.0894, 0.0768], grad_fn=<AddBackward0>)),\n",
       " ('scale_loc_factor_0', tensor([-0.1837,  0.4729], requires_grad=True)),\n",
       " ('scale_scale_factor_0', tensor([0.0604, 0.3875], grad_fn=<AddBackward0>)),\n",
       " ('cov_factor_loc_factor_0', tensor([[0.4783, 0.3528],\n",
       "          [0.0480, 0.1609]], requires_grad=True)),\n",
       " ('cov_factor_scale_factor_0', tensor([[0.2169, 0.7670],\n",
       "          [0.4705, 0.1071]], grad_fn=<AddBackward0>)),\n",
       " ('loc_loc_factor_1', tensor([-7.2193, -6.0723], requires_grad=True)),\n",
       " ('loc_scale_factor_1', tensor([0.2235, 0.1596], grad_fn=<AddBackward0>)),\n",
       " ('scale_loc_factor_1', tensor([0.0829, 0.7907], requires_grad=True)),\n",
       " ('scale_scale_factor_1', tensor([0.0691, 0.0075], grad_fn=<AddBackward0>)),\n",
       " ('cov_factor_loc_factor_1', tensor([[ 0.4193, -0.6504],\n",
       "          [ 0.8289, -0.2690]], requires_grad=True)),\n",
       " ('cov_factor_scale_factor_1', tensor([[0.9087, 0.8532],\n",
       "          [1.6378, 0.5458]], grad_fn=<AddBackward0>)),\n",
       " ('component_logits_concentration',\n",
       "  tensor([106.5022,  75.2844], grad_fn=<AddBackward0>))]"
      ]
     },
     "execution_count": 30,
     "metadata": {},
     "output_type": "execute_result"
    }
   ],
   "source": [
    "list(pyro.get_param_store().items())"
   ]
  },
  {
   "cell_type": "code",
   "execution_count": 38,
   "metadata": {},
   "outputs": [
    {
     "data": {
      "text/plain": [
       "<matplotlib.collections.PathCollection at 0x7f9953891eb8>"
      ]
     },
     "execution_count": 38,
     "metadata": {},
     "output_type": "execute_result"
    },
    {
     "data": {
      "image/png": "[encoded data removed]",
      "text/plain": [
       "<Figure size 432x288 with 1 Axes>"
      ]
     },
     "metadata": {
      "needs_background": "light"
     },
     "output_type": "display_data"
    }
   ],
   "source": [
    "plt.scatter(*data.detach().numpy().T)\n",
    "plt.scatter(*param_history['loc_loc_factor_0'].detach().numpy().T)\n",
    "plt.scatter(*param_history['loc_loc_factor_1'].detach().numpy().T)"
   ]
  },
  {
   "cell_type": "code",
   "execution_count": 32,
   "metadata": {},
   "outputs": [
    {
     "data": {
      "text/plain": [
       "[<matplotlib.lines.Line2D at 0x7f9952c3e9e8>]"
      ]
     },
     "execution_count": 32,
     "metadata": {},
     "output_type": "execute_result"
    },
    {
     "data": {
      "image/png": "[encoded data removed]",
      "text/plain": [
       "<Figure size 432x288 with 1 Axes>"
      ]
     },
     "metadata": {
      "needs_background": "light"
     },
     "output_type": "display_data"
    }
   ],
   "source": [
    "plt.plot(losses)"
   ]
  },
  {
   "cell_type": "code",
   "execution_count": 33,
   "metadata": {},
   "outputs": [
    {
     "data": {
      "text/plain": [
       "[<matplotlib.lines.Line2D at 0x7f9952ba3550>]"
      ]
     },
     "execution_count": 33,
     "metadata": {},
     "output_type": "execute_result"
    },
    {
     "data": {
      "image/png": "[encoded data removed]",
      "text/plain": [
       "<Figure size 432x288 with 1 Axes>"
      ]
     },
     "metadata": {
      "needs_background": "light"
     },
     "output_type": "display_data"
    }
   ],
   "source": [
    "plt.plot(plt.log(losses))"
   ]
  },
  {
   "cell_type": "code",
   "execution_count": 35,
   "metadata": {},
   "outputs": [
    {
     "data": {
      "text/plain": [
       "[<matplotlib.lines.Line2D at 0x7f9952addf60>,\n",
       " <matplotlib.lines.Line2D at 0x7f9952ae40f0>]"
      ]
     },
     "execution_count": 35,
     "metadata": {},
     "output_type": "execute_result"
    },
    {
     "data": {
      "image/png": "[encoded data removed]",
      "text/plain": [
       "<Figure size 432x288 with 1 Axes>"
      ]
     },
     "metadata": {
      "needs_background": "light"
     },
     "output_type": "display_data"
    }
   ],
   "source": [
    "plt.plot(param_history['coord_scale_loc'].detach().numpy())"
   ]
  },
  {
   "cell_type": "code",
   "execution_count": 36,
   "metadata": {},
   "outputs": [
    {
     "data": {
      "image/png": "[encoded data removed]",
      "text/plain": [
       "<Figure size 432x288 with 1 Axes>"
      ]
     },
     "metadata": {
      "needs_background": "light"
     },
     "output_type": "display_data"
    }
   ],
   "source": [
    "from tracepredictive import *\n",
    "\n",
    "trace_pred = TracePredictive(mixtureOfFactor, svi, num_samples=1000).run(data[:,:500], hyperparameters)\n",
    "random_idx = np.random.randint(1000)\n",
    "predictive_dst_sample = [torch.unsqueeze(trace.nodes['obs']['value'][random_idx,:],dim=0) for trace in trace_pred.exec_traces]\n",
    "predictive_dst_sample = torch.cat(predictive_dst_sample, dim=0)\n",
    "\n",
    "plt.scatter(*data.detach().numpy().T,alpha=.3)\n",
    "plt.scatter(*predictive_dst_sample.detach().numpy().T,alpha=.3);\n",
    "plt.axis('equal');"
   ]
  },
  {
   "cell_type": "code",
   "execution_count": 37,
   "metadata": {},
   "outputs": [
    {
     "data": {
      "image/png": "[encoded data removed]",
      "text/plain": [
       "<Figure size 432x288 with 1 Axes>"
      ]
     },
     "metadata": {
      "needs_background": "light"
     },
     "output_type": "display_data"
    }
   ],
   "source": [
    "plt.scatter(*data.detach().numpy().T,alpha=.3)\n",
    "plt.scatter(*predictive_dst_sample.detach().numpy().T,alpha=.3);\n",
    "#plt.scatter(*params.get_param('loc_loc').detach().numpy().T, s=100, c='black')"
   ]
  }
 ],
 "metadata": {
  "kernelspec": {
   "display_name": "Python 3",
   "language": "python",
   "name": "python3"
  },
  "language_info": {
   "codemirror_mode": {
    "name": "ipython",
    "version": 3
   },
   "file_extension": ".py",
   "mimetype": "text/x-python",
   "name": "python",
   "nbconvert_exporter": "python",
   "pygments_lexer": "ipython3",
   "version": "3.7.3"
  }
 },
 "nbformat": 4,
 "nbformat_minor": 2
}
